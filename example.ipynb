{
 "cells": [
  {
   "cell_type": "markdown",
   "metadata": {},
   "source": [
    "## Imports\n"
   ]
  },
  {
   "cell_type": "code",
   "execution_count": null,
   "metadata": {},
   "outputs": [],
   "source": [
    "import pandas as pd\n",
    "import matplotlib.pyplot as plt\n",
    "import matplotlib as mpl\n",
    "from matplotlib.colors import LogNorm\n",
    "from os.path import exists, dirname\n",
    "from dreem_nap import *\n",
    "from dreem_nap.study import *\n",
    "import os, sys\n",
    "\n",
    "import numpy as np\n",
    "import json\n",
    "import yaml\n",
    "\n",
    "import pickle\n",
    "from plotly.subplots import make_subplots\n",
    "import plotly.graph_objects as go\n",
    "from plotly.offline import download_plotlyjs, init_notebook_mode, plot, iplot\n",
    "\n",
    "import matplotlib.pyplot as plt\n",
    "from itertools import cycle\n",
    "from typing import Tuple, List\n",
    "import pandas as pd\n",
    "from plotly.subplots import make_subplots\n",
    "import plotly.graph_objects as go\n",
    "from plotly.offline import download_plotlyjs, init_notebook_mode, plot, iplot\n",
    "\n",
    "import scipy\n",
    "from scipy.optimize import curve_fit\n",
    "\n",
    "pd.options.mode.chained_assignment = None  # default='warn'\n",
    "\n",
    "# Config\n",
    "mpl.rcParams['figure.dpi'] = 100 # the highest the resolution, the slowest the plotting\n",
    "mpl.use('agg')\n",
    "\n",
    "\n",
    "study = Study(df= pd.read_csv('data.csv'), \n",
    "              min_cov_bases=1000,\n",
    "              filter_by='study')\n",
    "\n",
    "study.get_df().head()\n"
   ]
  },
  {
   "cell_type": "code",
   "execution_count": null,
   "metadata": {},
   "outputs": [],
   "source": [
    "out = study.mutation_fraction(sample=470,\n",
    "                               construct='3114-O-flank_1=hp7-DB',\n",
    "                               section='LAH',\n",
    "                               base_type=['A','C'])"
   ]
  },
  {
   "cell_type": "code",
   "execution_count": null,
   "metadata": {},
   "outputs": [],
   "source": [
    "out = study.deltaG_vs_mut_rates(sample=470,\n",
    "                        base_index=list(range(19,42)), \n",
    "                        base_type=['A','C'], \n",
    "                        family='hp7', \n",
    "                        deltaG='deltaG_min',\n",
    "                        savefile='test.html', \n",
    "                        models=['lambda x, a, b: a*x + b', 'lambda x, a, b: a*x**2 + b*x'],\n",
    "                        auto_open = False)"
   ]
  },
  {
   "cell_type": "code",
   "execution_count": null,
   "metadata": {},
   "outputs": [],
   "source": [
    "out = study.exp_variable_across_samples(\n",
    "                        construct=['3114-O-flank_1=hp7-DB'],\n",
    "                        base_index=list(range(19,42)), \n",
    "                        base_type=['A','C'],\n",
    "                        savefile='test.html', \n",
    "                        experimental_variable='temperature_k',\n",
    "                        models=['lambda x, a, b: a*x + b', 'lambda x, a, b: a*x**2 + b*x'],\n",
    "                        auto_open=False)"
   ]
  },
  {
   "cell_type": "code",
   "execution_count": null,
   "metadata": {},
   "outputs": [],
   "source": [
    "out = study.auc(\n",
    "        sample=[470, 472], \n",
    "        family=['hp7', 'cb8'], \n",
    "        base_type=['A','C'], \n",
    "        base_index=list(range(19,42)),\n",
    "        title='ROC of families hp7 and cb8 for hairpin MS2'\n",
    "        )"
   ]
  },
  {
   "cell_type": "code",
   "execution_count": null,
   "metadata": {},
   "outputs": [],
   "source": [
    "\n",
    "df = study.get_df()\n",
    "df = df[df['sample'] == 470]    \n",
    "df = df[df['construct'] == '3576-O-flank_1=bi6-cag-DB']\n",
    "df1 = df\n",
    "\n",
    "df = study.get_df()\n",
    "df = df[df['sample'] == 472]\n",
    "df = df[df['construct'] == '3576-O-flank_1=bi6-cag-DB']\n",
    "df2 = df\n",
    "\n",
    "df = pd.concat([df1, df2])\n",
    "df\n",
    "\n"
   ]
  },
  {
   "cell_type": "code",
   "execution_count": null,
   "metadata": {},
   "outputs": [],
   "source": [
    "study.mutation_fraction_delta(  \n",
    "                            sample0=470,\n",
    "                            sample1=472,   \n",
    "                            construct0='3576-O-flank_1=bi6-cag-DB',\n",
    "                            construct1='3576-O-flank_1=bi6-cag-DB',\n",
    "                            base_index0=list(range(19,42)),\n",
    "                            base_index1=list(range(19,42)),\n",
    "                            base_type0=['A','C'],\n",
    "                            base_type1=['A','C']\n",
    "                            )"
   ]
  },
  {
   "cell_type": "code",
   "execution_count": null,
   "metadata": {},
   "outputs": [],
   "source": []
  }
 ],
 "metadata": {
  "kernelspec": {
   "display_name": "Python 3.10.5 64-bit",
   "language": "python",
   "name": "python3"
  },
  "language_info": {
   "codemirror_mode": {
    "name": "ipython",
    "version": 3
   },
   "file_extension": ".py",
   "mimetype": "text/x-python",
   "name": "python",
   "nbconvert_exporter": "python",
   "pygments_lexer": "ipython3",
   "version": "3.10.5"
  },
  "orig_nbformat": 4,
  "vscode": {
   "interpreter": {
    "hash": "aee8b7b246df8f9039afb4144a1f6fd8d2ca17a180786b69acc140d282b71a49"
   }
  }
 },
 "nbformat": 4,
 "nbformat_minor": 2
}
