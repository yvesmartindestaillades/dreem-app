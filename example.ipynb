{
 "cells": [
  {
   "cell_type": "markdown",
   "metadata": {},
   "source": [
    "## Imports\n"
   ]
  },
  {
   "cell_type": "code",
   "execution_count": null,
   "metadata": {},
   "outputs": [],
   "source": [
    "import pandas as pd\n",
    "from dreem_nap import *\n",
    "from dreem_nap.study import Study\n",
    "\n",
    "study = Study(df= pd.read_csv('data.csv'), \n",
    "              min_cov_bases=1000,\n",
    "              filter_by='study')\n",
    "\n",
    "study.get_df().head()\n"
   ]
  },
  {
   "cell_type": "code",
   "execution_count": null,
   "metadata": {},
   "outputs": [],
   "source": [
    "out = study.mutation_fraction(sample=470,\n",
    "                               construct='3114-O-flank_1=hp7-DB',\n",
    "                               section='LAH',\n",
    "                               base_type=['A','C'])"
   ]
  },
  {
   "cell_type": "code",
   "execution_count": null,
   "metadata": {},
   "outputs": [],
   "source": [
    "out = study.deltaG_vs_mut_rates(sample=470,\n",
    "                        base_index=list(range(19,42)), \n",
    "                        base_type=['A','C'], \n",
    "                        family='hp7', \n",
    "                        deltaG='deltaG_min',\n",
    "                        savefile='test.html', \n",
    "                        models=['lambda x, a, b: a*x + b', 'lambda x, a, b: a*x**2 + b*x'],\n",
    "                        auto_open = False)"
   ]
  }
 ],
 "metadata": {
  "kernelspec": {
   "display_name": "Python 3.10.5 64-bit",
   "language": "python",
   "name": "python3"
  },
  "language_info": {
   "codemirror_mode": {
    "name": "ipython",
    "version": 3
   },
   "file_extension": ".py",
   "mimetype": "text/x-python",
   "name": "python",
   "nbconvert_exporter": "python",
   "pygments_lexer": "ipython3",
   "version": "3.10.5"
  },
  "orig_nbformat": 4,
  "vscode": {
   "interpreter": {
    "hash": "aee8b7b246df8f9039afb4144a1f6fd8d2ca17a180786b69acc140d282b71a49"
   }
  }
 },
 "nbformat": 4,
 "nbformat_minor": 2
}
