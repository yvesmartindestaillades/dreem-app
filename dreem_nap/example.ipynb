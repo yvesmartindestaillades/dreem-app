{
 "cells": [
  {
   "cell_type": "markdown",
   "metadata": {},
   "source": [
    "# REMOVE ME"
   ]
  },
  {
   "cell_type": "code",
   "execution_count": 1,
   "metadata": {},
   "outputs": [],
   "source": [
    "import sys\n",
    "path = '/Users/ymdt/src/dreem_nap/'\n",
    "sys.path.append(path)\n",
    "from dreem_nap.study import *"
   ]
  },
  {
   "cell_type": "markdown",
   "metadata": {},
   "source": [
    "## Imports\n"
   ]
  },
  {
   "cell_type": "code",
   "execution_count": 2,
   "metadata": {},
   "outputs": [
    {
     "data": {
      "text/html": [
       "<div>\n",
       "<style scoped>\n",
       "    .dataframe tbody tr th:only-of-type {\n",
       "        vertical-align: middle;\n",
       "    }\n",
       "\n",
       "    .dataframe tbody tr th {\n",
       "        vertical-align: top;\n",
       "    }\n",
       "\n",
       "    .dataframe thead th {\n",
       "        text-align: right;\n",
       "    }\n",
       "</style>\n",
       "<table border=\"1\" class=\"dataframe\">\n",
       "  <thead>\n",
       "    <tr style=\"text-align: right;\">\n",
       "      <th></th>\n",
       "      <th>sample</th>\n",
       "      <th>construct</th>\n",
       "      <th>sequence</th>\n",
       "      <th>structure</th>\n",
       "      <th>data_type</th>\n",
       "      <th>num_reads</th>\n",
       "      <th>num_aligned</th>\n",
       "      <th>num_of_mutations</th>\n",
       "      <th>mut_bases</th>\n",
       "      <th>info_bases</th>\n",
       "      <th>...</th>\n",
       "      <th>mod_bases_T</th>\n",
       "      <th>mut_rates</th>\n",
       "      <th>worst_cov_bases</th>\n",
       "      <th>section</th>\n",
       "      <th>cluster</th>\n",
       "      <th>family</th>\n",
       "      <th>structure_selected</th>\n",
       "      <th>deltaG_selected</th>\n",
       "      <th>index_selected</th>\n",
       "      <th>unique_id</th>\n",
       "    </tr>\n",
       "  </thead>\n",
       "  <tbody>\n",
       "    <tr>\n",
       "      <th>0</th>\n",
       "      <td>470</td>\n",
       "      <td>3114-O-flank_1=hp7-DB</td>\n",
       "      <td>TTAAACCGGCCAACATACCGCATATGAGGATCACCCATATGCTCGC...</td>\n",
       "      <td>......(((........)))((((((.((....))))))))...((...</td>\n",
       "      <td>DMS</td>\n",
       "      <td>2028</td>\n",
       "      <td>2017</td>\n",
       "      <td>[217, 466, 590, 423, 196, 82, 20, 5, 11, 5, 2,...</td>\n",
       "      <td>[0.0, 0.0, 0.0, 0.0, 0.0, 0.0, 0.0, 0.0, 1.0, ...</td>\n",
       "      <td>[1806.0, 1936.0, 1948.0, 2000.0, 2008.0, 2010....</td>\n",
       "      <td>...</td>\n",
       "      <td>[0.0, 0.0, 0.0, 0.0, 0.0, 0.0, 0.0, 0.0, 0.0, ...</td>\n",
       "      <td>[0.0, 0.0, 0.0, 0.0, 0.0, 0.0, 0.0, 0.0, 0.000...</td>\n",
       "      <td>1792.0</td>\n",
       "      <td>0</td>\n",
       "      <td>0</td>\n",
       "      <td>hp7</td>\n",
       "      <td>......(((........)))((((((.((....))))))))...((...</td>\n",
       "      <td>-23.9</td>\n",
       "      <td>[0, 1, 2, 3, 4, 5, 6, 7, 8, 9, 10, 11, 12, 13,...</td>\n",
       "      <td>470_3114-O-flank_1=hp7-DB</td>\n",
       "    </tr>\n",
       "    <tr>\n",
       "      <th>10</th>\n",
       "      <td>470</td>\n",
       "      <td>3136-O-flank_1=hp8-DB</td>\n",
       "      <td>TTAAACCGGCCAACATACCGCATATGAGGATCACCCATATGCTCCA...</td>\n",
       "      <td>............((((.(((((((((.((....))))))))).......</td>\n",
       "      <td>DMS</td>\n",
       "      <td>2330</td>\n",
       "      <td>2329</td>\n",
       "      <td>[222, 530, 639, 502, 275, 126, 26, 6, 2, 1, 0,...</td>\n",
       "      <td>[0.0, 0.0, 0.0, 0.0, 0.0, 0.0, 0.0, 0.0, 0.0, ...</td>\n",
       "      <td>[2126.0, 2254.0, 2270.0, 2309.0, 2314.0, 2316....</td>\n",
       "      <td>...</td>\n",
       "      <td>[0.0, 0.0, 0.0, 0.0, 0.0, 0.0, 0.0, 0.0, 0.0, ...</td>\n",
       "      <td>[0.0, 0.0, 0.0, 0.0, 0.0, 0.0, 0.0, 0.0, 0.0, ...</td>\n",
       "      <td>2115.0</td>\n",
       "      <td>0</td>\n",
       "      <td>0</td>\n",
       "      <td>hp8</td>\n",
       "      <td>............((((.(((((((((.((....))))))))).......</td>\n",
       "      <td>-17.6</td>\n",
       "      <td>[0, 1, 2, 3, 4, 5, 6, 7, 8, 9, 10, 11, 12, 13,...</td>\n",
       "      <td>470_3136-O-flank_1=hp8-DB</td>\n",
       "    </tr>\n",
       "    <tr>\n",
       "      <th>11</th>\n",
       "      <td>470</td>\n",
       "      <td>3193-O-flank_1=hp13-DB</td>\n",
       "      <td>TTAAACCGGCCAACATACCGCATATGAGGATCACCCATATGCTCTC...</td>\n",
       "      <td>......(((........)))((((((.((....))))))))........</td>\n",
       "      <td>DMS</td>\n",
       "      <td>4268</td>\n",
       "      <td>4261</td>\n",
       "      <td>[390, 951, 1206, 939, 501, 190, 60, 14, 2, 5, ...</td>\n",
       "      <td>[0.0, 0.0, 0.0, 0.0, 0.0, 0.0, 0.0, 0.0, 0.0, ...</td>\n",
       "      <td>[3876.0, 4095.0, 4124.0, 4226.0, 4247.0, 4251....</td>\n",
       "      <td>...</td>\n",
       "      <td>[0.0, 0.0, 0.0, 0.0, 0.0, 0.0, 0.0, 0.0, 0.0, ...</td>\n",
       "      <td>[0.0, 0.0, 0.0, 0.0, 0.0, 0.0, 0.0, 0.0, 0.0, ...</td>\n",
       "      <td>3796.0</td>\n",
       "      <td>0</td>\n",
       "      <td>0</td>\n",
       "      <td>hp13</td>\n",
       "      <td>......(((........)))((((((.((....))))))))........</td>\n",
       "      <td>-16.4</td>\n",
       "      <td>[0, 1, 2, 3, 4, 5, 6, 7, 8, 9, 10, 11, 12, 13,...</td>\n",
       "      <td>470_3193-O-flank_1=hp13-DB</td>\n",
       "    </tr>\n",
       "    <tr>\n",
       "      <th>13</th>\n",
       "      <td>470</td>\n",
       "      <td>3576-O-flank_1=bi6-cag-DB</td>\n",
       "      <td>TTAAACCGGCCAACATACCGCATATGAGGATCACCCATATGCTCGC...</td>\n",
       "      <td>......(((........)))((((((.((....))))))))...((...</td>\n",
       "      <td>DMS</td>\n",
       "      <td>2800</td>\n",
       "      <td>2798</td>\n",
       "      <td>[255, 652, 808, 612, 294, 127, 37, 10, 0, 3, 0...</td>\n",
       "      <td>[0.0, 0.0, 0.0, 0.0, 0.0, 0.0, 1.0, 0.0, 1.0, ...</td>\n",
       "      <td>[2516.0, 2670.0, 2700.0, 2774.0, 2787.0, 2788....</td>\n",
       "      <td>...</td>\n",
       "      <td>[0.0, 0.0, 0.0, 0.0, 0.0, 0.0, 0.0, 0.0, 0.0, ...</td>\n",
       "      <td>[0.0, 0.0, 0.0, 0.0, 0.0, 0.0, 0.00035868, 0.0...</td>\n",
       "      <td>2487.0</td>\n",
       "      <td>0</td>\n",
       "      <td>0</td>\n",
       "      <td>bi6</td>\n",
       "      <td>......(((........)))((((((.((....))))))))...((...</td>\n",
       "      <td>-17.7</td>\n",
       "      <td>[0, 1, 2, 3, 4, 5, 6, 7, 8, 9, 10, 11, 12, 13,...</td>\n",
       "      <td>470_3576-O-flank_1=bi6-cag-DB</td>\n",
       "    </tr>\n",
       "    <tr>\n",
       "      <th>16</th>\n",
       "      <td>470</td>\n",
       "      <td>3284-CC-flank_1=cb7-DB</td>\n",
       "      <td>TTAAACCGGCCAACATACCGCATATGAGGATCACCCATATGCTCGC...</td>\n",
       "      <td>......(((........)))((((((.((....))))))))...((...</td>\n",
       "      <td>DMS</td>\n",
       "      <td>2869</td>\n",
       "      <td>2860</td>\n",
       "      <td>[392, 823, 856, 498, 206, 54, 15, 6, 3, 3, 4, ...</td>\n",
       "      <td>[0.0, 0.0, 0.0, 2.0, 0.0, 0.0, 1.0, 0.0, 0.0, ...</td>\n",
       "      <td>[2617.0, 2742.0, 2766.0, 2836.0, 2851.0, 2854....</td>\n",
       "      <td>...</td>\n",
       "      <td>[0.0, 0.0, 0.0, 0.0, 0.0, 0.0, 1.0, 0.0, 0.0, ...</td>\n",
       "      <td>[0.0, 0.0, 0.0, 0.00070522, 0.0, 0.0, 0.000350...</td>\n",
       "      <td>2244.0</td>\n",
       "      <td>0</td>\n",
       "      <td>0</td>\n",
       "      <td>cb7</td>\n",
       "      <td>......(((........)))((((((.((....))))))))...((...</td>\n",
       "      <td>-23.5</td>\n",
       "      <td>[0, 1, 2, 3, 4, 5, 6, 7, 8, 9, 10, 11, 12, 13,...</td>\n",
       "      <td>470_3284-CC-flank_1=cb7-DB</td>\n",
       "    </tr>\n",
       "  </tbody>\n",
       "</table>\n",
       "<p>5 rows × 93 columns</p>\n",
       "</div>"
      ],
      "text/plain": [
       "    sample                  construct  \\\n",
       "0      470      3114-O-flank_1=hp7-DB   \n",
       "10     470      3136-O-flank_1=hp8-DB   \n",
       "11     470     3193-O-flank_1=hp13-DB   \n",
       "13     470  3576-O-flank_1=bi6-cag-DB   \n",
       "16     470     3284-CC-flank_1=cb7-DB   \n",
       "\n",
       "                                             sequence  \\\n",
       "0   TTAAACCGGCCAACATACCGCATATGAGGATCACCCATATGCTCGC...   \n",
       "10  TTAAACCGGCCAACATACCGCATATGAGGATCACCCATATGCTCCA...   \n",
       "11  TTAAACCGGCCAACATACCGCATATGAGGATCACCCATATGCTCTC...   \n",
       "13  TTAAACCGGCCAACATACCGCATATGAGGATCACCCATATGCTCGC...   \n",
       "16  TTAAACCGGCCAACATACCGCATATGAGGATCACCCATATGCTCGC...   \n",
       "\n",
       "                                            structure data_type  num_reads  \\\n",
       "0   ......(((........)))((((((.((....))))))))...((...       DMS       2028   \n",
       "10  ............((((.(((((((((.((....))))))))).......       DMS       2330   \n",
       "11  ......(((........)))((((((.((....))))))))........       DMS       4268   \n",
       "13  ......(((........)))((((((.((....))))))))...((...       DMS       2800   \n",
       "16  ......(((........)))((((((.((....))))))))...((...       DMS       2869   \n",
       "\n",
       "    num_aligned                                   num_of_mutations  \\\n",
       "0          2017  [217, 466, 590, 423, 196, 82, 20, 5, 11, 5, 2,...   \n",
       "10         2329  [222, 530, 639, 502, 275, 126, 26, 6, 2, 1, 0,...   \n",
       "11         4261  [390, 951, 1206, 939, 501, 190, 60, 14, 2, 5, ...   \n",
       "13         2798  [255, 652, 808, 612, 294, 127, 37, 10, 0, 3, 0...   \n",
       "16         2860  [392, 823, 856, 498, 206, 54, 15, 6, 3, 3, 4, ...   \n",
       "\n",
       "                                            mut_bases  \\\n",
       "0   [0.0, 0.0, 0.0, 0.0, 0.0, 0.0, 0.0, 0.0, 1.0, ...   \n",
       "10  [0.0, 0.0, 0.0, 0.0, 0.0, 0.0, 0.0, 0.0, 0.0, ...   \n",
       "11  [0.0, 0.0, 0.0, 0.0, 0.0, 0.0, 0.0, 0.0, 0.0, ...   \n",
       "13  [0.0, 0.0, 0.0, 0.0, 0.0, 0.0, 1.0, 0.0, 1.0, ...   \n",
       "16  [0.0, 0.0, 0.0, 2.0, 0.0, 0.0, 1.0, 0.0, 0.0, ...   \n",
       "\n",
       "                                           info_bases  ...  \\\n",
       "0   [1806.0, 1936.0, 1948.0, 2000.0, 2008.0, 2010....  ...   \n",
       "10  [2126.0, 2254.0, 2270.0, 2309.0, 2314.0, 2316....  ...   \n",
       "11  [3876.0, 4095.0, 4124.0, 4226.0, 4247.0, 4251....  ...   \n",
       "13  [2516.0, 2670.0, 2700.0, 2774.0, 2787.0, 2788....  ...   \n",
       "16  [2617.0, 2742.0, 2766.0, 2836.0, 2851.0, 2854....  ...   \n",
       "\n",
       "                                          mod_bases_T  \\\n",
       "0   [0.0, 0.0, 0.0, 0.0, 0.0, 0.0, 0.0, 0.0, 0.0, ...   \n",
       "10  [0.0, 0.0, 0.0, 0.0, 0.0, 0.0, 0.0, 0.0, 0.0, ...   \n",
       "11  [0.0, 0.0, 0.0, 0.0, 0.0, 0.0, 0.0, 0.0, 0.0, ...   \n",
       "13  [0.0, 0.0, 0.0, 0.0, 0.0, 0.0, 0.0, 0.0, 0.0, ...   \n",
       "16  [0.0, 0.0, 0.0, 0.0, 0.0, 0.0, 1.0, 0.0, 0.0, ...   \n",
       "\n",
       "                                            mut_rates worst_cov_bases  \\\n",
       "0   [0.0, 0.0, 0.0, 0.0, 0.0, 0.0, 0.0, 0.0, 0.000...          1792.0   \n",
       "10  [0.0, 0.0, 0.0, 0.0, 0.0, 0.0, 0.0, 0.0, 0.0, ...          2115.0   \n",
       "11  [0.0, 0.0, 0.0, 0.0, 0.0, 0.0, 0.0, 0.0, 0.0, ...          3796.0   \n",
       "13  [0.0, 0.0, 0.0, 0.0, 0.0, 0.0, 0.00035868, 0.0...          2487.0   \n",
       "16  [0.0, 0.0, 0.0, 0.00070522, 0.0, 0.0, 0.000350...          2244.0   \n",
       "\n",
       "    section  cluster family  \\\n",
       "0         0        0    hp7   \n",
       "10        0        0    hp8   \n",
       "11        0        0   hp13   \n",
       "13        0        0    bi6   \n",
       "16        0        0    cb7   \n",
       "\n",
       "                                   structure_selected deltaG_selected  \\\n",
       "0   ......(((........)))((((((.((....))))))))...((...           -23.9   \n",
       "10  ............((((.(((((((((.((....))))))))).......           -17.6   \n",
       "11  ......(((........)))((((((.((....))))))))........           -16.4   \n",
       "13  ......(((........)))((((((.((....))))))))...((...           -17.7   \n",
       "16  ......(((........)))((((((.((....))))))))...((...           -23.5   \n",
       "\n",
       "                                       index_selected  \\\n",
       "0   [0, 1, 2, 3, 4, 5, 6, 7, 8, 9, 10, 11, 12, 13,...   \n",
       "10  [0, 1, 2, 3, 4, 5, 6, 7, 8, 9, 10, 11, 12, 13,...   \n",
       "11  [0, 1, 2, 3, 4, 5, 6, 7, 8, 9, 10, 11, 12, 13,...   \n",
       "13  [0, 1, 2, 3, 4, 5, 6, 7, 8, 9, 10, 11, 12, 13,...   \n",
       "16  [0, 1, 2, 3, 4, 5, 6, 7, 8, 9, 10, 11, 12, 13,...   \n",
       "\n",
       "                        unique_id  \n",
       "0       470_3114-O-flank_1=hp7-DB  \n",
       "10      470_3136-O-flank_1=hp8-DB  \n",
       "11     470_3193-O-flank_1=hp13-DB  \n",
       "13  470_3576-O-flank_1=bi6-cag-DB  \n",
       "16     470_3284-CC-flank_1=cb7-DB  \n",
       "\n",
       "[5 rows x 93 columns]"
      ]
     },
     "execution_count": 2,
     "metadata": {},
     "output_type": "execute_result"
    }
   ],
   "source": [
    "import pandas as pd\n",
    "import matplotlib.pyplot as plt\n",
    "import matplotlib as mpl\n",
    "from matplotlib.colors import LogNorm\n",
    "from os.path import exists, dirname\n",
    "\n",
    "\n",
    "import os, sys\n",
    "\n",
    "import numpy as np\n",
    "import seaborn as sns\n",
    "import json\n",
    "import yaml\n",
    "\n",
    "import pickle\n",
    "from plotly.subplots import make_subplots\n",
    "import plotly.graph_objects as go\n",
    "from plotly.offline import download_plotlyjs, init_notebook_mode, plot, iplot\n",
    "\n",
    "import matplotlib.pyplot as plt\n",
    "from itertools import cycle\n",
    "from typing import Tuple, List\n",
    "import pandas as pd\n",
    "from plotly.subplots import make_subplots\n",
    "import plotly.graph_objects as go\n",
    "from plotly.offline import download_plotlyjs, init_notebook_mode, plot, iplot\n",
    "\n",
    "import scipy\n",
    "from scipy.optimize import curve_fit\n",
    "\n",
    "pd.options.mode.chained_assignment = None  # default='warn'\n",
    "\n",
    "# Config\n",
    "mpl.rcParams['figure.dpi'] = 100 # the highest the resolution, the slowest the plotting\n",
    "mpl.use('agg')\n",
    "\n",
    "\n",
    "study = Study(df= pd.read_csv('/Users/ymdt/src/dreem_nap/analysis/Lauren/lauren.csv'), \n",
    "              min_cov_bases=1000,\n",
    "              filter_by='study')\n",
    "\n",
    "study.get_df().head()\n"
   ]
  },
  {
   "cell_type": "code",
   "execution_count": 3,
   "metadata": {},
   "outputs": [
    {
     "data": {
      "application/vnd.plotly.v1+json": {
       "config": {
        "linkText": "Export to plot.ly",
        "plotlyServerURL": "https://plot.ly",
        "showLink": false
       },
       "data": [
        {
         "error_y": {
          "array": [
           0.00713194,
           0.00673594,
           0.00529645,
           0.00447035,
           0.00453526,
           0.01228434
          ],
          "arrayminus": [
           0.00605628,
           0.00565782,
           0.00420584,
           0.00336831,
           0.00343429,
           0.01122544
          ],
          "symmetric": false,
          "type": "data"
         },
         "hovertemplate": "<b>mut_rate: %{text[0]}<br><b>base: %{text[1]}<br><b>index: %{text[2]}<br><b>paired: %{text[3]}<br>",
         "marker": {
          "color": "blue"
         },
         "name": "C",
         "text": [
          [
           0.02975977,
           "C",
           33,
           false
          ],
          [
           0.02617426,
           "C",
           34,
           false
          ],
          [
           0.01505916,
           "C",
           35,
           false
          ],
          [
           0.01003944,
           "C",
           41,
           true
          ],
          [
           0.01039799,
           "C",
           20,
           false
          ],
          [
           0.09716744,
           "C",
           31,
           true
          ]
         ],
         "type": "bar",
         "x": [
          1,
          2,
          3,
          6,
          7,
          12
         ],
         "y": [
          0.02975977,
          0.02617426,
          0.01505916,
          0.01003944,
          0.01039799,
          0.09716744
         ]
        },
        {
         "error_y": {
          "array": [
           0.00903747,
           0.00472372,
           0.00529645,
           0.00545484,
           0.00555756,
           0.00894816,
           0.01162629
          ],
          "arrayminus": [
           0.00797039,
           0.00362568,
           0.00420584,
           0.00436597,
           0.00446976,
           0.00788077,
           0.01056611
          ],
          "symmetric": false,
          "type": "data"
         },
         "hovertemplate": "<b>mut_rate: %{text[0]}<br><b>base: %{text[1]}<br><b>index: %{text[2]}<br><b>paired: %{text[3]}<br>",
         "marker": {
          "color": "red"
         },
         "name": "A",
         "text": [
          [
           0.0501972,
           "A",
           32,
           true
          ],
          [
           0.01147365,
           "A",
           36,
           false
          ],
          [
           0.01505916,
           "A",
           38,
           false
          ],
          [
           0.01613482,
           "A",
           21,
           false
          ],
          [
           0.01685192,
           "A",
           23,
           false
          ],
          [
           0.04912155,
           "A",
           26,
           true
          ],
          [
           0.0864109,
           "A",
           29,
           true
          ]
         ],
         "type": "bar",
         "x": [
          0,
          4,
          5,
          8,
          9,
          10,
          11
         ],
         "y": [
          0.0501972,
          0.01147365,
          0.01505916,
          0.01613482,
          0.01685192,
          0.04912155,
          0.0864109
         ]
        }
       ],
       "layout": {
        "template": {
         "data": {
          "bar": [
           {
            "error_x": {
             "color": "#2a3f5f"
            },
            "error_y": {
             "color": "#2a3f5f"
            },
            "marker": {
             "line": {
              "color": "#E5ECF6",
              "width": 0.5
             },
             "pattern": {
              "fillmode": "overlay",
              "size": 10,
              "solidity": 0.2
             }
            },
            "type": "bar"
           }
          ],
          "barpolar": [
           {
            "marker": {
             "line": {
              "color": "#E5ECF6",
              "width": 0.5
             },
             "pattern": {
              "fillmode": "overlay",
              "size": 10,
              "solidity": 0.2
             }
            },
            "type": "barpolar"
           }
          ],
          "carpet": [
           {
            "aaxis": {
             "endlinecolor": "#2a3f5f",
             "gridcolor": "white",
             "linecolor": "white",
             "minorgridcolor": "white",
             "startlinecolor": "#2a3f5f"
            },
            "baxis": {
             "endlinecolor": "#2a3f5f",
             "gridcolor": "white",
             "linecolor": "white",
             "minorgridcolor": "white",
             "startlinecolor": "#2a3f5f"
            },
            "type": "carpet"
           }
          ],
          "choropleth": [
           {
            "colorbar": {
             "outlinewidth": 0,
             "ticks": ""
            },
            "type": "choropleth"
           }
          ],
          "contour": [
           {
            "colorbar": {
             "outlinewidth": 0,
             "ticks": ""
            },
            "colorscale": [
             [
              0,
              "#0d0887"
             ],
             [
              0.1111111111111111,
              "#46039f"
             ],
             [
              0.2222222222222222,
              "#7201a8"
             ],
             [
              0.3333333333333333,
              "#9c179e"
             ],
             [
              0.4444444444444444,
              "#bd3786"
             ],
             [
              0.5555555555555556,
              "#d8576b"
             ],
             [
              0.6666666666666666,
              "#ed7953"
             ],
             [
              0.7777777777777778,
              "#fb9f3a"
             ],
             [
              0.8888888888888888,
              "#fdca26"
             ],
             [
              1,
              "#f0f921"
             ]
            ],
            "type": "contour"
           }
          ],
          "contourcarpet": [
           {
            "colorbar": {
             "outlinewidth": 0,
             "ticks": ""
            },
            "type": "contourcarpet"
           }
          ],
          "heatmap": [
           {
            "colorbar": {
             "outlinewidth": 0,
             "ticks": ""
            },
            "colorscale": [
             [
              0,
              "#0d0887"
             ],
             [
              0.1111111111111111,
              "#46039f"
             ],
             [
              0.2222222222222222,
              "#7201a8"
             ],
             [
              0.3333333333333333,
              "#9c179e"
             ],
             [
              0.4444444444444444,
              "#bd3786"
             ],
             [
              0.5555555555555556,
              "#d8576b"
             ],
             [
              0.6666666666666666,
              "#ed7953"
             ],
             [
              0.7777777777777778,
              "#fb9f3a"
             ],
             [
              0.8888888888888888,
              "#fdca26"
             ],
             [
              1,
              "#f0f921"
             ]
            ],
            "type": "heatmap"
           }
          ],
          "heatmapgl": [
           {
            "colorbar": {
             "outlinewidth": 0,
             "ticks": ""
            },
            "colorscale": [
             [
              0,
              "#0d0887"
             ],
             [
              0.1111111111111111,
              "#46039f"
             ],
             [
              0.2222222222222222,
              "#7201a8"
             ],
             [
              0.3333333333333333,
              "#9c179e"
             ],
             [
              0.4444444444444444,
              "#bd3786"
             ],
             [
              0.5555555555555556,
              "#d8576b"
             ],
             [
              0.6666666666666666,
              "#ed7953"
             ],
             [
              0.7777777777777778,
              "#fb9f3a"
             ],
             [
              0.8888888888888888,
              "#fdca26"
             ],
             [
              1,
              "#f0f921"
             ]
            ],
            "type": "heatmapgl"
           }
          ],
          "histogram": [
           {
            "marker": {
             "pattern": {
              "fillmode": "overlay",
              "size": 10,
              "solidity": 0.2
             }
            },
            "type": "histogram"
           }
          ],
          "histogram2d": [
           {
            "colorbar": {
             "outlinewidth": 0,
             "ticks": ""
            },
            "colorscale": [
             [
              0,
              "#0d0887"
             ],
             [
              0.1111111111111111,
              "#46039f"
             ],
             [
              0.2222222222222222,
              "#7201a8"
             ],
             [
              0.3333333333333333,
              "#9c179e"
             ],
             [
              0.4444444444444444,
              "#bd3786"
             ],
             [
              0.5555555555555556,
              "#d8576b"
             ],
             [
              0.6666666666666666,
              "#ed7953"
             ],
             [
              0.7777777777777778,
              "#fb9f3a"
             ],
             [
              0.8888888888888888,
              "#fdca26"
             ],
             [
              1,
              "#f0f921"
             ]
            ],
            "type": "histogram2d"
           }
          ],
          "histogram2dcontour": [
           {
            "colorbar": {
             "outlinewidth": 0,
             "ticks": ""
            },
            "colorscale": [
             [
              0,
              "#0d0887"
             ],
             [
              0.1111111111111111,
              "#46039f"
             ],
             [
              0.2222222222222222,
              "#7201a8"
             ],
             [
              0.3333333333333333,
              "#9c179e"
             ],
             [
              0.4444444444444444,
              "#bd3786"
             ],
             [
              0.5555555555555556,
              "#d8576b"
             ],
             [
              0.6666666666666666,
              "#ed7953"
             ],
             [
              0.7777777777777778,
              "#fb9f3a"
             ],
             [
              0.8888888888888888,
              "#fdca26"
             ],
             [
              1,
              "#f0f921"
             ]
            ],
            "type": "histogram2dcontour"
           }
          ],
          "mesh3d": [
           {
            "colorbar": {
             "outlinewidth": 0,
             "ticks": ""
            },
            "type": "mesh3d"
           }
          ],
          "parcoords": [
           {
            "line": {
             "colorbar": {
              "outlinewidth": 0,
              "ticks": ""
             }
            },
            "type": "parcoords"
           }
          ],
          "pie": [
           {
            "automargin": true,
            "type": "pie"
           }
          ],
          "scatter": [
           {
            "fillpattern": {
             "fillmode": "overlay",
             "size": 10,
             "solidity": 0.2
            },
            "type": "scatter"
           }
          ],
          "scatter3d": [
           {
            "line": {
             "colorbar": {
              "outlinewidth": 0,
              "ticks": ""
             }
            },
            "marker": {
             "colorbar": {
              "outlinewidth": 0,
              "ticks": ""
             }
            },
            "type": "scatter3d"
           }
          ],
          "scattercarpet": [
           {
            "marker": {
             "colorbar": {
              "outlinewidth": 0,
              "ticks": ""
             }
            },
            "type": "scattercarpet"
           }
          ],
          "scattergeo": [
           {
            "marker": {
             "colorbar": {
              "outlinewidth": 0,
              "ticks": ""
             }
            },
            "type": "scattergeo"
           }
          ],
          "scattergl": [
           {
            "marker": {
             "colorbar": {
              "outlinewidth": 0,
              "ticks": ""
             }
            },
            "type": "scattergl"
           }
          ],
          "scattermapbox": [
           {
            "marker": {
             "colorbar": {
              "outlinewidth": 0,
              "ticks": ""
             }
            },
            "type": "scattermapbox"
           }
          ],
          "scatterpolar": [
           {
            "marker": {
             "colorbar": {
              "outlinewidth": 0,
              "ticks": ""
             }
            },
            "type": "scatterpolar"
           }
          ],
          "scatterpolargl": [
           {
            "marker": {
             "colorbar": {
              "outlinewidth": 0,
              "ticks": ""
             }
            },
            "type": "scatterpolargl"
           }
          ],
          "scatterternary": [
           {
            "marker": {
             "colorbar": {
              "outlinewidth": 0,
              "ticks": ""
             }
            },
            "type": "scatterternary"
           }
          ],
          "surface": [
           {
            "colorbar": {
             "outlinewidth": 0,
             "ticks": ""
            },
            "colorscale": [
             [
              0,
              "#0d0887"
             ],
             [
              0.1111111111111111,
              "#46039f"
             ],
             [
              0.2222222222222222,
              "#7201a8"
             ],
             [
              0.3333333333333333,
              "#9c179e"
             ],
             [
              0.4444444444444444,
              "#bd3786"
             ],
             [
              0.5555555555555556,
              "#d8576b"
             ],
             [
              0.6666666666666666,
              "#ed7953"
             ],
             [
              0.7777777777777778,
              "#fb9f3a"
             ],
             [
              0.8888888888888888,
              "#fdca26"
             ],
             [
              1,
              "#f0f921"
             ]
            ],
            "type": "surface"
           }
          ],
          "table": [
           {
            "cells": {
             "fill": {
              "color": "#EBF0F8"
             },
             "line": {
              "color": "white"
             }
            },
            "header": {
             "fill": {
              "color": "#C8D4E3"
             },
             "line": {
              "color": "white"
             }
            },
            "type": "table"
           }
          ]
         },
         "layout": {
          "annotationdefaults": {
           "arrowcolor": "#2a3f5f",
           "arrowhead": 0,
           "arrowwidth": 1
          },
          "autotypenumbers": "strict",
          "coloraxis": {
           "colorbar": {
            "outlinewidth": 0,
            "ticks": ""
           }
          },
          "colorscale": {
           "diverging": [
            [
             0,
             "#8e0152"
            ],
            [
             0.1,
             "#c51b7d"
            ],
            [
             0.2,
             "#de77ae"
            ],
            [
             0.3,
             "#f1b6da"
            ],
            [
             0.4,
             "#fde0ef"
            ],
            [
             0.5,
             "#f7f7f7"
            ],
            [
             0.6,
             "#e6f5d0"
            ],
            [
             0.7,
             "#b8e186"
            ],
            [
             0.8,
             "#7fbc41"
            ],
            [
             0.9,
             "#4d9221"
            ],
            [
             1,
             "#276419"
            ]
           ],
           "sequential": [
            [
             0,
             "#0d0887"
            ],
            [
             0.1111111111111111,
             "#46039f"
            ],
            [
             0.2222222222222222,
             "#7201a8"
            ],
            [
             0.3333333333333333,
             "#9c179e"
            ],
            [
             0.4444444444444444,
             "#bd3786"
            ],
            [
             0.5555555555555556,
             "#d8576b"
            ],
            [
             0.6666666666666666,
             "#ed7953"
            ],
            [
             0.7777777777777778,
             "#fb9f3a"
            ],
            [
             0.8888888888888888,
             "#fdca26"
            ],
            [
             1,
             "#f0f921"
            ]
           ],
           "sequentialminus": [
            [
             0,
             "#0d0887"
            ],
            [
             0.1111111111111111,
             "#46039f"
            ],
            [
             0.2222222222222222,
             "#7201a8"
            ],
            [
             0.3333333333333333,
             "#9c179e"
            ],
            [
             0.4444444444444444,
             "#bd3786"
            ],
            [
             0.5555555555555556,
             "#d8576b"
            ],
            [
             0.6666666666666666,
             "#ed7953"
            ],
            [
             0.7777777777777778,
             "#fb9f3a"
            ],
            [
             0.8888888888888888,
             "#fdca26"
            ],
            [
             1,
             "#f0f921"
            ]
           ]
          },
          "colorway": [
           "#636efa",
           "#EF553B",
           "#00cc96",
           "#ab63fa",
           "#FFA15A",
           "#19d3f3",
           "#FF6692",
           "#B6E880",
           "#FF97FF",
           "#FECB52"
          ],
          "font": {
           "color": "#2a3f5f"
          },
          "geo": {
           "bgcolor": "white",
           "lakecolor": "white",
           "landcolor": "#E5ECF6",
           "showlakes": true,
           "showland": true,
           "subunitcolor": "white"
          },
          "hoverlabel": {
           "align": "left"
          },
          "hovermode": "closest",
          "mapbox": {
           "style": "light"
          },
          "paper_bgcolor": "white",
          "plot_bgcolor": "#E5ECF6",
          "polar": {
           "angularaxis": {
            "gridcolor": "white",
            "linecolor": "white",
            "ticks": ""
           },
           "bgcolor": "#E5ECF6",
           "radialaxis": {
            "gridcolor": "white",
            "linecolor": "white",
            "ticks": ""
           }
          },
          "scene": {
           "xaxis": {
            "backgroundcolor": "#E5ECF6",
            "gridcolor": "white",
            "gridwidth": 2,
            "linecolor": "white",
            "showbackground": true,
            "ticks": "",
            "zerolinecolor": "white"
           },
           "yaxis": {
            "backgroundcolor": "#E5ECF6",
            "gridcolor": "white",
            "gridwidth": 2,
            "linecolor": "white",
            "showbackground": true,
            "ticks": "",
            "zerolinecolor": "white"
           },
           "zaxis": {
            "backgroundcolor": "#E5ECF6",
            "gridcolor": "white",
            "gridwidth": 2,
            "linecolor": "white",
            "showbackground": true,
            "ticks": "",
            "zerolinecolor": "white"
           }
          },
          "shapedefaults": {
           "line": {
            "color": "#2a3f5f"
           }
          },
          "ternary": {
           "aaxis": {
            "gridcolor": "white",
            "linecolor": "white",
            "ticks": ""
           },
           "baxis": {
            "gridcolor": "white",
            "linecolor": "white",
            "ticks": ""
           },
           "bgcolor": "#E5ECF6",
           "caxis": {
            "gridcolor": "white",
            "linecolor": "white",
            "ticks": ""
           }
          },
          "title": {
           "x": 0.05
          },
          "xaxis": {
           "automargin": true,
           "gridcolor": "white",
           "linecolor": "white",
           "ticks": "",
           "title": {
            "standoff": 15
           },
           "zerolinecolor": "white",
           "zerolinewidth": 2
          },
          "yaxis": {
           "automargin": true,
           "gridcolor": "white",
           "linecolor": "white",
           "ticks": "",
           "title": {
            "standoff": 15
           },
           "zerolinecolor": "white",
           "zerolinewidth": 2
          }
         }
        },
        "title": {
         "text": "470 - 3576-O-flank_1=bi6-cag-DB - 0 - 0"
        },
        "xaxis": {
         "autorange": true,
         "linecolor": "black",
         "linewidth": 1,
         "mirror": true,
         "tickangle": 90,
         "ticktext": [
          "(P) 32",
          "(U) 33",
          "(U) 34",
          "(U) 35",
          "(U) 36",
          "(U) 38",
          "(P) 41",
          "(U) 20",
          "(U) 21",
          "(U) 23",
          "(P) 26",
          "(P) 29",
          "(P) 31"
         ],
         "tickvals": [
          0,
          1,
          2,
          3,
          4,
          5,
          6,
          7,
          8,
          9,
          10,
          11,
          12
         ],
         "title": {
          "text": "Sequence"
         }
        },
        "yaxis": {
         "autorange": true,
         "gridcolor": "lightgray",
         "linecolor": "black",
         "linewidth": 1,
         "mirror": true,
         "range": [
          0,
          0.1
         ],
         "title": {
          "text": "Mutation rate"
         }
        }
       }
      }
     },
     "metadata": {},
     "output_type": "display_data"
    }
   ],
   "source": [
    "out = study.mutation_fraction(sample=470,\n",
    "                               construct='3576-O-flank_1=bi6-cag-DB',\n",
    "                               base_index=list(range(19,42)), \n",
    "                               base_type=['A','C'])"
   ]
  },
  {
   "cell_type": "code",
   "execution_count": 4,
   "metadata": {},
   "outputs": [
    {
     "data": {
      "application/vnd.plotly.v1+json": {
       "config": {
        "linkText": "Export to plot.ly",
        "plotlyServerURL": "https://plot.ly",
        "showLink": false
       },
       "data": [
        {
         "hovertemplate": "<b>num_reads: %{text[0]}<br><b>mut_rates: %{text[1]}<br><b>base: %{text[2]}<br><b>index: %{text[3]}<br><b>construct: %{text[4]}<br><b>deltaG: %{text[5]}<br>",
         "line": {
          "color": "green"
         },
         "marker": {
          "size": [
           10.14,
           10.14,
           10.14,
           10.14,
           10.14,
           10.14,
           10.14,
           10.14,
           11.125,
           11.125,
           11.125,
           11.125,
           11.125,
           11.125,
           11.125,
           11.125,
           27.175,
           27.175,
           27.175,
           27.175,
           27.175,
           27.175,
           27.175,
           27.175,
           27.175,
           43.035,
           43.035,
           43.035,
           43.035,
           43.035,
           43.035,
           43.035,
           43.035,
           43.035
          ]
         },
         "mode": "markers",
         "name": "Paired ",
         "text": [
          [
           2028,
           0.01838053,
           "C",
           33,
           "3114-O-flank_1=hp7-DB",
           -23.9
          ],
          [
           2028,
           0.01142573,
           "C",
           34,
           "3114-O-flank_1=hp7-DB",
           -23.9
          ],
          [
           2028,
           0.00645802,
           "C",
           35,
           "3114-O-flank_1=hp7-DB",
           -23.9
          ],
          [
           2028,
           0.00844511,
           "A",
           36,
           "3114-O-flank_1=hp7-DB",
           -23.9
          ],
          [
           2028,
           0.00844511,
           "A",
           38,
           "3114-O-flank_1=hp7-DB",
           -23.9
          ],
          [
           2028,
           0.00596125,
           "C",
           20,
           "3114-O-flank_1=hp7-DB",
           -23.9
          ],
          [
           2028,
           0.01142573,
           "A",
           21,
           "3114-O-flank_1=hp7-DB",
           -23.9
          ],
          [
           2028,
           0.00894188,
           "A",
           23,
           "3114-O-flank_1=hp7-DB",
           -23.9
          ],
          [
           2225,
           0.02344454,
           "C",
           33,
           "3125-O-flank_1=hp7-DB",
           -14
          ],
          [
           2225,
           0.00946799,
           "C",
           34,
           "3125-O-flank_1=hp7-DB",
           -14
          ],
          [
           2225,
           0.00946372,
           "C",
           35,
           "3125-O-flank_1=hp7-DB",
           -14
          ],
          [
           2225,
           0.00766111,
           "A",
           36,
           "3125-O-flank_1=hp7-DB",
           -14
          ],
          [
           2225,
           0.01892744,
           "A",
           38,
           "3125-O-flank_1=hp7-DB",
           -14
          ],
          [
           2225,
           0.00405771,
           "C",
           20,
           "3125-O-flank_1=hp7-DB",
           -14
          ],
          [
           2225,
           0.0135257,
           "A",
           21,
           "3125-O-flank_1=hp7-DB",
           -14
          ],
          [
           2225,
           0.01307484,
           "A",
           23,
           "3125-O-flank_1=hp7-DB",
           -14
          ],
          [
           5435,
           0.01902475,
           "C",
           33,
           "3123-O-flank_1=hp7-DB",
           -15.5
          ],
          [
           5435,
           0.01200369,
           "C",
           34,
           "3123-O-flank_1=hp7-DB",
           -15.5
          ],
          [
           5435,
           0.01089566,
           "C",
           35,
           "3123-O-flank_1=hp7-DB",
           -15.5
          ],
          [
           5435,
           0.00941828,
           "A",
           36,
           "3123-O-flank_1=hp7-DB",
           -15.5
          ],
          [
           5435,
           0.01181684,
           "A",
           38,
           "3123-O-flank_1=hp7-DB",
           -15.5
          ],
          [
           5435,
           0.01144756,
           "C",
           41,
           "3123-O-flank_1=hp7-DB",
           -15.5
          ],
          [
           5435,
           0.0088659,
           "C",
           20,
           "3123-O-flank_1=hp7-DB",
           -15.5
          ],
          [
           5435,
           0.02031769,
           "A",
           21,
           "3123-O-flank_1=hp7-DB",
           -15.5
          ],
          [
           5435,
           0.01680827,
           "A",
           23,
           "3123-O-flank_1=hp7-DB",
           -15.5
          ],
          [
           8607,
           0.02307411,
           "C",
           33,
           "3122-O-flank_1=hp7-DB",
           -18.1
          ],
          [
           8607,
           0.0074472,
           "C",
           34,
           "3122-O-flank_1=hp7-DB",
           -18.1
          ],
          [
           8607,
           0.00781155,
           "C",
           35,
           "3122-O-flank_1=hp7-DB",
           -18.1
          ],
          [
           8607,
           0.01098499,
           "A",
           36,
           "3122-O-flank_1=hp7-DB",
           -18.1
          ],
          [
           8607,
           0.01403295,
           "A",
           38,
           "3122-O-flank_1=hp7-DB",
           -18.1
          ],
          [
           8607,
           0.01439902,
           "C",
           41,
           "3122-O-flank_1=hp7-DB",
           -18.1
          ],
          [
           8607,
           0.00720655,
           "C",
           20,
           "3122-O-flank_1=hp7-DB",
           -18.1
          ],
          [
           8607,
           0.01636741,
           "A",
           21,
           "3122-O-flank_1=hp7-DB",
           -18.1
          ],
          [
           8607,
           0.01477772,
           "A",
           23,
           "3122-O-flank_1=hp7-DB",
           -18.1
          ]
         ],
         "type": "scatter",
         "x": [
          -23.9,
          -23.9,
          -23.9,
          -23.9,
          -23.9,
          -23.9,
          -23.9,
          -23.9,
          -14,
          -14,
          -14,
          -14,
          -14,
          -14,
          -14,
          -14,
          -15.5,
          -15.5,
          -15.5,
          -15.5,
          -15.5,
          -15.5,
          -15.5,
          -15.5,
          -15.5,
          -18.1,
          -18.1,
          -18.1,
          -18.1,
          -18.1,
          -18.1,
          -18.1,
          -18.1,
          -18.1
         ],
         "y": [
          0.01838053,
          0.01142573,
          0.00645802,
          0.00844511,
          0.00844511,
          0.00596125,
          0.01142573,
          0.00894188,
          0.02344454,
          0.00946799,
          0.00946372,
          0.00766111,
          0.01892744,
          0.00405771,
          0.0135257,
          0.01307484,
          0.01902475,
          0.01200369,
          0.01089566,
          0.00941828,
          0.01181684,
          0.01144756,
          0.0088659,
          0.02031769,
          0.01680827,
          0.02307411,
          0.0074472,
          0.00781155,
          0.01098499,
          0.01403295,
          0.01439902,
          0.00720655,
          0.01636741,
          0.01477772
         ]
        },
        {
         "line": {
          "color": "darkseagreen",
          "dash": "dash"
         },
         "marker": {
          "symbol": 0
         },
         "mode": "lines+markers",
         "name": "Paired : 0.00031*x + 0.01768\n R2=error",
         "type": "scatter",
         "x": [
          -23.9,
          -23.9,
          -23.9,
          -23.9,
          -23.9,
          -23.9,
          -23.9,
          -23.9,
          -18.1,
          -18.1,
          -18.1,
          -18.1,
          -18.1,
          -18.1,
          -18.1,
          -18.1,
          -18.1,
          -15.5,
          -15.5,
          -15.5,
          -15.5,
          -15.5,
          -15.5,
          -15.5,
          -15.5,
          -15.5,
          -14,
          -14,
          -14,
          -14,
          -14,
          -14,
          -14,
          -14
         ],
         "y": [
          0.010367882628608431,
          0.010367882628608431,
          0.010367882628608431,
          0.010367882628608431,
          0.010367882628608431,
          0.010367882628608431,
          0.010367882628608431,
          0.010367882628608431,
          0.012141464926378989,
          0.012141464926378989,
          0.012141464926378989,
          0.012141464926378989,
          0.012141464926378989,
          0.012141464926378989,
          0.012141464926378989,
          0.012141464926378989,
          0.012141464926378989,
          0.012936519059862343,
          0.012936519059862343,
          0.012936519059862343,
          0.012936519059862343,
          0.012936519059862343,
          0.012936519059862343,
          0.012936519059862343,
          0.012936519059862343,
          0.012936519059862343,
          0.01339520413687197,
          0.01339520413687197,
          0.01339520413687197,
          0.01339520413687197,
          0.01339520413687197,
          0.01339520413687197,
          0.01339520413687197,
          0.01339520413687197
         ]
        },
        {
         "line": {
          "color": "darkseagreen",
          "dash": "dash"
         },
         "marker": {
          "symbol": 1
         },
         "mode": "lines+markers",
         "name": "Paired : -5e-05*x**2 + -0.00162*x\n R2=error",
         "type": "scatter",
         "x": [
          -23.9,
          -23.9,
          -23.9,
          -23.9,
          -23.9,
          -23.9,
          -23.9,
          -23.9,
          -18.1,
          -18.1,
          -18.1,
          -18.1,
          -18.1,
          -18.1,
          -18.1,
          -18.1,
          -18.1,
          -15.5,
          -15.5,
          -15.5,
          -15.5,
          -15.5,
          -15.5,
          -15.5,
          -15.5,
          -15.5,
          -14,
          -14,
          -14,
          -14,
          -14,
          -14,
          -14,
          -14
         ],
         "y": [
          0.009986221993940302,
          0.009986221993940302,
          0.009986221993940302,
          0.009986221993940302,
          0.009986221993940302,
          0.009986221993940302,
          0.009986221993940302,
          0.009986221993940302,
          0.012865027649953405,
          0.012865027649953405,
          0.012865027649953405,
          0.012865027649953405,
          0.012865027649953405,
          0.012865027649953405,
          0.012865027649953405,
          0.012865027649953405,
          0.012865027649953405,
          0.013052450648711784,
          0.013052450648711784,
          0.013052450648711784,
          0.013052450648711784,
          0.013052450648711784,
          0.013052450648711784,
          0.013052450648711784,
          0.013052450648711784,
          0.013052450648711784,
          0.012849960348371723,
          0.012849960348371723,
          0.012849960348371723,
          0.012849960348371723,
          0.012849960348371723,
          0.012849960348371723,
          0.012849960348371723,
          0.012849960348371723
         ]
        },
        {
         "hovertemplate": "<b>num_reads: %{text[0]}<br><b>mut_rates: %{text[1]}<br><b>base: %{text[2]}<br><b>index: %{text[3]}<br><b>construct: %{text[4]}<br><b>deltaG: %{text[5]}<br>",
         "line": {
          "color": "red"
         },
         "marker": {
          "size": [
           10.14,
           10.14,
           10.14,
           10.14,
           10.14,
           11.125,
           11.125,
           11.125,
           11.125,
           11.125,
           27.175,
           27.175,
           27.175,
           27.175,
           43.035,
           43.035,
           43.035,
           43.035
          ]
         },
         "mode": "markers",
         "name": "Unpaired ",
         "text": [
          [
           2028,
           0.07004471,
           "A",
           32,
           "3114-O-flank_1=hp7-DB",
           -23.9
          ],
          [
           2028,
           0.00844511,
           "C",
           41,
           "3114-O-flank_1=hp7-DB",
           -23.9
          ],
          [
           2028,
           0.05017387,
           "A",
           26,
           "3114-O-flank_1=hp7-DB",
           -23.9
          ],
          [
           2028,
           0.10183805,
           "A",
           29,
           "3114-O-flank_1=hp7-DB",
           -23.9
          ],
          [
           2028,
           0.09538003,
           "C",
           31,
           "3114-O-flank_1=hp7-DB",
           -23.9
          ],
          [
           2225,
           0.06492335,
           "A",
           32,
           "3125-O-flank_1=hp7-DB",
           -14
          ],
          [
           2225,
           0.0126183,
           "C",
           41,
           "3125-O-flank_1=hp7-DB",
           -14
          ],
          [
           2225,
           0.04733995,
           "A",
           26,
           "3125-O-flank_1=hp7-DB",
           -14
          ],
          [
           2225,
           0.08791704,
           "A",
           29,
           "3125-O-flank_1=hp7-DB",
           -14
          ],
          [
           2225,
           0.09513075,
           "C",
           31,
           "3125-O-flank_1=hp7-DB",
           -14
          ],
          [
           5435,
           0.06815663,
           "A",
           32,
           "3123-O-flank_1=hp7-DB",
           -15.5
          ],
          [
           5435,
           0.0554119,
           "A",
           26,
           "3123-O-flank_1=hp7-DB",
           -15.5
          ],
          [
           5435,
           0.08422608,
           "A",
           29,
           "3123-O-flank_1=hp7-DB",
           -15.5
          ],
          [
           5435,
           0.0847802,
           "C",
           31,
           "3123-O-flank_1=hp7-DB",
           -15.5
          ],
          [
           8607,
           0.06362193,
           "A",
           32,
           "3122-O-flank_1=hp7-DB",
           -18.1
          ],
          [
           8607,
           0.05055562,
           "A",
           26,
           "3122-O-flank_1=hp7-DB",
           -18.1
          ],
          [
           8607,
           0.08902186,
           "A",
           29,
           "3122-O-flank_1=hp7-DB",
           -18.1
          ],
          [
           8607,
           0.08352668,
           "C",
           31,
           "3122-O-flank_1=hp7-DB",
           -18.1
          ]
         ],
         "type": "scatter",
         "x": [
          -23.9,
          -23.9,
          -23.9,
          -23.9,
          -23.9,
          -14,
          -14,
          -14,
          -14,
          -14,
          -15.5,
          -15.5,
          -15.5,
          -15.5,
          -18.1,
          -18.1,
          -18.1,
          -18.1
         ],
         "y": [
          0.07004471,
          0.00844511,
          0.05017387,
          0.10183805,
          0.09538003,
          0.06492335,
          0.0126183,
          0.04733995,
          0.08791704,
          0.09513075,
          0.06815663,
          0.0554119,
          0.08422608,
          0.0847802,
          0.06362193,
          0.05055562,
          0.08902186,
          0.08352668
         ]
        },
        {
         "line": {
          "color": "crimson",
          "dash": "dash"
         },
         "marker": {
          "symbol": 0
         },
         "mode": "lines+markers",
         "name": "Unpaired : 2e-05*x + 0.06772\n R2=error",
         "type": "scatter",
         "x": [
          -23.9,
          -23.9,
          -23.9,
          -23.9,
          -23.9,
          -18.1,
          -18.1,
          -18.1,
          -18.1,
          -15.5,
          -15.5,
          -15.5,
          -15.5,
          -14,
          -14,
          -14,
          -14,
          -14
         ],
         "y": [
          0.06728848073400044,
          0.06728848073400044,
          0.06728848073400044,
          0.06728848073400044,
          0.06728848073400044,
          0.06739320847981492,
          0.06739320847981492,
          0.06739320847981492,
          0.06739320847981492,
          0.06744015540035243,
          0.06744015540035243,
          0.06744015540035243,
          0.06744015540035243,
          0.067467240162201,
          0.067467240162201,
          0.067467240162201,
          0.067467240162201,
          0.067467240162201
         ]
        },
        {
         "line": {
          "color": "crimson",
          "dash": "dash"
         },
         "marker": {
          "symbol": 1
         },
         "mode": "lines+markers",
         "name": "Unpaired : -0.0002*x**2 + -0.00746*x\n R2=error",
         "type": "scatter",
         "x": [
          -23.9,
          -23.9,
          -23.9,
          -23.9,
          -23.9,
          -18.1,
          -18.1,
          -18.1,
          -18.1,
          -15.5,
          -15.5,
          -15.5,
          -15.5,
          -14,
          -14,
          -14,
          -14,
          -14
         ],
         "y": [
          0.06583809817411876,
          0.06583809817411876,
          0.06583809817411876,
          0.06583809817411876,
          0.06583809817411876,
          0.07054532347685856,
          0.07054532347685856,
          0.07054532347685856,
          0.07054532347685856,
          0.06835222757619164,
          0.06835222757619164,
          0.06835222757619164,
          0.06835222757619164,
          0.0658752183571982,
          0.0658752183571982,
          0.0658752183571982,
          0.0658752183571982,
          0.0658752183571982
         ]
        }
       ],
       "layout": {
        "template": {
         "data": {
          "bar": [
           {
            "error_x": {
             "color": "#2a3f5f"
            },
            "error_y": {
             "color": "#2a3f5f"
            },
            "marker": {
             "line": {
              "color": "#E5ECF6",
              "width": 0.5
             },
             "pattern": {
              "fillmode": "overlay",
              "size": 10,
              "solidity": 0.2
             }
            },
            "type": "bar"
           }
          ],
          "barpolar": [
           {
            "marker": {
             "line": {
              "color": "#E5ECF6",
              "width": 0.5
             },
             "pattern": {
              "fillmode": "overlay",
              "size": 10,
              "solidity": 0.2
             }
            },
            "type": "barpolar"
           }
          ],
          "carpet": [
           {
            "aaxis": {
             "endlinecolor": "#2a3f5f",
             "gridcolor": "white",
             "linecolor": "white",
             "minorgridcolor": "white",
             "startlinecolor": "#2a3f5f"
            },
            "baxis": {
             "endlinecolor": "#2a3f5f",
             "gridcolor": "white",
             "linecolor": "white",
             "minorgridcolor": "white",
             "startlinecolor": "#2a3f5f"
            },
            "type": "carpet"
           }
          ],
          "choropleth": [
           {
            "colorbar": {
             "outlinewidth": 0,
             "ticks": ""
            },
            "type": "choropleth"
           }
          ],
          "contour": [
           {
            "colorbar": {
             "outlinewidth": 0,
             "ticks": ""
            },
            "colorscale": [
             [
              0,
              "#0d0887"
             ],
             [
              0.1111111111111111,
              "#46039f"
             ],
             [
              0.2222222222222222,
              "#7201a8"
             ],
             [
              0.3333333333333333,
              "#9c179e"
             ],
             [
              0.4444444444444444,
              "#bd3786"
             ],
             [
              0.5555555555555556,
              "#d8576b"
             ],
             [
              0.6666666666666666,
              "#ed7953"
             ],
             [
              0.7777777777777778,
              "#fb9f3a"
             ],
             [
              0.8888888888888888,
              "#fdca26"
             ],
             [
              1,
              "#f0f921"
             ]
            ],
            "type": "contour"
           }
          ],
          "contourcarpet": [
           {
            "colorbar": {
             "outlinewidth": 0,
             "ticks": ""
            },
            "type": "contourcarpet"
           }
          ],
          "heatmap": [
           {
            "colorbar": {
             "outlinewidth": 0,
             "ticks": ""
            },
            "colorscale": [
             [
              0,
              "#0d0887"
             ],
             [
              0.1111111111111111,
              "#46039f"
             ],
             [
              0.2222222222222222,
              "#7201a8"
             ],
             [
              0.3333333333333333,
              "#9c179e"
             ],
             [
              0.4444444444444444,
              "#bd3786"
             ],
             [
              0.5555555555555556,
              "#d8576b"
             ],
             [
              0.6666666666666666,
              "#ed7953"
             ],
             [
              0.7777777777777778,
              "#fb9f3a"
             ],
             [
              0.8888888888888888,
              "#fdca26"
             ],
             [
              1,
              "#f0f921"
             ]
            ],
            "type": "heatmap"
           }
          ],
          "heatmapgl": [
           {
            "colorbar": {
             "outlinewidth": 0,
             "ticks": ""
            },
            "colorscale": [
             [
              0,
              "#0d0887"
             ],
             [
              0.1111111111111111,
              "#46039f"
             ],
             [
              0.2222222222222222,
              "#7201a8"
             ],
             [
              0.3333333333333333,
              "#9c179e"
             ],
             [
              0.4444444444444444,
              "#bd3786"
             ],
             [
              0.5555555555555556,
              "#d8576b"
             ],
             [
              0.6666666666666666,
              "#ed7953"
             ],
             [
              0.7777777777777778,
              "#fb9f3a"
             ],
             [
              0.8888888888888888,
              "#fdca26"
             ],
             [
              1,
              "#f0f921"
             ]
            ],
            "type": "heatmapgl"
           }
          ],
          "histogram": [
           {
            "marker": {
             "pattern": {
              "fillmode": "overlay",
              "size": 10,
              "solidity": 0.2
             }
            },
            "type": "histogram"
           }
          ],
          "histogram2d": [
           {
            "colorbar": {
             "outlinewidth": 0,
             "ticks": ""
            },
            "colorscale": [
             [
              0,
              "#0d0887"
             ],
             [
              0.1111111111111111,
              "#46039f"
             ],
             [
              0.2222222222222222,
              "#7201a8"
             ],
             [
              0.3333333333333333,
              "#9c179e"
             ],
             [
              0.4444444444444444,
              "#bd3786"
             ],
             [
              0.5555555555555556,
              "#d8576b"
             ],
             [
              0.6666666666666666,
              "#ed7953"
             ],
             [
              0.7777777777777778,
              "#fb9f3a"
             ],
             [
              0.8888888888888888,
              "#fdca26"
             ],
             [
              1,
              "#f0f921"
             ]
            ],
            "type": "histogram2d"
           }
          ],
          "histogram2dcontour": [
           {
            "colorbar": {
             "outlinewidth": 0,
             "ticks": ""
            },
            "colorscale": [
             [
              0,
              "#0d0887"
             ],
             [
              0.1111111111111111,
              "#46039f"
             ],
             [
              0.2222222222222222,
              "#7201a8"
             ],
             [
              0.3333333333333333,
              "#9c179e"
             ],
             [
              0.4444444444444444,
              "#bd3786"
             ],
             [
              0.5555555555555556,
              "#d8576b"
             ],
             [
              0.6666666666666666,
              "#ed7953"
             ],
             [
              0.7777777777777778,
              "#fb9f3a"
             ],
             [
              0.8888888888888888,
              "#fdca26"
             ],
             [
              1,
              "#f0f921"
             ]
            ],
            "type": "histogram2dcontour"
           }
          ],
          "mesh3d": [
           {
            "colorbar": {
             "outlinewidth": 0,
             "ticks": ""
            },
            "type": "mesh3d"
           }
          ],
          "parcoords": [
           {
            "line": {
             "colorbar": {
              "outlinewidth": 0,
              "ticks": ""
             }
            },
            "type": "parcoords"
           }
          ],
          "pie": [
           {
            "automargin": true,
            "type": "pie"
           }
          ],
          "scatter": [
           {
            "fillpattern": {
             "fillmode": "overlay",
             "size": 10,
             "solidity": 0.2
            },
            "type": "scatter"
           }
          ],
          "scatter3d": [
           {
            "line": {
             "colorbar": {
              "outlinewidth": 0,
              "ticks": ""
             }
            },
            "marker": {
             "colorbar": {
              "outlinewidth": 0,
              "ticks": ""
             }
            },
            "type": "scatter3d"
           }
          ],
          "scattercarpet": [
           {
            "marker": {
             "colorbar": {
              "outlinewidth": 0,
              "ticks": ""
             }
            },
            "type": "scattercarpet"
           }
          ],
          "scattergeo": [
           {
            "marker": {
             "colorbar": {
              "outlinewidth": 0,
              "ticks": ""
             }
            },
            "type": "scattergeo"
           }
          ],
          "scattergl": [
           {
            "marker": {
             "colorbar": {
              "outlinewidth": 0,
              "ticks": ""
             }
            },
            "type": "scattergl"
           }
          ],
          "scattermapbox": [
           {
            "marker": {
             "colorbar": {
              "outlinewidth": 0,
              "ticks": ""
             }
            },
            "type": "scattermapbox"
           }
          ],
          "scatterpolar": [
           {
            "marker": {
             "colorbar": {
              "outlinewidth": 0,
              "ticks": ""
             }
            },
            "type": "scatterpolar"
           }
          ],
          "scatterpolargl": [
           {
            "marker": {
             "colorbar": {
              "outlinewidth": 0,
              "ticks": ""
             }
            },
            "type": "scatterpolargl"
           }
          ],
          "scatterternary": [
           {
            "marker": {
             "colorbar": {
              "outlinewidth": 0,
              "ticks": ""
             }
            },
            "type": "scatterternary"
           }
          ],
          "surface": [
           {
            "colorbar": {
             "outlinewidth": 0,
             "ticks": ""
            },
            "colorscale": [
             [
              0,
              "#0d0887"
             ],
             [
              0.1111111111111111,
              "#46039f"
             ],
             [
              0.2222222222222222,
              "#7201a8"
             ],
             [
              0.3333333333333333,
              "#9c179e"
             ],
             [
              0.4444444444444444,
              "#bd3786"
             ],
             [
              0.5555555555555556,
              "#d8576b"
             ],
             [
              0.6666666666666666,
              "#ed7953"
             ],
             [
              0.7777777777777778,
              "#fb9f3a"
             ],
             [
              0.8888888888888888,
              "#fdca26"
             ],
             [
              1,
              "#f0f921"
             ]
            ],
            "type": "surface"
           }
          ],
          "table": [
           {
            "cells": {
             "fill": {
              "color": "#EBF0F8"
             },
             "line": {
              "color": "white"
             }
            },
            "header": {
             "fill": {
              "color": "#C8D4E3"
             },
             "line": {
              "color": "white"
             }
            },
            "type": "table"
           }
          ]
         },
         "layout": {
          "annotationdefaults": {
           "arrowcolor": "#2a3f5f",
           "arrowhead": 0,
           "arrowwidth": 1
          },
          "autotypenumbers": "strict",
          "coloraxis": {
           "colorbar": {
            "outlinewidth": 0,
            "ticks": ""
           }
          },
          "colorscale": {
           "diverging": [
            [
             0,
             "#8e0152"
            ],
            [
             0.1,
             "#c51b7d"
            ],
            [
             0.2,
             "#de77ae"
            ],
            [
             0.3,
             "#f1b6da"
            ],
            [
             0.4,
             "#fde0ef"
            ],
            [
             0.5,
             "#f7f7f7"
            ],
            [
             0.6,
             "#e6f5d0"
            ],
            [
             0.7,
             "#b8e186"
            ],
            [
             0.8,
             "#7fbc41"
            ],
            [
             0.9,
             "#4d9221"
            ],
            [
             1,
             "#276419"
            ]
           ],
           "sequential": [
            [
             0,
             "#0d0887"
            ],
            [
             0.1111111111111111,
             "#46039f"
            ],
            [
             0.2222222222222222,
             "#7201a8"
            ],
            [
             0.3333333333333333,
             "#9c179e"
            ],
            [
             0.4444444444444444,
             "#bd3786"
            ],
            [
             0.5555555555555556,
             "#d8576b"
            ],
            [
             0.6666666666666666,
             "#ed7953"
            ],
            [
             0.7777777777777778,
             "#fb9f3a"
            ],
            [
             0.8888888888888888,
             "#fdca26"
            ],
            [
             1,
             "#f0f921"
            ]
           ],
           "sequentialminus": [
            [
             0,
             "#0d0887"
            ],
            [
             0.1111111111111111,
             "#46039f"
            ],
            [
             0.2222222222222222,
             "#7201a8"
            ],
            [
             0.3333333333333333,
             "#9c179e"
            ],
            [
             0.4444444444444444,
             "#bd3786"
            ],
            [
             0.5555555555555556,
             "#d8576b"
            ],
            [
             0.6666666666666666,
             "#ed7953"
            ],
            [
             0.7777777777777778,
             "#fb9f3a"
            ],
            [
             0.8888888888888888,
             "#fdca26"
            ],
            [
             1,
             "#f0f921"
            ]
           ]
          },
          "colorway": [
           "#636efa",
           "#EF553B",
           "#00cc96",
           "#ab63fa",
           "#FFA15A",
           "#19d3f3",
           "#FF6692",
           "#B6E880",
           "#FF97FF",
           "#FECB52"
          ],
          "font": {
           "color": "#2a3f5f"
          },
          "geo": {
           "bgcolor": "white",
           "lakecolor": "white",
           "landcolor": "#E5ECF6",
           "showlakes": true,
           "showland": true,
           "subunitcolor": "white"
          },
          "hoverlabel": {
           "align": "left"
          },
          "hovermode": "closest",
          "mapbox": {
           "style": "light"
          },
          "paper_bgcolor": "white",
          "plot_bgcolor": "#E5ECF6",
          "polar": {
           "angularaxis": {
            "gridcolor": "white",
            "linecolor": "white",
            "ticks": ""
           },
           "bgcolor": "#E5ECF6",
           "radialaxis": {
            "gridcolor": "white",
            "linecolor": "white",
            "ticks": ""
           }
          },
          "scene": {
           "xaxis": {
            "backgroundcolor": "#E5ECF6",
            "gridcolor": "white",
            "gridwidth": 2,
            "linecolor": "white",
            "showbackground": true,
            "ticks": "",
            "zerolinecolor": "white"
           },
           "yaxis": {
            "backgroundcolor": "#E5ECF6",
            "gridcolor": "white",
            "gridwidth": 2,
            "linecolor": "white",
            "showbackground": true,
            "ticks": "",
            "zerolinecolor": "white"
           },
           "zaxis": {
            "backgroundcolor": "#E5ECF6",
            "gridcolor": "white",
            "gridwidth": 2,
            "linecolor": "white",
            "showbackground": true,
            "ticks": "",
            "zerolinecolor": "white"
           }
          },
          "shapedefaults": {
           "line": {
            "color": "#2a3f5f"
           }
          },
          "ternary": {
           "aaxis": {
            "gridcolor": "white",
            "linecolor": "white",
            "ticks": ""
           },
           "baxis": {
            "gridcolor": "white",
            "linecolor": "white",
            "ticks": ""
           },
           "bgcolor": "#E5ECF6",
           "caxis": {
            "gridcolor": "white",
            "linecolor": "white",
            "ticks": ""
           }
          },
          "title": {
           "x": 0.05
          },
          "xaxis": {
           "automargin": true,
           "gridcolor": "white",
           "linecolor": "white",
           "ticks": "",
           "title": {
            "standoff": 15
           },
           "zerolinecolor": "white",
           "zerolinewidth": 2
          },
          "yaxis": {
           "automargin": true,
           "gridcolor": "white",
           "linecolor": "white",
           "ticks": "",
           "title": {
            "standoff": 15
           },
           "zerolinecolor": "white",
           "zerolinewidth": 2
          }
         }
        },
        "title": {
         "text": "Mutation rates of paired / unpaired residues vs the predicted energy of the molecule"
        },
        "xaxis": {
         "ticklen": 5,
         "title": {
          "text": "DeltaG"
         },
         "zeroline": false
        },
        "yaxis": {
         "ticklen": 5,
         "title": {
          "text": "Mutation rate "
         },
         "zeroline": false
        }
       }
      }
     },
     "metadata": {},
     "output_type": "display_data"
    }
   ],
   "source": [
    "out = study.deltaG_vs_mut_rates(sample=470,\n",
    "                        base_index=list(range(19,42)), \n",
    "                        base_type=['A','C'], \n",
    "                        family='hp7', \n",
    "                        deltaG='deltaG_min',\n",
    "                        savefile='test.html', \n",
    "                        models=['lambda x, a, b: a*x + b', 'lambda x, a, b: a*x**2 + b*x'],\n",
    "                        auto_open = False)"
   ]
  },
  {
   "cell_type": "code",
   "execution_count": 5,
   "metadata": {},
   "outputs": [
    {
     "data": {
      "application/vnd.plotly.v1+json": {
       "config": {
        "linkText": "Export to plot.ly",
        "plotlyServerURL": "https://plot.ly",
        "showLink": false
       },
       "data": [
        {
         "hovertemplate": "<b>base: %{text[0]}<br><b>mut_rates: %{text[1]}<br><b>sample: %{text[2]}<br><b>temperature_k: %{text[3]}<br><b>paired: %{text[4]}<br>",
         "line": {
          "color": "red"
         },
         "marker": {
          "symbol": [
           0,
           0,
           0,
           0,
           0,
           0,
           0,
           0,
           0,
           0,
           0,
           0,
           0,
           0,
           0,
           0,
           0,
           0,
           100,
           100,
           100,
           100,
           100,
           100,
           100,
           100,
           100,
           100,
           100,
           100,
           100,
           100,
           100,
           100,
           100,
           100,
           100,
           100,
           100,
           100,
           100,
           100,
           0,
           0,
           0,
           0,
           0,
           0,
           0,
           0,
           0,
           0,
           0,
           0,
           0,
           0,
           0,
           0,
           0,
           0,
           0,
           0,
           0,
           0,
           0,
           0,
           0,
           0,
           0,
           0,
           0,
           0,
           100,
           100,
           100,
           100,
           100,
           100
          ]
         },
         "mode": "lines+markers",
         "name": "(A,32)",
         "text": [
          [
           "C",
           0.02966896,
           472,
           310,
           true
          ],
          [
           "C",
           0.00038971,
           473,
           310,
           true
          ],
          [
           "C",
           0,
           475,
           295,
           true
          ],
          [
           "C",
           0.00046019,
           471,
           310,
           true
          ],
          [
           "C",
           0.00596125,
           470,
           310,
           true
          ],
          [
           "C",
           0,
           474,
           295,
           true
          ],
          [
           "A",
           0,
           473,
           310,
           true
          ],
          [
           "A",
           0,
           471,
           310,
           true
          ],
          [
           "A",
           0.01717676,
           472,
           310,
           true
          ],
          [
           "A",
           0,
           474,
           295,
           true
          ],
          [
           "A",
           0.01142573,
           470,
           310,
           true
          ],
          [
           "A",
           0.00018815,
           475,
           295,
           true
          ],
          [
           "A",
           0,
           473,
           310,
           true
          ],
          [
           "A",
           0.00018815,
           475,
           295,
           true
          ],
          [
           "A",
           0.00057078,
           474,
           295,
           true
          ],
          [
           "A",
           0.00046019,
           471,
           310,
           true
          ],
          [
           "A",
           0.00905684,
           472,
           310,
           true
          ],
          [
           "A",
           0.00894188,
           470,
           310,
           true
          ],
          [
           "A",
           0,
           475,
           295,
           false
          ],
          [
           "A",
           0,
           471,
           310,
           false
          ],
          [
           "A",
           0.05017387,
           470,
           310,
           false
          ],
          [
           "A",
           0,
           474,
           295,
           false
          ],
          [
           "A",
           0.00077912,
           473,
           310,
           false
          ],
          [
           "A",
           0.04278576,
           472,
           310,
           false
          ],
          [
           "A",
           0.00077912,
           473,
           310,
           false
          ],
          [
           "A",
           0,
           474,
           295,
           false
          ],
          [
           "A",
           0.04840725,
           472,
           310,
           false
          ],
          [
           "A",
           0.00092039,
           471,
           310,
           false
          ],
          [
           "A",
           0.10183805,
           470,
           310,
           false
          ],
          [
           "A",
           0.00018808,
           475,
           295,
           false
          ],
          [
           "C",
           0.07870081,
           472,
           310,
           false
          ],
          [
           "C",
           0,
           474,
           295,
           false
          ],
          [
           "C",
           0.00038941,
           473,
           310,
           false
          ],
          [
           "C",
           0.00018808,
           475,
           295,
           false
          ],
          [
           "C",
           0.09538003,
           470,
           310,
           false
          ],
          [
           "C",
           0.00046019,
           471,
           310,
           false
          ],
          [
           "A",
           0.07004471,
           470,
           310,
           false
          ],
          [
           "A",
           0.00057078,
           474,
           295,
           false
          ],
          [
           "A",
           0.00038941,
           473,
           310,
           false
          ],
          [
           "A",
           0.00184077,
           471,
           310,
           false
          ],
          [
           "A",
           0.00018808,
           475,
           295,
           false
          ],
          [
           "A",
           0.07183011,
           472,
           310,
           false
          ],
          [
           "C",
           0.01838053,
           470,
           310,
           true
          ],
          [
           "C",
           0,
           474,
           295,
           true
          ],
          [
           "C",
           0.02998126,
           472,
           310,
           true
          ],
          [
           "C",
           0.00077882,
           473,
           310,
           true
          ],
          [
           "C",
           0,
           471,
           310,
           true
          ],
          [
           "C",
           0,
           475,
           295,
           true
          ],
          [
           "C",
           0,
           475,
           295,
           true
          ],
          [
           "C",
           0.00038941,
           473,
           310,
           true
          ],
          [
           "C",
           0.02779513,
           472,
           310,
           true
          ],
          [
           "C",
           0.01142573,
           470,
           310,
           true
          ],
          [
           "C",
           0,
           474,
           295,
           true
          ],
          [
           "C",
           0.00092039,
           471,
           310,
           true
          ],
          [
           "C",
           0,
           475,
           295,
           true
          ],
          [
           "C",
           0.00645802,
           470,
           310,
           true
          ],
          [
           "C",
           0.00057078,
           474,
           295,
           true
          ],
          [
           "C",
           0.01686446,
           472,
           310,
           true
          ],
          [
           "C",
           0,
           471,
           310,
           true
          ],
          [
           "C",
           0.00116822,
           473,
           310,
           true
          ],
          [
           "A",
           0.00905684,
           472,
           310,
           true
          ],
          [
           "A",
           0.00046019,
           471,
           310,
           true
          ],
          [
           "A",
           0.00844511,
           470,
           310,
           true
          ],
          [
           "A",
           0.00018804,
           475,
           295,
           true
          ],
          [
           "A",
           0,
           473,
           310,
           true
          ],
          [
           "A",
           0,
           474,
           295,
           true
          ],
          [
           "A",
           0.00057078,
           474,
           295,
           true
          ],
          [
           "A",
           0.00056412,
           475,
           295,
           true
          ],
          [
           "A",
           0.00077882,
           473,
           310,
           true
          ],
          [
           "A",
           0.00844511,
           470,
           310,
           true
          ],
          [
           "A",
           0,
           471,
           310,
           true
          ],
          [
           "A",
           0.00749532,
           472,
           310,
           true
          ],
          [
           "C",
           0.00046019,
           471,
           310,
           false
          ],
          [
           "C",
           0.00018804,
           475,
           295,
           false
          ],
          [
           "C",
           0.00844511,
           470,
           310,
           false
          ],
          [
           "C",
           0.02654591,
           472,
           310,
           false
          ],
          [
           "C",
           0,
           474,
           295,
           false
          ],
          [
           "C",
           0.00116822,
           473,
           310,
           false
          ]
         ],
         "type": "scatter",
         "x": [
          310,
          295,
          310,
          310,
          295,
          310
         ],
         "y": [
          0.07004471,
          0.00057078,
          0.00038941,
          0.00184077,
          0.00018808,
          0.07183011
         ]
        },
        {
         "line": {
          "color": "red",
          "dash": "solid"
         },
         "mode": "lines",
         "name": "(A,32): 0.00238*x + -0.70067\n R2=error",
         "type": "scatter",
         "x": [
          295,
          295,
          310,
          310,
          310,
          310
         ],
         "y": [
          0.00037943000000006943,
          0.00037943000000006943,
          0.03602625000000004,
          0.03602625000000004,
          0.03602625000000004,
          0.03602625000000004
         ]
        },
        {
         "line": {
          "color": "red",
          "dash": "dot"
         },
         "mode": "lines",
         "name": "(A,32): 1e-05*x**2 + -0.00226*x\n R2=error",
         "type": "scatter",
         "x": [
          295,
          295,
          310,
          310,
          310,
          310
         ],
         "y": [
          0.0003794300000004025,
          0.0003794300000004025,
          0.03602625000000104,
          0.03602625000000104,
          0.03602625000000104,
          0.03602625000000104
         ]
        },
        {
         "hovertemplate": "<b>base: %{text[0]}<br><b>mut_rates: %{text[1]}<br><b>sample: %{text[2]}<br><b>temperature_k: %{text[3]}<br><b>paired: %{text[4]}<br>",
         "line": {
          "color": "green"
         },
         "marker": {
          "symbol": [
           0,
           0,
           0,
           0,
           0,
           0,
           0,
           0,
           0,
           0,
           0,
           0,
           0,
           0,
           0,
           0,
           0,
           0,
           100,
           100,
           100,
           100,
           100,
           100,
           100,
           100,
           100,
           100,
           100,
           100,
           100,
           100,
           100,
           100,
           100,
           100,
           100,
           100,
           100,
           100,
           100,
           100,
           0,
           0,
           0,
           0,
           0,
           0,
           0,
           0,
           0,
           0,
           0,
           0,
           0,
           0,
           0,
           0,
           0,
           0,
           0,
           0,
           0,
           0,
           0,
           0,
           0,
           0,
           0,
           0,
           0,
           0,
           100,
           100,
           100,
           100,
           100,
           100
          ]
         },
         "mode": "lines+markers",
         "name": "(C,33)",
         "text": [
          [
           "C",
           0.02966896,
           472,
           310,
           true
          ],
          [
           "C",
           0.00038971,
           473,
           310,
           true
          ],
          [
           "C",
           0,
           475,
           295,
           true
          ],
          [
           "C",
           0.00046019,
           471,
           310,
           true
          ],
          [
           "C",
           0.00596125,
           470,
           310,
           true
          ],
          [
           "C",
           0,
           474,
           295,
           true
          ],
          [
           "A",
           0,
           473,
           310,
           true
          ],
          [
           "A",
           0,
           471,
           310,
           true
          ],
          [
           "A",
           0.01717676,
           472,
           310,
           true
          ],
          [
           "A",
           0,
           474,
           295,
           true
          ],
          [
           "A",
           0.01142573,
           470,
           310,
           true
          ],
          [
           "A",
           0.00018815,
           475,
           295,
           true
          ],
          [
           "A",
           0,
           473,
           310,
           true
          ],
          [
           "A",
           0.00018815,
           475,
           295,
           true
          ],
          [
           "A",
           0.00057078,
           474,
           295,
           true
          ],
          [
           "A",
           0.00046019,
           471,
           310,
           true
          ],
          [
           "A",
           0.00905684,
           472,
           310,
           true
          ],
          [
           "A",
           0.00894188,
           470,
           310,
           true
          ],
          [
           "A",
           0,
           475,
           295,
           false
          ],
          [
           "A",
           0,
           471,
           310,
           false
          ],
          [
           "A",
           0.05017387,
           470,
           310,
           false
          ],
          [
           "A",
           0,
           474,
           295,
           false
          ],
          [
           "A",
           0.00077912,
           473,
           310,
           false
          ],
          [
           "A",
           0.04278576,
           472,
           310,
           false
          ],
          [
           "A",
           0.00077912,
           473,
           310,
           false
          ],
          [
           "A",
           0,
           474,
           295,
           false
          ],
          [
           "A",
           0.04840725,
           472,
           310,
           false
          ],
          [
           "A",
           0.00092039,
           471,
           310,
           false
          ],
          [
           "A",
           0.10183805,
           470,
           310,
           false
          ],
          [
           "A",
           0.00018808,
           475,
           295,
           false
          ],
          [
           "C",
           0.07870081,
           472,
           310,
           false
          ],
          [
           "C",
           0,
           474,
           295,
           false
          ],
          [
           "C",
           0.00038941,
           473,
           310,
           false
          ],
          [
           "C",
           0.00018808,
           475,
           295,
           false
          ],
          [
           "C",
           0.09538003,
           470,
           310,
           false
          ],
          [
           "C",
           0.00046019,
           471,
           310,
           false
          ],
          [
           "A",
           0.07004471,
           470,
           310,
           false
          ],
          [
           "A",
           0.00057078,
           474,
           295,
           false
          ],
          [
           "A",
           0.00038941,
           473,
           310,
           false
          ],
          [
           "A",
           0.00184077,
           471,
           310,
           false
          ],
          [
           "A",
           0.00018808,
           475,
           295,
           false
          ],
          [
           "A",
           0.07183011,
           472,
           310,
           false
          ],
          [
           "C",
           0.01838053,
           470,
           310,
           true
          ],
          [
           "C",
           0,
           474,
           295,
           true
          ],
          [
           "C",
           0.02998126,
           472,
           310,
           true
          ],
          [
           "C",
           0.00077882,
           473,
           310,
           true
          ],
          [
           "C",
           0,
           471,
           310,
           true
          ],
          [
           "C",
           0,
           475,
           295,
           true
          ],
          [
           "C",
           0,
           475,
           295,
           true
          ],
          [
           "C",
           0.00038941,
           473,
           310,
           true
          ],
          [
           "C",
           0.02779513,
           472,
           310,
           true
          ],
          [
           "C",
           0.01142573,
           470,
           310,
           true
          ],
          [
           "C",
           0,
           474,
           295,
           true
          ],
          [
           "C",
           0.00092039,
           471,
           310,
           true
          ],
          [
           "C",
           0,
           475,
           295,
           true
          ],
          [
           "C",
           0.00645802,
           470,
           310,
           true
          ],
          [
           "C",
           0.00057078,
           474,
           295,
           true
          ],
          [
           "C",
           0.01686446,
           472,
           310,
           true
          ],
          [
           "C",
           0,
           471,
           310,
           true
          ],
          [
           "C",
           0.00116822,
           473,
           310,
           true
          ],
          [
           "A",
           0.00905684,
           472,
           310,
           true
          ],
          [
           "A",
           0.00046019,
           471,
           310,
           true
          ],
          [
           "A",
           0.00844511,
           470,
           310,
           true
          ],
          [
           "A",
           0.00018804,
           475,
           295,
           true
          ],
          [
           "A",
           0,
           473,
           310,
           true
          ],
          [
           "A",
           0,
           474,
           295,
           true
          ],
          [
           "A",
           0.00057078,
           474,
           295,
           true
          ],
          [
           "A",
           0.00056412,
           475,
           295,
           true
          ],
          [
           "A",
           0.00077882,
           473,
           310,
           true
          ],
          [
           "A",
           0.00844511,
           470,
           310,
           true
          ],
          [
           "A",
           0,
           471,
           310,
           true
          ],
          [
           "A",
           0.00749532,
           472,
           310,
           true
          ],
          [
           "C",
           0.00046019,
           471,
           310,
           false
          ],
          [
           "C",
           0.00018804,
           475,
           295,
           false
          ],
          [
           "C",
           0.00844511,
           470,
           310,
           false
          ],
          [
           "C",
           0.02654591,
           472,
           310,
           false
          ],
          [
           "C",
           0,
           474,
           295,
           false
          ],
          [
           "C",
           0.00116822,
           473,
           310,
           false
          ]
         ],
         "type": "scatter",
         "x": [
          310,
          295,
          310,
          310,
          310,
          295
         ],
         "y": [
          0.01838053,
          0,
          0.02998126,
          0.00077882,
          0,
          0
         ]
        },
        {
         "line": {
          "color": "green",
          "dash": "solid"
         },
         "mode": "lines",
         "name": "(C,33): 0.00082*x + -0.24161\n R2=error",
         "type": "scatter",
         "x": [
          295,
          295,
          310,
          310,
          310,
          310
         ],
         "y": [
          0,
          0,
          0.012285152500000007,
          0.012285152500000007,
          0.012285152500000007,
          0.012285152500000007
         ]
        },
        {
         "line": {
          "color": "green",
          "dash": "dot"
         },
         "mode": "lines",
         "name": "(C,33): 0.0*x**2 + -0.00078*x\n R2=error",
         "type": "scatter",
         "x": [
          295,
          295,
          310,
          310,
          310,
          310
         ],
         "y": [
          1.3877787807814457e-16,
          1.3877787807814457e-16,
          0.0122851525000022,
          0.0122851525000022,
          0.0122851525000022,
          0.0122851525000022
         ]
        },
        {
         "hovertemplate": "<b>base: %{text[0]}<br><b>mut_rates: %{text[1]}<br><b>sample: %{text[2]}<br><b>temperature_k: %{text[3]}<br><b>paired: %{text[4]}<br>",
         "line": {
          "color": "blue"
         },
         "marker": {
          "symbol": [
           0,
           0,
           0,
           0,
           0,
           0,
           0,
           0,
           0,
           0,
           0,
           0,
           0,
           0,
           0,
           0,
           0,
           0,
           100,
           100,
           100,
           100,
           100,
           100,
           100,
           100,
           100,
           100,
           100,
           100,
           100,
           100,
           100,
           100,
           100,
           100,
           100,
           100,
           100,
           100,
           100,
           100,
           0,
           0,
           0,
           0,
           0,
           0,
           0,
           0,
           0,
           0,
           0,
           0,
           0,
           0,
           0,
           0,
           0,
           0,
           0,
           0,
           0,
           0,
           0,
           0,
           0,
           0,
           0,
           0,
           0,
           0,
           100,
           100,
           100,
           100,
           100,
           100
          ]
         },
         "mode": "lines+markers",
         "name": "(C,34)",
         "text": [
          [
           "C",
           0.02966896,
           472,
           310,
           true
          ],
          [
           "C",
           0.00038971,
           473,
           310,
           true
          ],
          [
           "C",
           0,
           475,
           295,
           true
          ],
          [
           "C",
           0.00046019,
           471,
           310,
           true
          ],
          [
           "C",
           0.00596125,
           470,
           310,
           true
          ],
          [
           "C",
           0,
           474,
           295,
           true
          ],
          [
           "A",
           0,
           473,
           310,
           true
          ],
          [
           "A",
           0,
           471,
           310,
           true
          ],
          [
           "A",
           0.01717676,
           472,
           310,
           true
          ],
          [
           "A",
           0,
           474,
           295,
           true
          ],
          [
           "A",
           0.01142573,
           470,
           310,
           true
          ],
          [
           "A",
           0.00018815,
           475,
           295,
           true
          ],
          [
           "A",
           0,
           473,
           310,
           true
          ],
          [
           "A",
           0.00018815,
           475,
           295,
           true
          ],
          [
           "A",
           0.00057078,
           474,
           295,
           true
          ],
          [
           "A",
           0.00046019,
           471,
           310,
           true
          ],
          [
           "A",
           0.00905684,
           472,
           310,
           true
          ],
          [
           "A",
           0.00894188,
           470,
           310,
           true
          ],
          [
           "A",
           0,
           475,
           295,
           false
          ],
          [
           "A",
           0,
           471,
           310,
           false
          ],
          [
           "A",
           0.05017387,
           470,
           310,
           false
          ],
          [
           "A",
           0,
           474,
           295,
           false
          ],
          [
           "A",
           0.00077912,
           473,
           310,
           false
          ],
          [
           "A",
           0.04278576,
           472,
           310,
           false
          ],
          [
           "A",
           0.00077912,
           473,
           310,
           false
          ],
          [
           "A",
           0,
           474,
           295,
           false
          ],
          [
           "A",
           0.04840725,
           472,
           310,
           false
          ],
          [
           "A",
           0.00092039,
           471,
           310,
           false
          ],
          [
           "A",
           0.10183805,
           470,
           310,
           false
          ],
          [
           "A",
           0.00018808,
           475,
           295,
           false
          ],
          [
           "C",
           0.07870081,
           472,
           310,
           false
          ],
          [
           "C",
           0,
           474,
           295,
           false
          ],
          [
           "C",
           0.00038941,
           473,
           310,
           false
          ],
          [
           "C",
           0.00018808,
           475,
           295,
           false
          ],
          [
           "C",
           0.09538003,
           470,
           310,
           false
          ],
          [
           "C",
           0.00046019,
           471,
           310,
           false
          ],
          [
           "A",
           0.07004471,
           470,
           310,
           false
          ],
          [
           "A",
           0.00057078,
           474,
           295,
           false
          ],
          [
           "A",
           0.00038941,
           473,
           310,
           false
          ],
          [
           "A",
           0.00184077,
           471,
           310,
           false
          ],
          [
           "A",
           0.00018808,
           475,
           295,
           false
          ],
          [
           "A",
           0.07183011,
           472,
           310,
           false
          ],
          [
           "C",
           0.01838053,
           470,
           310,
           true
          ],
          [
           "C",
           0,
           474,
           295,
           true
          ],
          [
           "C",
           0.02998126,
           472,
           310,
           true
          ],
          [
           "C",
           0.00077882,
           473,
           310,
           true
          ],
          [
           "C",
           0,
           471,
           310,
           true
          ],
          [
           "C",
           0,
           475,
           295,
           true
          ],
          [
           "C",
           0,
           475,
           295,
           true
          ],
          [
           "C",
           0.00038941,
           473,
           310,
           true
          ],
          [
           "C",
           0.02779513,
           472,
           310,
           true
          ],
          [
           "C",
           0.01142573,
           470,
           310,
           true
          ],
          [
           "C",
           0,
           474,
           295,
           true
          ],
          [
           "C",
           0.00092039,
           471,
           310,
           true
          ],
          [
           "C",
           0,
           475,
           295,
           true
          ],
          [
           "C",
           0.00645802,
           470,
           310,
           true
          ],
          [
           "C",
           0.00057078,
           474,
           295,
           true
          ],
          [
           "C",
           0.01686446,
           472,
           310,
           true
          ],
          [
           "C",
           0,
           471,
           310,
           true
          ],
          [
           "C",
           0.00116822,
           473,
           310,
           true
          ],
          [
           "A",
           0.00905684,
           472,
           310,
           true
          ],
          [
           "A",
           0.00046019,
           471,
           310,
           true
          ],
          [
           "A",
           0.00844511,
           470,
           310,
           true
          ],
          [
           "A",
           0.00018804,
           475,
           295,
           true
          ],
          [
           "A",
           0,
           473,
           310,
           true
          ],
          [
           "A",
           0,
           474,
           295,
           true
          ],
          [
           "A",
           0.00057078,
           474,
           295,
           true
          ],
          [
           "A",
           0.00056412,
           475,
           295,
           true
          ],
          [
           "A",
           0.00077882,
           473,
           310,
           true
          ],
          [
           "A",
           0.00844511,
           470,
           310,
           true
          ],
          [
           "A",
           0,
           471,
           310,
           true
          ],
          [
           "A",
           0.00749532,
           472,
           310,
           true
          ],
          [
           "C",
           0.00046019,
           471,
           310,
           false
          ],
          [
           "C",
           0.00018804,
           475,
           295,
           false
          ],
          [
           "C",
           0.00844511,
           470,
           310,
           false
          ],
          [
           "C",
           0.02654591,
           472,
           310,
           false
          ],
          [
           "C",
           0,
           474,
           295,
           false
          ],
          [
           "C",
           0.00116822,
           473,
           310,
           false
          ]
         ],
         "type": "scatter",
         "x": [
          295,
          310,
          310,
          310,
          295,
          310
         ],
         "y": [
          0,
          0.00038941,
          0.02779513,
          0.01142573,
          0,
          0.00092039
         ]
        },
        {
         "line": {
          "color": "blue",
          "dash": "solid"
         },
         "mode": "lines",
         "name": "(C,34): 0.00068*x + -0.19928\n R2=error",
         "type": "scatter",
         "x": [
          295,
          295,
          310,
          310,
          310,
          310
         ],
         "y": [
          0,
          0,
          0.010132665000000013,
          0.010132665000000013,
          0.010132665000000013,
          0.010132665000000013
         ]
        },
        {
         "line": {
          "color": "blue",
          "dash": "dot"
         },
         "mode": "lines",
         "name": "(C,34): 0.0*x**2 + -0.00064*x\n R2=error",
         "type": "scatter",
         "x": [
          295,
          295,
          310,
          310,
          310,
          310
         ],
         "y": [
          5.273559366969494e-16,
          5.273559366969494e-16,
          0.010132665000000485,
          0.010132665000000485,
          0.010132665000000485,
          0.010132665000000485
         ]
        },
        {
         "hovertemplate": "<b>base: %{text[0]}<br><b>mut_rates: %{text[1]}<br><b>sample: %{text[2]}<br><b>temperature_k: %{text[3]}<br><b>paired: %{text[4]}<br>",
         "line": {
          "color": "orange"
         },
         "marker": {
          "symbol": [
           0,
           0,
           0,
           0,
           0,
           0,
           0,
           0,
           0,
           0,
           0,
           0,
           0,
           0,
           0,
           0,
           0,
           0,
           100,
           100,
           100,
           100,
           100,
           100,
           100,
           100,
           100,
           100,
           100,
           100,
           100,
           100,
           100,
           100,
           100,
           100,
           100,
           100,
           100,
           100,
           100,
           100,
           0,
           0,
           0,
           0,
           0,
           0,
           0,
           0,
           0,
           0,
           0,
           0,
           0,
           0,
           0,
           0,
           0,
           0,
           0,
           0,
           0,
           0,
           0,
           0,
           0,
           0,
           0,
           0,
           0,
           0,
           100,
           100,
           100,
           100,
           100,
           100
          ]
         },
         "mode": "lines+markers",
         "name": "(C,35)",
         "text": [
          [
           "C",
           0.02966896,
           472,
           310,
           true
          ],
          [
           "C",
           0.00038971,
           473,
           310,
           true
          ],
          [
           "C",
           0,
           475,
           295,
           true
          ],
          [
           "C",
           0.00046019,
           471,
           310,
           true
          ],
          [
           "C",
           0.00596125,
           470,
           310,
           true
          ],
          [
           "C",
           0,
           474,
           295,
           true
          ],
          [
           "A",
           0,
           473,
           310,
           true
          ],
          [
           "A",
           0,
           471,
           310,
           true
          ],
          [
           "A",
           0.01717676,
           472,
           310,
           true
          ],
          [
           "A",
           0,
           474,
           295,
           true
          ],
          [
           "A",
           0.01142573,
           470,
           310,
           true
          ],
          [
           "A",
           0.00018815,
           475,
           295,
           true
          ],
          [
           "A",
           0,
           473,
           310,
           true
          ],
          [
           "A",
           0.00018815,
           475,
           295,
           true
          ],
          [
           "A",
           0.00057078,
           474,
           295,
           true
          ],
          [
           "A",
           0.00046019,
           471,
           310,
           true
          ],
          [
           "A",
           0.00905684,
           472,
           310,
           true
          ],
          [
           "A",
           0.00894188,
           470,
           310,
           true
          ],
          [
           "A",
           0,
           475,
           295,
           false
          ],
          [
           "A",
           0,
           471,
           310,
           false
          ],
          [
           "A",
           0.05017387,
           470,
           310,
           false
          ],
          [
           "A",
           0,
           474,
           295,
           false
          ],
          [
           "A",
           0.00077912,
           473,
           310,
           false
          ],
          [
           "A",
           0.04278576,
           472,
           310,
           false
          ],
          [
           "A",
           0.00077912,
           473,
           310,
           false
          ],
          [
           "A",
           0,
           474,
           295,
           false
          ],
          [
           "A",
           0.04840725,
           472,
           310,
           false
          ],
          [
           "A",
           0.00092039,
           471,
           310,
           false
          ],
          [
           "A",
           0.10183805,
           470,
           310,
           false
          ],
          [
           "A",
           0.00018808,
           475,
           295,
           false
          ],
          [
           "C",
           0.07870081,
           472,
           310,
           false
          ],
          [
           "C",
           0,
           474,
           295,
           false
          ],
          [
           "C",
           0.00038941,
           473,
           310,
           false
          ],
          [
           "C",
           0.00018808,
           475,
           295,
           false
          ],
          [
           "C",
           0.09538003,
           470,
           310,
           false
          ],
          [
           "C",
           0.00046019,
           471,
           310,
           false
          ],
          [
           "A",
           0.07004471,
           470,
           310,
           false
          ],
          [
           "A",
           0.00057078,
           474,
           295,
           false
          ],
          [
           "A",
           0.00038941,
           473,
           310,
           false
          ],
          [
           "A",
           0.00184077,
           471,
           310,
           false
          ],
          [
           "A",
           0.00018808,
           475,
           295,
           false
          ],
          [
           "A",
           0.07183011,
           472,
           310,
           false
          ],
          [
           "C",
           0.01838053,
           470,
           310,
           true
          ],
          [
           "C",
           0,
           474,
           295,
           true
          ],
          [
           "C",
           0.02998126,
           472,
           310,
           true
          ],
          [
           "C",
           0.00077882,
           473,
           310,
           true
          ],
          [
           "C",
           0,
           471,
           310,
           true
          ],
          [
           "C",
           0,
           475,
           295,
           true
          ],
          [
           "C",
           0,
           475,
           295,
           true
          ],
          [
           "C",
           0.00038941,
           473,
           310,
           true
          ],
          [
           "C",
           0.02779513,
           472,
           310,
           true
          ],
          [
           "C",
           0.01142573,
           470,
           310,
           true
          ],
          [
           "C",
           0,
           474,
           295,
           true
          ],
          [
           "C",
           0.00092039,
           471,
           310,
           true
          ],
          [
           "C",
           0,
           475,
           295,
           true
          ],
          [
           "C",
           0.00645802,
           470,
           310,
           true
          ],
          [
           "C",
           0.00057078,
           474,
           295,
           true
          ],
          [
           "C",
           0.01686446,
           472,
           310,
           true
          ],
          [
           "C",
           0,
           471,
           310,
           true
          ],
          [
           "C",
           0.00116822,
           473,
           310,
           true
          ],
          [
           "A",
           0.00905684,
           472,
           310,
           true
          ],
          [
           "A",
           0.00046019,
           471,
           310,
           true
          ],
          [
           "A",
           0.00844511,
           470,
           310,
           true
          ],
          [
           "A",
           0.00018804,
           475,
           295,
           true
          ],
          [
           "A",
           0,
           473,
           310,
           true
          ],
          [
           "A",
           0,
           474,
           295,
           true
          ],
          [
           "A",
           0.00057078,
           474,
           295,
           true
          ],
          [
           "A",
           0.00056412,
           475,
           295,
           true
          ],
          [
           "A",
           0.00077882,
           473,
           310,
           true
          ],
          [
           "A",
           0.00844511,
           470,
           310,
           true
          ],
          [
           "A",
           0,
           471,
           310,
           true
          ],
          [
           "A",
           0.00749532,
           472,
           310,
           true
          ],
          [
           "C",
           0.00046019,
           471,
           310,
           false
          ],
          [
           "C",
           0.00018804,
           475,
           295,
           false
          ],
          [
           "C",
           0.00844511,
           470,
           310,
           false
          ],
          [
           "C",
           0.02654591,
           472,
           310,
           false
          ],
          [
           "C",
           0,
           474,
           295,
           false
          ],
          [
           "C",
           0.00116822,
           473,
           310,
           false
          ]
         ],
         "type": "scatter",
         "x": [
          295,
          310,
          295,
          310,
          310,
          310
         ],
         "y": [
          0,
          0.00645802,
          0.00057078,
          0.01686446,
          0,
          0.00116822
         ]
        },
        {
         "line": {
          "color": "orange",
          "dash": "solid"
         },
         "mode": "lines",
         "name": "(C,35): 0.00039*x + -0.11451\n R2=error",
         "type": "scatter",
         "x": [
          295,
          295,
          310,
          310,
          310,
          310
         ],
         "y": [
          0.0002853899999999965,
          0.0002853899999999965,
          0.006122674999999994,
          0.006122674999999994,
          0.006122674999999994,
          0.006122674999999994
         ]
        },
        {
         "line": {
          "color": "orange",
          "dash": "dot"
         },
         "mode": "lines",
         "name": "(C,35): 0.0*x**2 + -0.00037*x\n R2=error",
         "type": "scatter",
         "x": [
          295,
          295,
          310,
          310,
          310,
          310
         ],
         "y": [
          0.00028539000000007975,
          0.00028539000000007975,
          0.00612267500000048,
          0.00612267500000048,
          0.00612267500000048,
          0.00612267500000048
         ]
        },
        {
         "hovertemplate": "<b>base: %{text[0]}<br><b>mut_rates: %{text[1]}<br><b>sample: %{text[2]}<br><b>temperature_k: %{text[3]}<br><b>paired: %{text[4]}<br>",
         "line": {
          "color": "purple"
         },
         "marker": {
          "symbol": [
           0,
           0,
           0,
           0,
           0,
           0,
           0,
           0,
           0,
           0,
           0,
           0,
           0,
           0,
           0,
           0,
           0,
           0,
           100,
           100,
           100,
           100,
           100,
           100,
           100,
           100,
           100,
           100,
           100,
           100,
           100,
           100,
           100,
           100,
           100,
           100,
           100,
           100,
           100,
           100,
           100,
           100,
           0,
           0,
           0,
           0,
           0,
           0,
           0,
           0,
           0,
           0,
           0,
           0,
           0,
           0,
           0,
           0,
           0,
           0,
           0,
           0,
           0,
           0,
           0,
           0,
           0,
           0,
           0,
           0,
           0,
           0,
           100,
           100,
           100,
           100,
           100,
           100
          ]
         },
         "mode": "lines+markers",
         "name": "(A,36)",
         "text": [
          [
           "C",
           0.02966896,
           472,
           310,
           true
          ],
          [
           "C",
           0.00038971,
           473,
           310,
           true
          ],
          [
           "C",
           0,
           475,
           295,
           true
          ],
          [
           "C",
           0.00046019,
           471,
           310,
           true
          ],
          [
           "C",
           0.00596125,
           470,
           310,
           true
          ],
          [
           "C",
           0,
           474,
           295,
           true
          ],
          [
           "A",
           0,
           473,
           310,
           true
          ],
          [
           "A",
           0,
           471,
           310,
           true
          ],
          [
           "A",
           0.01717676,
           472,
           310,
           true
          ],
          [
           "A",
           0,
           474,
           295,
           true
          ],
          [
           "A",
           0.01142573,
           470,
           310,
           true
          ],
          [
           "A",
           0.00018815,
           475,
           295,
           true
          ],
          [
           "A",
           0,
           473,
           310,
           true
          ],
          [
           "A",
           0.00018815,
           475,
           295,
           true
          ],
          [
           "A",
           0.00057078,
           474,
           295,
           true
          ],
          [
           "A",
           0.00046019,
           471,
           310,
           true
          ],
          [
           "A",
           0.00905684,
           472,
           310,
           true
          ],
          [
           "A",
           0.00894188,
           470,
           310,
           true
          ],
          [
           "A",
           0,
           475,
           295,
           false
          ],
          [
           "A",
           0,
           471,
           310,
           false
          ],
          [
           "A",
           0.05017387,
           470,
           310,
           false
          ],
          [
           "A",
           0,
           474,
           295,
           false
          ],
          [
           "A",
           0.00077912,
           473,
           310,
           false
          ],
          [
           "A",
           0.04278576,
           472,
           310,
           false
          ],
          [
           "A",
           0.00077912,
           473,
           310,
           false
          ],
          [
           "A",
           0,
           474,
           295,
           false
          ],
          [
           "A",
           0.04840725,
           472,
           310,
           false
          ],
          [
           "A",
           0.00092039,
           471,
           310,
           false
          ],
          [
           "A",
           0.10183805,
           470,
           310,
           false
          ],
          [
           "A",
           0.00018808,
           475,
           295,
           false
          ],
          [
           "C",
           0.07870081,
           472,
           310,
           false
          ],
          [
           "C",
           0,
           474,
           295,
           false
          ],
          [
           "C",
           0.00038941,
           473,
           310,
           false
          ],
          [
           "C",
           0.00018808,
           475,
           295,
           false
          ],
          [
           "C",
           0.09538003,
           470,
           310,
           false
          ],
          [
           "C",
           0.00046019,
           471,
           310,
           false
          ],
          [
           "A",
           0.07004471,
           470,
           310,
           false
          ],
          [
           "A",
           0.00057078,
           474,
           295,
           false
          ],
          [
           "A",
           0.00038941,
           473,
           310,
           false
          ],
          [
           "A",
           0.00184077,
           471,
           310,
           false
          ],
          [
           "A",
           0.00018808,
           475,
           295,
           false
          ],
          [
           "A",
           0.07183011,
           472,
           310,
           false
          ],
          [
           "C",
           0.01838053,
           470,
           310,
           true
          ],
          [
           "C",
           0,
           474,
           295,
           true
          ],
          [
           "C",
           0.02998126,
           472,
           310,
           true
          ],
          [
           "C",
           0.00077882,
           473,
           310,
           true
          ],
          [
           "C",
           0,
           471,
           310,
           true
          ],
          [
           "C",
           0,
           475,
           295,
           true
          ],
          [
           "C",
           0,
           475,
           295,
           true
          ],
          [
           "C",
           0.00038941,
           473,
           310,
           true
          ],
          [
           "C",
           0.02779513,
           472,
           310,
           true
          ],
          [
           "C",
           0.01142573,
           470,
           310,
           true
          ],
          [
           "C",
           0,
           474,
           295,
           true
          ],
          [
           "C",
           0.00092039,
           471,
           310,
           true
          ],
          [
           "C",
           0,
           475,
           295,
           true
          ],
          [
           "C",
           0.00645802,
           470,
           310,
           true
          ],
          [
           "C",
           0.00057078,
           474,
           295,
           true
          ],
          [
           "C",
           0.01686446,
           472,
           310,
           true
          ],
          [
           "C",
           0,
           471,
           310,
           true
          ],
          [
           "C",
           0.00116822,
           473,
           310,
           true
          ],
          [
           "A",
           0.00905684,
           472,
           310,
           true
          ],
          [
           "A",
           0.00046019,
           471,
           310,
           true
          ],
          [
           "A",
           0.00844511,
           470,
           310,
           true
          ],
          [
           "A",
           0.00018804,
           475,
           295,
           true
          ],
          [
           "A",
           0,
           473,
           310,
           true
          ],
          [
           "A",
           0,
           474,
           295,
           true
          ],
          [
           "A",
           0.00057078,
           474,
           295,
           true
          ],
          [
           "A",
           0.00056412,
           475,
           295,
           true
          ],
          [
           "A",
           0.00077882,
           473,
           310,
           true
          ],
          [
           "A",
           0.00844511,
           470,
           310,
           true
          ],
          [
           "A",
           0,
           471,
           310,
           true
          ],
          [
           "A",
           0.00749532,
           472,
           310,
           true
          ],
          [
           "C",
           0.00046019,
           471,
           310,
           false
          ],
          [
           "C",
           0.00018804,
           475,
           295,
           false
          ],
          [
           "C",
           0.00844511,
           470,
           310,
           false
          ],
          [
           "C",
           0.02654591,
           472,
           310,
           false
          ],
          [
           "C",
           0,
           474,
           295,
           false
          ],
          [
           "C",
           0.00116822,
           473,
           310,
           false
          ]
         ],
         "type": "scatter",
         "x": [
          310,
          310,
          310,
          295,
          310,
          295
         ],
         "y": [
          0.00905684,
          0.00046019,
          0.00844511,
          0.00018804,
          0,
          0
         ]
        },
        {
         "line": {
          "color": "purple",
          "dash": "solid"
         },
         "mode": "lines",
         "name": "(A,36): 0.00029*x + -0.08637\n R2=error",
         "type": "scatter",
         "x": [
          295,
          295,
          310,
          310,
          310,
          310
         ],
         "y": [
          0.00009402000000001409,
          0.00009402000000001409,
          0.004490535000000004,
          0.004490535000000004,
          0.004490535000000004,
          0.004490535000000004
         ]
        },
        {
         "line": {
          "color": "purple",
          "dash": "dot"
         },
         "mode": "lines",
         "name": "(A,36): 0.0*x**2 + -0.00028*x\n R2=error",
         "type": "scatter",
         "x": [
          295,
          295,
          310,
          310,
          310,
          310
         ],
         "y": [
          0.0000940199999994451,
          0.0000940199999994451,
          0.0044905350000011,
          0.0044905350000011,
          0.0044905350000011,
          0.0044905350000011
         ]
        },
        {
         "hovertemplate": "<b>base: %{text[0]}<br><b>mut_rates: %{text[1]}<br><b>sample: %{text[2]}<br><b>temperature_k: %{text[3]}<br><b>paired: %{text[4]}<br>",
         "line": {
          "color": "black"
         },
         "marker": {
          "symbol": [
           0,
           0,
           0,
           0,
           0,
           0,
           0,
           0,
           0,
           0,
           0,
           0,
           0,
           0,
           0,
           0,
           0,
           0,
           100,
           100,
           100,
           100,
           100,
           100,
           100,
           100,
           100,
           100,
           100,
           100,
           100,
           100,
           100,
           100,
           100,
           100,
           100,
           100,
           100,
           100,
           100,
           100,
           0,
           0,
           0,
           0,
           0,
           0,
           0,
           0,
           0,
           0,
           0,
           0,
           0,
           0,
           0,
           0,
           0,
           0,
           0,
           0,
           0,
           0,
           0,
           0,
           0,
           0,
           0,
           0,
           0,
           0,
           100,
           100,
           100,
           100,
           100,
           100
          ]
         },
         "mode": "lines+markers",
         "name": "(A,38)",
         "text": [
          [
           "C",
           0.02966896,
           472,
           310,
           true
          ],
          [
           "C",
           0.00038971,
           473,
           310,
           true
          ],
          [
           "C",
           0,
           475,
           295,
           true
          ],
          [
           "C",
           0.00046019,
           471,
           310,
           true
          ],
          [
           "C",
           0.00596125,
           470,
           310,
           true
          ],
          [
           "C",
           0,
           474,
           295,
           true
          ],
          [
           "A",
           0,
           473,
           310,
           true
          ],
          [
           "A",
           0,
           471,
           310,
           true
          ],
          [
           "A",
           0.01717676,
           472,
           310,
           true
          ],
          [
           "A",
           0,
           474,
           295,
           true
          ],
          [
           "A",
           0.01142573,
           470,
           310,
           true
          ],
          [
           "A",
           0.00018815,
           475,
           295,
           true
          ],
          [
           "A",
           0,
           473,
           310,
           true
          ],
          [
           "A",
           0.00018815,
           475,
           295,
           true
          ],
          [
           "A",
           0.00057078,
           474,
           295,
           true
          ],
          [
           "A",
           0.00046019,
           471,
           310,
           true
          ],
          [
           "A",
           0.00905684,
           472,
           310,
           true
          ],
          [
           "A",
           0.00894188,
           470,
           310,
           true
          ],
          [
           "A",
           0,
           475,
           295,
           false
          ],
          [
           "A",
           0,
           471,
           310,
           false
          ],
          [
           "A",
           0.05017387,
           470,
           310,
           false
          ],
          [
           "A",
           0,
           474,
           295,
           false
          ],
          [
           "A",
           0.00077912,
           473,
           310,
           false
          ],
          [
           "A",
           0.04278576,
           472,
           310,
           false
          ],
          [
           "A",
           0.00077912,
           473,
           310,
           false
          ],
          [
           "A",
           0,
           474,
           295,
           false
          ],
          [
           "A",
           0.04840725,
           472,
           310,
           false
          ],
          [
           "A",
           0.00092039,
           471,
           310,
           false
          ],
          [
           "A",
           0.10183805,
           470,
           310,
           false
          ],
          [
           "A",
           0.00018808,
           475,
           295,
           false
          ],
          [
           "C",
           0.07870081,
           472,
           310,
           false
          ],
          [
           "C",
           0,
           474,
           295,
           false
          ],
          [
           "C",
           0.00038941,
           473,
           310,
           false
          ],
          [
           "C",
           0.00018808,
           475,
           295,
           false
          ],
          [
           "C",
           0.09538003,
           470,
           310,
           false
          ],
          [
           "C",
           0.00046019,
           471,
           310,
           false
          ],
          [
           "A",
           0.07004471,
           470,
           310,
           false
          ],
          [
           "A",
           0.00057078,
           474,
           295,
           false
          ],
          [
           "A",
           0.00038941,
           473,
           310,
           false
          ],
          [
           "A",
           0.00184077,
           471,
           310,
           false
          ],
          [
           "A",
           0.00018808,
           475,
           295,
           false
          ],
          [
           "A",
           0.07183011,
           472,
           310,
           false
          ],
          [
           "C",
           0.01838053,
           470,
           310,
           true
          ],
          [
           "C",
           0,
           474,
           295,
           true
          ],
          [
           "C",
           0.02998126,
           472,
           310,
           true
          ],
          [
           "C",
           0.00077882,
           473,
           310,
           true
          ],
          [
           "C",
           0,
           471,
           310,
           true
          ],
          [
           "C",
           0,
           475,
           295,
           true
          ],
          [
           "C",
           0,
           475,
           295,
           true
          ],
          [
           "C",
           0.00038941,
           473,
           310,
           true
          ],
          [
           "C",
           0.02779513,
           472,
           310,
           true
          ],
          [
           "C",
           0.01142573,
           470,
           310,
           true
          ],
          [
           "C",
           0,
           474,
           295,
           true
          ],
          [
           "C",
           0.00092039,
           471,
           310,
           true
          ],
          [
           "C",
           0,
           475,
           295,
           true
          ],
          [
           "C",
           0.00645802,
           470,
           310,
           true
          ],
          [
           "C",
           0.00057078,
           474,
           295,
           true
          ],
          [
           "C",
           0.01686446,
           472,
           310,
           true
          ],
          [
           "C",
           0,
           471,
           310,
           true
          ],
          [
           "C",
           0.00116822,
           473,
           310,
           true
          ],
          [
           "A",
           0.00905684,
           472,
           310,
           true
          ],
          [
           "A",
           0.00046019,
           471,
           310,
           true
          ],
          [
           "A",
           0.00844511,
           470,
           310,
           true
          ],
          [
           "A",
           0.00018804,
           475,
           295,
           true
          ],
          [
           "A",
           0,
           473,
           310,
           true
          ],
          [
           "A",
           0,
           474,
           295,
           true
          ],
          [
           "A",
           0.00057078,
           474,
           295,
           true
          ],
          [
           "A",
           0.00056412,
           475,
           295,
           true
          ],
          [
           "A",
           0.00077882,
           473,
           310,
           true
          ],
          [
           "A",
           0.00844511,
           470,
           310,
           true
          ],
          [
           "A",
           0,
           471,
           310,
           true
          ],
          [
           "A",
           0.00749532,
           472,
           310,
           true
          ],
          [
           "C",
           0.00046019,
           471,
           310,
           false
          ],
          [
           "C",
           0.00018804,
           475,
           295,
           false
          ],
          [
           "C",
           0.00844511,
           470,
           310,
           false
          ],
          [
           "C",
           0.02654591,
           472,
           310,
           false
          ],
          [
           "C",
           0,
           474,
           295,
           false
          ],
          [
           "C",
           0.00116822,
           473,
           310,
           false
          ]
         ],
         "type": "scatter",
         "x": [
          295,
          295,
          310,
          310,
          310,
          310
         ],
         "y": [
          0.00057078,
          0.00056412,
          0.00077882,
          0.00844511,
          0,
          0.00749532
         ]
        },
        {
         "line": {
          "color": "black",
          "dash": "solid"
         },
         "mode": "lines",
         "name": "(A,38): 0.00024*x + -0.07048\n R2=error",
         "type": "scatter",
         "x": [
          295,
          295,
          310,
          310,
          310,
          310
         ],
         "y": [
          0.0005674499999999971,
          0.0005674499999999971,
          0.004179812500000005,
          0.004179812500000005,
          0.004179812500000005,
          0.004179812500000005
         ]
        },
        {
         "line": {
          "color": "black",
          "dash": "dot"
         },
         "mode": "lines",
         "name": "(A,38): 0.0*x**2 + -0.00023*x\n R2=error",
         "type": "scatter",
         "x": [
          295,
          295,
          310,
          310,
          310,
          310
         ],
         "y": [
          0.0005674499999981514,
          0.0005674499999981514,
          0.0041798125000004765,
          0.0041798125000004765,
          0.0041798125000004765,
          0.0041798125000004765
         ]
        },
        {
         "hovertemplate": "<b>base: %{text[0]}<br><b>mut_rates: %{text[1]}<br><b>sample: %{text[2]}<br><b>temperature_k: %{text[3]}<br><b>paired: %{text[4]}<br>",
         "line": {
          "color": "yellow"
         },
         "marker": {
          "symbol": [
           0,
           0,
           0,
           0,
           0,
           0,
           0,
           0,
           0,
           0,
           0,
           0,
           0,
           0,
           0,
           0,
           0,
           0,
           100,
           100,
           100,
           100,
           100,
           100,
           100,
           100,
           100,
           100,
           100,
           100,
           100,
           100,
           100,
           100,
           100,
           100,
           100,
           100,
           100,
           100,
           100,
           100,
           0,
           0,
           0,
           0,
           0,
           0,
           0,
           0,
           0,
           0,
           0,
           0,
           0,
           0,
           0,
           0,
           0,
           0,
           0,
           0,
           0,
           0,
           0,
           0,
           0,
           0,
           0,
           0,
           0,
           0,
           100,
           100,
           100,
           100,
           100,
           100
          ]
         },
         "mode": "lines+markers",
         "name": "(C,41)",
         "text": [
          [
           "C",
           0.02966896,
           472,
           310,
           true
          ],
          [
           "C",
           0.00038971,
           473,
           310,
           true
          ],
          [
           "C",
           0,
           475,
           295,
           true
          ],
          [
           "C",
           0.00046019,
           471,
           310,
           true
          ],
          [
           "C",
           0.00596125,
           470,
           310,
           true
          ],
          [
           "C",
           0,
           474,
           295,
           true
          ],
          [
           "A",
           0,
           473,
           310,
           true
          ],
          [
           "A",
           0,
           471,
           310,
           true
          ],
          [
           "A",
           0.01717676,
           472,
           310,
           true
          ],
          [
           "A",
           0,
           474,
           295,
           true
          ],
          [
           "A",
           0.01142573,
           470,
           310,
           true
          ],
          [
           "A",
           0.00018815,
           475,
           295,
           true
          ],
          [
           "A",
           0,
           473,
           310,
           true
          ],
          [
           "A",
           0.00018815,
           475,
           295,
           true
          ],
          [
           "A",
           0.00057078,
           474,
           295,
           true
          ],
          [
           "A",
           0.00046019,
           471,
           310,
           true
          ],
          [
           "A",
           0.00905684,
           472,
           310,
           true
          ],
          [
           "A",
           0.00894188,
           470,
           310,
           true
          ],
          [
           "A",
           0,
           475,
           295,
           false
          ],
          [
           "A",
           0,
           471,
           310,
           false
          ],
          [
           "A",
           0.05017387,
           470,
           310,
           false
          ],
          [
           "A",
           0,
           474,
           295,
           false
          ],
          [
           "A",
           0.00077912,
           473,
           310,
           false
          ],
          [
           "A",
           0.04278576,
           472,
           310,
           false
          ],
          [
           "A",
           0.00077912,
           473,
           310,
           false
          ],
          [
           "A",
           0,
           474,
           295,
           false
          ],
          [
           "A",
           0.04840725,
           472,
           310,
           false
          ],
          [
           "A",
           0.00092039,
           471,
           310,
           false
          ],
          [
           "A",
           0.10183805,
           470,
           310,
           false
          ],
          [
           "A",
           0.00018808,
           475,
           295,
           false
          ],
          [
           "C",
           0.07870081,
           472,
           310,
           false
          ],
          [
           "C",
           0,
           474,
           295,
           false
          ],
          [
           "C",
           0.00038941,
           473,
           310,
           false
          ],
          [
           "C",
           0.00018808,
           475,
           295,
           false
          ],
          [
           "C",
           0.09538003,
           470,
           310,
           false
          ],
          [
           "C",
           0.00046019,
           471,
           310,
           false
          ],
          [
           "A",
           0.07004471,
           470,
           310,
           false
          ],
          [
           "A",
           0.00057078,
           474,
           295,
           false
          ],
          [
           "A",
           0.00038941,
           473,
           310,
           false
          ],
          [
           "A",
           0.00184077,
           471,
           310,
           false
          ],
          [
           "A",
           0.00018808,
           475,
           295,
           false
          ],
          [
           "A",
           0.07183011,
           472,
           310,
           false
          ],
          [
           "C",
           0.01838053,
           470,
           310,
           true
          ],
          [
           "C",
           0,
           474,
           295,
           true
          ],
          [
           "C",
           0.02998126,
           472,
           310,
           true
          ],
          [
           "C",
           0.00077882,
           473,
           310,
           true
          ],
          [
           "C",
           0,
           471,
           310,
           true
          ],
          [
           "C",
           0,
           475,
           295,
           true
          ],
          [
           "C",
           0,
           475,
           295,
           true
          ],
          [
           "C",
           0.00038941,
           473,
           310,
           true
          ],
          [
           "C",
           0.02779513,
           472,
           310,
           true
          ],
          [
           "C",
           0.01142573,
           470,
           310,
           true
          ],
          [
           "C",
           0,
           474,
           295,
           true
          ],
          [
           "C",
           0.00092039,
           471,
           310,
           true
          ],
          [
           "C",
           0,
           475,
           295,
           true
          ],
          [
           "C",
           0.00645802,
           470,
           310,
           true
          ],
          [
           "C",
           0.00057078,
           474,
           295,
           true
          ],
          [
           "C",
           0.01686446,
           472,
           310,
           true
          ],
          [
           "C",
           0,
           471,
           310,
           true
          ],
          [
           "C",
           0.00116822,
           473,
           310,
           true
          ],
          [
           "A",
           0.00905684,
           472,
           310,
           true
          ],
          [
           "A",
           0.00046019,
           471,
           310,
           true
          ],
          [
           "A",
           0.00844511,
           470,
           310,
           true
          ],
          [
           "A",
           0.00018804,
           475,
           295,
           true
          ],
          [
           "A",
           0,
           473,
           310,
           true
          ],
          [
           "A",
           0,
           474,
           295,
           true
          ],
          [
           "A",
           0.00057078,
           474,
           295,
           true
          ],
          [
           "A",
           0.00056412,
           475,
           295,
           true
          ],
          [
           "A",
           0.00077882,
           473,
           310,
           true
          ],
          [
           "A",
           0.00844511,
           470,
           310,
           true
          ],
          [
           "A",
           0,
           471,
           310,
           true
          ],
          [
           "A",
           0.00749532,
           472,
           310,
           true
          ],
          [
           "C",
           0.00046019,
           471,
           310,
           false
          ],
          [
           "C",
           0.00018804,
           475,
           295,
           false
          ],
          [
           "C",
           0.00844511,
           470,
           310,
           false
          ],
          [
           "C",
           0.02654591,
           472,
           310,
           false
          ],
          [
           "C",
           0,
           474,
           295,
           false
          ],
          [
           "C",
           0.00116822,
           473,
           310,
           false
          ]
         ],
         "type": "scatter",
         "x": [
          310,
          295,
          310,
          310,
          295,
          310
         ],
         "y": [
          0.00046019,
          0.00018804,
          0.00844511,
          0.02654591,
          0,
          0.00116822
         ]
        },
        {
         "line": {
          "color": "yellow",
          "dash": "solid"
         },
         "mode": "lines",
         "name": "(C,41): 0.0006*x + -0.1781\n R2=error",
         "type": "scatter",
         "x": [
          295,
          295,
          310,
          310,
          310,
          310
         ],
         "y": [
          0.00009401999999997246,
          0.00009401999999997246,
          0.009154857500000002,
          0.009154857500000002,
          0.009154857500000002,
          0.009154857500000002
         ]
        },
        {
         "line": {
          "color": "yellow",
          "dash": "dot"
         },
         "mode": "lines",
         "name": "(C,41): 0.0*x**2 + -0.00057*x\n R2=error",
         "type": "scatter",
         "x": [
          295,
          295,
          310,
          310,
          310,
          310
         ],
         "y": [
          0.00009401999999950061,
          0.00009401999999950061,
          0.009154857499998531,
          0.009154857499998531,
          0.009154857499998531,
          0.009154857499998531
         ]
        },
        {
         "hovertemplate": "<b>base: %{text[0]}<br><b>mut_rates: %{text[1]}<br><b>sample: %{text[2]}<br><b>temperature_k: %{text[3]}<br><b>paired: %{text[4]}<br>",
         "line": {
          "color": "pink"
         },
         "marker": {
          "symbol": [
           0,
           0,
           0,
           0,
           0,
           0,
           0,
           0,
           0,
           0,
           0,
           0,
           0,
           0,
           0,
           0,
           0,
           0,
           100,
           100,
           100,
           100,
           100,
           100,
           100,
           100,
           100,
           100,
           100,
           100,
           100,
           100,
           100,
           100,
           100,
           100,
           100,
           100,
           100,
           100,
           100,
           100,
           0,
           0,
           0,
           0,
           0,
           0,
           0,
           0,
           0,
           0,
           0,
           0,
           0,
           0,
           0,
           0,
           0,
           0,
           0,
           0,
           0,
           0,
           0,
           0,
           0,
           0,
           0,
           0,
           0,
           0,
           100,
           100,
           100,
           100,
           100,
           100
          ]
         },
         "mode": "lines+markers",
         "name": "(C,20)",
         "text": [
          [
           "C",
           0.02966896,
           472,
           310,
           true
          ],
          [
           "C",
           0.00038971,
           473,
           310,
           true
          ],
          [
           "C",
           0,
           475,
           295,
           true
          ],
          [
           "C",
           0.00046019,
           471,
           310,
           true
          ],
          [
           "C",
           0.00596125,
           470,
           310,
           true
          ],
          [
           "C",
           0,
           474,
           295,
           true
          ],
          [
           "A",
           0,
           473,
           310,
           true
          ],
          [
           "A",
           0,
           471,
           310,
           true
          ],
          [
           "A",
           0.01717676,
           472,
           310,
           true
          ],
          [
           "A",
           0,
           474,
           295,
           true
          ],
          [
           "A",
           0.01142573,
           470,
           310,
           true
          ],
          [
           "A",
           0.00018815,
           475,
           295,
           true
          ],
          [
           "A",
           0,
           473,
           310,
           true
          ],
          [
           "A",
           0.00018815,
           475,
           295,
           true
          ],
          [
           "A",
           0.00057078,
           474,
           295,
           true
          ],
          [
           "A",
           0.00046019,
           471,
           310,
           true
          ],
          [
           "A",
           0.00905684,
           472,
           310,
           true
          ],
          [
           "A",
           0.00894188,
           470,
           310,
           true
          ],
          [
           "A",
           0,
           475,
           295,
           false
          ],
          [
           "A",
           0,
           471,
           310,
           false
          ],
          [
           "A",
           0.05017387,
           470,
           310,
           false
          ],
          [
           "A",
           0,
           474,
           295,
           false
          ],
          [
           "A",
           0.00077912,
           473,
           310,
           false
          ],
          [
           "A",
           0.04278576,
           472,
           310,
           false
          ],
          [
           "A",
           0.00077912,
           473,
           310,
           false
          ],
          [
           "A",
           0,
           474,
           295,
           false
          ],
          [
           "A",
           0.04840725,
           472,
           310,
           false
          ],
          [
           "A",
           0.00092039,
           471,
           310,
           false
          ],
          [
           "A",
           0.10183805,
           470,
           310,
           false
          ],
          [
           "A",
           0.00018808,
           475,
           295,
           false
          ],
          [
           "C",
           0.07870081,
           472,
           310,
           false
          ],
          [
           "C",
           0,
           474,
           295,
           false
          ],
          [
           "C",
           0.00038941,
           473,
           310,
           false
          ],
          [
           "C",
           0.00018808,
           475,
           295,
           false
          ],
          [
           "C",
           0.09538003,
           470,
           310,
           false
          ],
          [
           "C",
           0.00046019,
           471,
           310,
           false
          ],
          [
           "A",
           0.07004471,
           470,
           310,
           false
          ],
          [
           "A",
           0.00057078,
           474,
           295,
           false
          ],
          [
           "A",
           0.00038941,
           473,
           310,
           false
          ],
          [
           "A",
           0.00184077,
           471,
           310,
           false
          ],
          [
           "A",
           0.00018808,
           475,
           295,
           false
          ],
          [
           "A",
           0.07183011,
           472,
           310,
           false
          ],
          [
           "C",
           0.01838053,
           470,
           310,
           true
          ],
          [
           "C",
           0,
           474,
           295,
           true
          ],
          [
           "C",
           0.02998126,
           472,
           310,
           true
          ],
          [
           "C",
           0.00077882,
           473,
           310,
           true
          ],
          [
           "C",
           0,
           471,
           310,
           true
          ],
          [
           "C",
           0,
           475,
           295,
           true
          ],
          [
           "C",
           0,
           475,
           295,
           true
          ],
          [
           "C",
           0.00038941,
           473,
           310,
           true
          ],
          [
           "C",
           0.02779513,
           472,
           310,
           true
          ],
          [
           "C",
           0.01142573,
           470,
           310,
           true
          ],
          [
           "C",
           0,
           474,
           295,
           true
          ],
          [
           "C",
           0.00092039,
           471,
           310,
           true
          ],
          [
           "C",
           0,
           475,
           295,
           true
          ],
          [
           "C",
           0.00645802,
           470,
           310,
           true
          ],
          [
           "C",
           0.00057078,
           474,
           295,
           true
          ],
          [
           "C",
           0.01686446,
           472,
           310,
           true
          ],
          [
           "C",
           0,
           471,
           310,
           true
          ],
          [
           "C",
           0.00116822,
           473,
           310,
           true
          ],
          [
           "A",
           0.00905684,
           472,
           310,
           true
          ],
          [
           "A",
           0.00046019,
           471,
           310,
           true
          ],
          [
           "A",
           0.00844511,
           470,
           310,
           true
          ],
          [
           "A",
           0.00018804,
           475,
           295,
           true
          ],
          [
           "A",
           0,
           473,
           310,
           true
          ],
          [
           "A",
           0,
           474,
           295,
           true
          ],
          [
           "A",
           0.00057078,
           474,
           295,
           true
          ],
          [
           "A",
           0.00056412,
           475,
           295,
           true
          ],
          [
           "A",
           0.00077882,
           473,
           310,
           true
          ],
          [
           "A",
           0.00844511,
           470,
           310,
           true
          ],
          [
           "A",
           0,
           471,
           310,
           true
          ],
          [
           "A",
           0.00749532,
           472,
           310,
           true
          ],
          [
           "C",
           0.00046019,
           471,
           310,
           false
          ],
          [
           "C",
           0.00018804,
           475,
           295,
           false
          ],
          [
           "C",
           0.00844511,
           470,
           310,
           false
          ],
          [
           "C",
           0.02654591,
           472,
           310,
           false
          ],
          [
           "C",
           0,
           474,
           295,
           false
          ],
          [
           "C",
           0.00116822,
           473,
           310,
           false
          ]
         ],
         "type": "scatter",
         "x": [
          310,
          310,
          295,
          310,
          310,
          295
         ],
         "y": [
          0.02966896,
          0.00038971,
          0,
          0.00046019,
          0.00596125,
          0
         ]
        },
        {
         "line": {
          "color": "pink",
          "dash": "solid"
         },
         "mode": "lines",
         "name": "(C,20): 0.00061*x + -0.17936\n R2=error",
         "type": "scatter",
         "x": [
          295,
          295,
          310,
          310,
          310,
          310
         ],
         "y": [
          -2.7755575615628914e-17,
          -2.7755575615628914e-17,
          0.009120027500000016,
          0.009120027500000016,
          0.009120027500000016,
          0.009120027500000016
         ]
        },
        {
         "line": {
          "color": "pink",
          "dash": "dot"
         },
         "mode": "lines",
         "name": "(C,20): 0.0*x**2 + -0.00058*x\n R2=error",
         "type": "scatter",
         "x": [
          295,
          295,
          310,
          310,
          310,
          310
         ],
         "y": [
          -9.992007221626409e-16,
          -9.992007221626409e-16,
          0.009120027500000238,
          0.009120027500000238,
          0.009120027500000238,
          0.009120027500000238
         ]
        },
        {
         "hovertemplate": "<b>base: %{text[0]}<br><b>mut_rates: %{text[1]}<br><b>sample: %{text[2]}<br><b>temperature_k: %{text[3]}<br><b>paired: %{text[4]}<br>",
         "line": {
          "color": "brown"
         },
         "marker": {
          "symbol": [
           0,
           0,
           0,
           0,
           0,
           0,
           0,
           0,
           0,
           0,
           0,
           0,
           0,
           0,
           0,
           0,
           0,
           0,
           100,
           100,
           100,
           100,
           100,
           100,
           100,
           100,
           100,
           100,
           100,
           100,
           100,
           100,
           100,
           100,
           100,
           100,
           100,
           100,
           100,
           100,
           100,
           100,
           0,
           0,
           0,
           0,
           0,
           0,
           0,
           0,
           0,
           0,
           0,
           0,
           0,
           0,
           0,
           0,
           0,
           0,
           0,
           0,
           0,
           0,
           0,
           0,
           0,
           0,
           0,
           0,
           0,
           0,
           100,
           100,
           100,
           100,
           100,
           100
          ]
         },
         "mode": "lines+markers",
         "name": "(A,21)",
         "text": [
          [
           "C",
           0.02966896,
           472,
           310,
           true
          ],
          [
           "C",
           0.00038971,
           473,
           310,
           true
          ],
          [
           "C",
           0,
           475,
           295,
           true
          ],
          [
           "C",
           0.00046019,
           471,
           310,
           true
          ],
          [
           "C",
           0.00596125,
           470,
           310,
           true
          ],
          [
           "C",
           0,
           474,
           295,
           true
          ],
          [
           "A",
           0,
           473,
           310,
           true
          ],
          [
           "A",
           0,
           471,
           310,
           true
          ],
          [
           "A",
           0.01717676,
           472,
           310,
           true
          ],
          [
           "A",
           0,
           474,
           295,
           true
          ],
          [
           "A",
           0.01142573,
           470,
           310,
           true
          ],
          [
           "A",
           0.00018815,
           475,
           295,
           true
          ],
          [
           "A",
           0,
           473,
           310,
           true
          ],
          [
           "A",
           0.00018815,
           475,
           295,
           true
          ],
          [
           "A",
           0.00057078,
           474,
           295,
           true
          ],
          [
           "A",
           0.00046019,
           471,
           310,
           true
          ],
          [
           "A",
           0.00905684,
           472,
           310,
           true
          ],
          [
           "A",
           0.00894188,
           470,
           310,
           true
          ],
          [
           "A",
           0,
           475,
           295,
           false
          ],
          [
           "A",
           0,
           471,
           310,
           false
          ],
          [
           "A",
           0.05017387,
           470,
           310,
           false
          ],
          [
           "A",
           0,
           474,
           295,
           false
          ],
          [
           "A",
           0.00077912,
           473,
           310,
           false
          ],
          [
           "A",
           0.04278576,
           472,
           310,
           false
          ],
          [
           "A",
           0.00077912,
           473,
           310,
           false
          ],
          [
           "A",
           0,
           474,
           295,
           false
          ],
          [
           "A",
           0.04840725,
           472,
           310,
           false
          ],
          [
           "A",
           0.00092039,
           471,
           310,
           false
          ],
          [
           "A",
           0.10183805,
           470,
           310,
           false
          ],
          [
           "A",
           0.00018808,
           475,
           295,
           false
          ],
          [
           "C",
           0.07870081,
           472,
           310,
           false
          ],
          [
           "C",
           0,
           474,
           295,
           false
          ],
          [
           "C",
           0.00038941,
           473,
           310,
           false
          ],
          [
           "C",
           0.00018808,
           475,
           295,
           false
          ],
          [
           "C",
           0.09538003,
           470,
           310,
           false
          ],
          [
           "C",
           0.00046019,
           471,
           310,
           false
          ],
          [
           "A",
           0.07004471,
           470,
           310,
           false
          ],
          [
           "A",
           0.00057078,
           474,
           295,
           false
          ],
          [
           "A",
           0.00038941,
           473,
           310,
           false
          ],
          [
           "A",
           0.00184077,
           471,
           310,
           false
          ],
          [
           "A",
           0.00018808,
           475,
           295,
           false
          ],
          [
           "A",
           0.07183011,
           472,
           310,
           false
          ],
          [
           "C",
           0.01838053,
           470,
           310,
           true
          ],
          [
           "C",
           0,
           474,
           295,
           true
          ],
          [
           "C",
           0.02998126,
           472,
           310,
           true
          ],
          [
           "C",
           0.00077882,
           473,
           310,
           true
          ],
          [
           "C",
           0,
           471,
           310,
           true
          ],
          [
           "C",
           0,
           475,
           295,
           true
          ],
          [
           "C",
           0,
           475,
           295,
           true
          ],
          [
           "C",
           0.00038941,
           473,
           310,
           true
          ],
          [
           "C",
           0.02779513,
           472,
           310,
           true
          ],
          [
           "C",
           0.01142573,
           470,
           310,
           true
          ],
          [
           "C",
           0,
           474,
           295,
           true
          ],
          [
           "C",
           0.00092039,
           471,
           310,
           true
          ],
          [
           "C",
           0,
           475,
           295,
           true
          ],
          [
           "C",
           0.00645802,
           470,
           310,
           true
          ],
          [
           "C",
           0.00057078,
           474,
           295,
           true
          ],
          [
           "C",
           0.01686446,
           472,
           310,
           true
          ],
          [
           "C",
           0,
           471,
           310,
           true
          ],
          [
           "C",
           0.00116822,
           473,
           310,
           true
          ],
          [
           "A",
           0.00905684,
           472,
           310,
           true
          ],
          [
           "A",
           0.00046019,
           471,
           310,
           true
          ],
          [
           "A",
           0.00844511,
           470,
           310,
           true
          ],
          [
           "A",
           0.00018804,
           475,
           295,
           true
          ],
          [
           "A",
           0,
           473,
           310,
           true
          ],
          [
           "A",
           0,
           474,
           295,
           true
          ],
          [
           "A",
           0.00057078,
           474,
           295,
           true
          ],
          [
           "A",
           0.00056412,
           475,
           295,
           true
          ],
          [
           "A",
           0.00077882,
           473,
           310,
           true
          ],
          [
           "A",
           0.00844511,
           470,
           310,
           true
          ],
          [
           "A",
           0,
           471,
           310,
           true
          ],
          [
           "A",
           0.00749532,
           472,
           310,
           true
          ],
          [
           "C",
           0.00046019,
           471,
           310,
           false
          ],
          [
           "C",
           0.00018804,
           475,
           295,
           false
          ],
          [
           "C",
           0.00844511,
           470,
           310,
           false
          ],
          [
           "C",
           0.02654591,
           472,
           310,
           false
          ],
          [
           "C",
           0,
           474,
           295,
           false
          ],
          [
           "C",
           0.00116822,
           473,
           310,
           false
          ]
         ],
         "type": "scatter",
         "x": [
          310,
          310,
          310,
          295,
          310,
          295
         ],
         "y": [
          0,
          0,
          0.01717676,
          0,
          0.01142573,
          0.00018815
         ]
        },
        {
         "line": {
          "color": "brown",
          "dash": "solid"
         },
         "mode": "lines",
         "name": "(A,21): 0.00047*x + -0.13868\n R2=error",
         "type": "scatter",
         "x": [
          295,
          295,
          310,
          310,
          310,
          310
         ],
         "y": [
          0.00009407500000005453,
          0.00009407500000005453,
          0.007150622499999981,
          0.007150622499999981,
          0.007150622499999981,
          0.007150622499999981
         ]
        },
        {
         "line": {
          "color": "brown",
          "dash": "dot"
         },
         "mode": "lines",
         "name": "(A,21): 0.0*x**2 + -0.00045*x\n R2=error",
         "type": "scatter",
         "x": [
          295,
          295,
          310,
          310,
          310,
          310
         ],
         "y": [
          0.00009407499999899982,
          0.00009407499999899982,
          0.007150622499999731,
          0.007150622499999731,
          0.007150622499999731,
          0.007150622499999731
         ]
        },
        {
         "hovertemplate": "<b>base: %{text[0]}<br><b>mut_rates: %{text[1]}<br><b>sample: %{text[2]}<br><b>temperature_k: %{text[3]}<br><b>paired: %{text[4]}<br>",
         "line": {
          "color": "grey"
         },
         "marker": {
          "symbol": [
           0,
           0,
           0,
           0,
           0,
           0,
           0,
           0,
           0,
           0,
           0,
           0,
           0,
           0,
           0,
           0,
           0,
           0,
           100,
           100,
           100,
           100,
           100,
           100,
           100,
           100,
           100,
           100,
           100,
           100,
           100,
           100,
           100,
           100,
           100,
           100,
           100,
           100,
           100,
           100,
           100,
           100,
           0,
           0,
           0,
           0,
           0,
           0,
           0,
           0,
           0,
           0,
           0,
           0,
           0,
           0,
           0,
           0,
           0,
           0,
           0,
           0,
           0,
           0,
           0,
           0,
           0,
           0,
           0,
           0,
           0,
           0,
           100,
           100,
           100,
           100,
           100,
           100
          ]
         },
         "mode": "lines+markers",
         "name": "(A,23)",
         "text": [
          [
           "C",
           0.02966896,
           472,
           310,
           true
          ],
          [
           "C",
           0.00038971,
           473,
           310,
           true
          ],
          [
           "C",
           0,
           475,
           295,
           true
          ],
          [
           "C",
           0.00046019,
           471,
           310,
           true
          ],
          [
           "C",
           0.00596125,
           470,
           310,
           true
          ],
          [
           "C",
           0,
           474,
           295,
           true
          ],
          [
           "A",
           0,
           473,
           310,
           true
          ],
          [
           "A",
           0,
           471,
           310,
           true
          ],
          [
           "A",
           0.01717676,
           472,
           310,
           true
          ],
          [
           "A",
           0,
           474,
           295,
           true
          ],
          [
           "A",
           0.01142573,
           470,
           310,
           true
          ],
          [
           "A",
           0.00018815,
           475,
           295,
           true
          ],
          [
           "A",
           0,
           473,
           310,
           true
          ],
          [
           "A",
           0.00018815,
           475,
           295,
           true
          ],
          [
           "A",
           0.00057078,
           474,
           295,
           true
          ],
          [
           "A",
           0.00046019,
           471,
           310,
           true
          ],
          [
           "A",
           0.00905684,
           472,
           310,
           true
          ],
          [
           "A",
           0.00894188,
           470,
           310,
           true
          ],
          [
           "A",
           0,
           475,
           295,
           false
          ],
          [
           "A",
           0,
           471,
           310,
           false
          ],
          [
           "A",
           0.05017387,
           470,
           310,
           false
          ],
          [
           "A",
           0,
           474,
           295,
           false
          ],
          [
           "A",
           0.00077912,
           473,
           310,
           false
          ],
          [
           "A",
           0.04278576,
           472,
           310,
           false
          ],
          [
           "A",
           0.00077912,
           473,
           310,
           false
          ],
          [
           "A",
           0,
           474,
           295,
           false
          ],
          [
           "A",
           0.04840725,
           472,
           310,
           false
          ],
          [
           "A",
           0.00092039,
           471,
           310,
           false
          ],
          [
           "A",
           0.10183805,
           470,
           310,
           false
          ],
          [
           "A",
           0.00018808,
           475,
           295,
           false
          ],
          [
           "C",
           0.07870081,
           472,
           310,
           false
          ],
          [
           "C",
           0,
           474,
           295,
           false
          ],
          [
           "C",
           0.00038941,
           473,
           310,
           false
          ],
          [
           "C",
           0.00018808,
           475,
           295,
           false
          ],
          [
           "C",
           0.09538003,
           470,
           310,
           false
          ],
          [
           "C",
           0.00046019,
           471,
           310,
           false
          ],
          [
           "A",
           0.07004471,
           470,
           310,
           false
          ],
          [
           "A",
           0.00057078,
           474,
           295,
           false
          ],
          [
           "A",
           0.00038941,
           473,
           310,
           false
          ],
          [
           "A",
           0.00184077,
           471,
           310,
           false
          ],
          [
           "A",
           0.00018808,
           475,
           295,
           false
          ],
          [
           "A",
           0.07183011,
           472,
           310,
           false
          ],
          [
           "C",
           0.01838053,
           470,
           310,
           true
          ],
          [
           "C",
           0,
           474,
           295,
           true
          ],
          [
           "C",
           0.02998126,
           472,
           310,
           true
          ],
          [
           "C",
           0.00077882,
           473,
           310,
           true
          ],
          [
           "C",
           0,
           471,
           310,
           true
          ],
          [
           "C",
           0,
           475,
           295,
           true
          ],
          [
           "C",
           0,
           475,
           295,
           true
          ],
          [
           "C",
           0.00038941,
           473,
           310,
           true
          ],
          [
           "C",
           0.02779513,
           472,
           310,
           true
          ],
          [
           "C",
           0.01142573,
           470,
           310,
           true
          ],
          [
           "C",
           0,
           474,
           295,
           true
          ],
          [
           "C",
           0.00092039,
           471,
           310,
           true
          ],
          [
           "C",
           0,
           475,
           295,
           true
          ],
          [
           "C",
           0.00645802,
           470,
           310,
           true
          ],
          [
           "C",
           0.00057078,
           474,
           295,
           true
          ],
          [
           "C",
           0.01686446,
           472,
           310,
           true
          ],
          [
           "C",
           0,
           471,
           310,
           true
          ],
          [
           "C",
           0.00116822,
           473,
           310,
           true
          ],
          [
           "A",
           0.00905684,
           472,
           310,
           true
          ],
          [
           "A",
           0.00046019,
           471,
           310,
           true
          ],
          [
           "A",
           0.00844511,
           470,
           310,
           true
          ],
          [
           "A",
           0.00018804,
           475,
           295,
           true
          ],
          [
           "A",
           0,
           473,
           310,
           true
          ],
          [
           "A",
           0,
           474,
           295,
           true
          ],
          [
           "A",
           0.00057078,
           474,
           295,
           true
          ],
          [
           "A",
           0.00056412,
           475,
           295,
           true
          ],
          [
           "A",
           0.00077882,
           473,
           310,
           true
          ],
          [
           "A",
           0.00844511,
           470,
           310,
           true
          ],
          [
           "A",
           0,
           471,
           310,
           true
          ],
          [
           "A",
           0.00749532,
           472,
           310,
           true
          ],
          [
           "C",
           0.00046019,
           471,
           310,
           false
          ],
          [
           "C",
           0.00018804,
           475,
           295,
           false
          ],
          [
           "C",
           0.00844511,
           470,
           310,
           false
          ],
          [
           "C",
           0.02654591,
           472,
           310,
           false
          ],
          [
           "C",
           0,
           474,
           295,
           false
          ],
          [
           "C",
           0.00116822,
           473,
           310,
           false
          ]
         ],
         "type": "scatter",
         "x": [
          310,
          295,
          295,
          310,
          310,
          310
         ],
         "y": [
          0,
          0.00018815,
          0.00057078,
          0.00046019,
          0.00905684,
          0.00894188
         ]
        },
        {
         "line": {
          "color": "grey",
          "dash": "solid"
         },
         "mode": "lines",
         "name": "(A,23): 0.00028*x + -0.08291\n R2=error",
         "type": "scatter",
         "x": [
          295,
          295,
          310,
          310,
          310,
          310
         ],
         "y": [
          0.0003794649999999816,
          0.0003794649999999816,
          0.0046147275000000265,
          0.0046147275000000265,
          0.0046147275000000265,
          0.0046147275000000265
         ]
        },
        {
         "line": {
          "color": "grey",
          "dash": "dot"
         },
         "mode": "lines",
         "name": "(A,23): 0.0*x**2 + -0.00027*x\n R2=error",
         "type": "scatter",
         "x": [
          295,
          295,
          310,
          310,
          310,
          310
         ],
         "y": [
          0.0003794650000003702,
          0.0003794650000003702,
          0.004614727499999846,
          0.004614727499999846,
          0.004614727499999846,
          0.004614727499999846
         ]
        },
        {
         "hovertemplate": "<b>base: %{text[0]}<br><b>mut_rates: %{text[1]}<br><b>sample: %{text[2]}<br><b>temperature_k: %{text[3]}<br><b>paired: %{text[4]}<br>",
         "line": {
          "color": "cyan"
         },
         "marker": {
          "symbol": [
           0,
           0,
           0,
           0,
           0,
           0,
           0,
           0,
           0,
           0,
           0,
           0,
           0,
           0,
           0,
           0,
           0,
           0,
           100,
           100,
           100,
           100,
           100,
           100,
           100,
           100,
           100,
           100,
           100,
           100,
           100,
           100,
           100,
           100,
           100,
           100,
           100,
           100,
           100,
           100,
           100,
           100,
           0,
           0,
           0,
           0,
           0,
           0,
           0,
           0,
           0,
           0,
           0,
           0,
           0,
           0,
           0,
           0,
           0,
           0,
           0,
           0,
           0,
           0,
           0,
           0,
           0,
           0,
           0,
           0,
           0,
           0,
           100,
           100,
           100,
           100,
           100,
           100
          ]
         },
         "mode": "lines+markers",
         "name": "(A,26)",
         "text": [
          [
           "C",
           0.02966896,
           472,
           310,
           true
          ],
          [
           "C",
           0.00038971,
           473,
           310,
           true
          ],
          [
           "C",
           0,
           475,
           295,
           true
          ],
          [
           "C",
           0.00046019,
           471,
           310,
           true
          ],
          [
           "C",
           0.00596125,
           470,
           310,
           true
          ],
          [
           "C",
           0,
           474,
           295,
           true
          ],
          [
           "A",
           0,
           473,
           310,
           true
          ],
          [
           "A",
           0,
           471,
           310,
           true
          ],
          [
           "A",
           0.01717676,
           472,
           310,
           true
          ],
          [
           "A",
           0,
           474,
           295,
           true
          ],
          [
           "A",
           0.01142573,
           470,
           310,
           true
          ],
          [
           "A",
           0.00018815,
           475,
           295,
           true
          ],
          [
           "A",
           0,
           473,
           310,
           true
          ],
          [
           "A",
           0.00018815,
           475,
           295,
           true
          ],
          [
           "A",
           0.00057078,
           474,
           295,
           true
          ],
          [
           "A",
           0.00046019,
           471,
           310,
           true
          ],
          [
           "A",
           0.00905684,
           472,
           310,
           true
          ],
          [
           "A",
           0.00894188,
           470,
           310,
           true
          ],
          [
           "A",
           0,
           475,
           295,
           false
          ],
          [
           "A",
           0,
           471,
           310,
           false
          ],
          [
           "A",
           0.05017387,
           470,
           310,
           false
          ],
          [
           "A",
           0,
           474,
           295,
           false
          ],
          [
           "A",
           0.00077912,
           473,
           310,
           false
          ],
          [
           "A",
           0.04278576,
           472,
           310,
           false
          ],
          [
           "A",
           0.00077912,
           473,
           310,
           false
          ],
          [
           "A",
           0,
           474,
           295,
           false
          ],
          [
           "A",
           0.04840725,
           472,
           310,
           false
          ],
          [
           "A",
           0.00092039,
           471,
           310,
           false
          ],
          [
           "A",
           0.10183805,
           470,
           310,
           false
          ],
          [
           "A",
           0.00018808,
           475,
           295,
           false
          ],
          [
           "C",
           0.07870081,
           472,
           310,
           false
          ],
          [
           "C",
           0,
           474,
           295,
           false
          ],
          [
           "C",
           0.00038941,
           473,
           310,
           false
          ],
          [
           "C",
           0.00018808,
           475,
           295,
           false
          ],
          [
           "C",
           0.09538003,
           470,
           310,
           false
          ],
          [
           "C",
           0.00046019,
           471,
           310,
           false
          ],
          [
           "A",
           0.07004471,
           470,
           310,
           false
          ],
          [
           "A",
           0.00057078,
           474,
           295,
           false
          ],
          [
           "A",
           0.00038941,
           473,
           310,
           false
          ],
          [
           "A",
           0.00184077,
           471,
           310,
           false
          ],
          [
           "A",
           0.00018808,
           475,
           295,
           false
          ],
          [
           "A",
           0.07183011,
           472,
           310,
           false
          ],
          [
           "C",
           0.01838053,
           470,
           310,
           true
          ],
          [
           "C",
           0,
           474,
           295,
           true
          ],
          [
           "C",
           0.02998126,
           472,
           310,
           true
          ],
          [
           "C",
           0.00077882,
           473,
           310,
           true
          ],
          [
           "C",
           0,
           471,
           310,
           true
          ],
          [
           "C",
           0,
           475,
           295,
           true
          ],
          [
           "C",
           0,
           475,
           295,
           true
          ],
          [
           "C",
           0.00038941,
           473,
           310,
           true
          ],
          [
           "C",
           0.02779513,
           472,
           310,
           true
          ],
          [
           "C",
           0.01142573,
           470,
           310,
           true
          ],
          [
           "C",
           0,
           474,
           295,
           true
          ],
          [
           "C",
           0.00092039,
           471,
           310,
           true
          ],
          [
           "C",
           0,
           475,
           295,
           true
          ],
          [
           "C",
           0.00645802,
           470,
           310,
           true
          ],
          [
           "C",
           0.00057078,
           474,
           295,
           true
          ],
          [
           "C",
           0.01686446,
           472,
           310,
           true
          ],
          [
           "C",
           0,
           471,
           310,
           true
          ],
          [
           "C",
           0.00116822,
           473,
           310,
           true
          ],
          [
           "A",
           0.00905684,
           472,
           310,
           true
          ],
          [
           "A",
           0.00046019,
           471,
           310,
           true
          ],
          [
           "A",
           0.00844511,
           470,
           310,
           true
          ],
          [
           "A",
           0.00018804,
           475,
           295,
           true
          ],
          [
           "A",
           0,
           473,
           310,
           true
          ],
          [
           "A",
           0,
           474,
           295,
           true
          ],
          [
           "A",
           0.00057078,
           474,
           295,
           true
          ],
          [
           "A",
           0.00056412,
           475,
           295,
           true
          ],
          [
           "A",
           0.00077882,
           473,
           310,
           true
          ],
          [
           "A",
           0.00844511,
           470,
           310,
           true
          ],
          [
           "A",
           0,
           471,
           310,
           true
          ],
          [
           "A",
           0.00749532,
           472,
           310,
           true
          ],
          [
           "C",
           0.00046019,
           471,
           310,
           false
          ],
          [
           "C",
           0.00018804,
           475,
           295,
           false
          ],
          [
           "C",
           0.00844511,
           470,
           310,
           false
          ],
          [
           "C",
           0.02654591,
           472,
           310,
           false
          ],
          [
           "C",
           0,
           474,
           295,
           false
          ],
          [
           "C",
           0.00116822,
           473,
           310,
           false
          ]
         ],
         "type": "scatter",
         "x": [
          295,
          310,
          310,
          295,
          310,
          310
         ],
         "y": [
          0,
          0,
          0.05017387,
          0,
          0.00077912,
          0.04278576
         ]
        },
        {
         "line": {
          "color": "cyan",
          "dash": "solid"
         },
         "mode": "lines",
         "name": "(A,26): 0.00156*x + -0.46088\n R2=error",
         "type": "scatter",
         "x": [
          295,
          295,
          310,
          310,
          310,
          310
         ],
         "y": [
          0,
          0,
          0.023434687499999995,
          0.023434687499999995,
          0.023434687499999995,
          0.023434687499999995
         ]
        },
        {
         "line": {
          "color": "cyan",
          "dash": "dot"
         },
         "mode": "lines",
         "name": "(A,26): 1e-05*x**2 + -0.00149*x\n R2=error",
         "type": "scatter",
         "x": [
          295,
          295,
          310,
          310,
          310,
          310
         ],
         "y": [
          5.551115123125783e-17,
          5.551115123125783e-17,
          0.023434687499999995,
          0.023434687499999995,
          0.023434687499999995,
          0.023434687499999995
         ]
        },
        {
         "hovertemplate": "<b>base: %{text[0]}<br><b>mut_rates: %{text[1]}<br><b>sample: %{text[2]}<br><b>temperature_k: %{text[3]}<br><b>paired: %{text[4]}<br>",
         "line": {
          "color": "magenta"
         },
         "marker": {
          "symbol": [
           0,
           0,
           0,
           0,
           0,
           0,
           0,
           0,
           0,
           0,
           0,
           0,
           0,
           0,
           0,
           0,
           0,
           0,
           100,
           100,
           100,
           100,
           100,
           100,
           100,
           100,
           100,
           100,
           100,
           100,
           100,
           100,
           100,
           100,
           100,
           100,
           100,
           100,
           100,
           100,
           100,
           100,
           0,
           0,
           0,
           0,
           0,
           0,
           0,
           0,
           0,
           0,
           0,
           0,
           0,
           0,
           0,
           0,
           0,
           0,
           0,
           0,
           0,
           0,
           0,
           0,
           0,
           0,
           0,
           0,
           0,
           0,
           100,
           100,
           100,
           100,
           100,
           100
          ]
         },
         "mode": "lines+markers",
         "name": "(A,29)",
         "text": [
          [
           "C",
           0.02966896,
           472,
           310,
           true
          ],
          [
           "C",
           0.00038971,
           473,
           310,
           true
          ],
          [
           "C",
           0,
           475,
           295,
           true
          ],
          [
           "C",
           0.00046019,
           471,
           310,
           true
          ],
          [
           "C",
           0.00596125,
           470,
           310,
           true
          ],
          [
           "C",
           0,
           474,
           295,
           true
          ],
          [
           "A",
           0,
           473,
           310,
           true
          ],
          [
           "A",
           0,
           471,
           310,
           true
          ],
          [
           "A",
           0.01717676,
           472,
           310,
           true
          ],
          [
           "A",
           0,
           474,
           295,
           true
          ],
          [
           "A",
           0.01142573,
           470,
           310,
           true
          ],
          [
           "A",
           0.00018815,
           475,
           295,
           true
          ],
          [
           "A",
           0,
           473,
           310,
           true
          ],
          [
           "A",
           0.00018815,
           475,
           295,
           true
          ],
          [
           "A",
           0.00057078,
           474,
           295,
           true
          ],
          [
           "A",
           0.00046019,
           471,
           310,
           true
          ],
          [
           "A",
           0.00905684,
           472,
           310,
           true
          ],
          [
           "A",
           0.00894188,
           470,
           310,
           true
          ],
          [
           "A",
           0,
           475,
           295,
           false
          ],
          [
           "A",
           0,
           471,
           310,
           false
          ],
          [
           "A",
           0.05017387,
           470,
           310,
           false
          ],
          [
           "A",
           0,
           474,
           295,
           false
          ],
          [
           "A",
           0.00077912,
           473,
           310,
           false
          ],
          [
           "A",
           0.04278576,
           472,
           310,
           false
          ],
          [
           "A",
           0.00077912,
           473,
           310,
           false
          ],
          [
           "A",
           0,
           474,
           295,
           false
          ],
          [
           "A",
           0.04840725,
           472,
           310,
           false
          ],
          [
           "A",
           0.00092039,
           471,
           310,
           false
          ],
          [
           "A",
           0.10183805,
           470,
           310,
           false
          ],
          [
           "A",
           0.00018808,
           475,
           295,
           false
          ],
          [
           "C",
           0.07870081,
           472,
           310,
           false
          ],
          [
           "C",
           0,
           474,
           295,
           false
          ],
          [
           "C",
           0.00038941,
           473,
           310,
           false
          ],
          [
           "C",
           0.00018808,
           475,
           295,
           false
          ],
          [
           "C",
           0.09538003,
           470,
           310,
           false
          ],
          [
           "C",
           0.00046019,
           471,
           310,
           false
          ],
          [
           "A",
           0.07004471,
           470,
           310,
           false
          ],
          [
           "A",
           0.00057078,
           474,
           295,
           false
          ],
          [
           "A",
           0.00038941,
           473,
           310,
           false
          ],
          [
           "A",
           0.00184077,
           471,
           310,
           false
          ],
          [
           "A",
           0.00018808,
           475,
           295,
           false
          ],
          [
           "A",
           0.07183011,
           472,
           310,
           false
          ],
          [
           "C",
           0.01838053,
           470,
           310,
           true
          ],
          [
           "C",
           0,
           474,
           295,
           true
          ],
          [
           "C",
           0.02998126,
           472,
           310,
           true
          ],
          [
           "C",
           0.00077882,
           473,
           310,
           true
          ],
          [
           "C",
           0,
           471,
           310,
           true
          ],
          [
           "C",
           0,
           475,
           295,
           true
          ],
          [
           "C",
           0,
           475,
           295,
           true
          ],
          [
           "C",
           0.00038941,
           473,
           310,
           true
          ],
          [
           "C",
           0.02779513,
           472,
           310,
           true
          ],
          [
           "C",
           0.01142573,
           470,
           310,
           true
          ],
          [
           "C",
           0,
           474,
           295,
           true
          ],
          [
           "C",
           0.00092039,
           471,
           310,
           true
          ],
          [
           "C",
           0,
           475,
           295,
           true
          ],
          [
           "C",
           0.00645802,
           470,
           310,
           true
          ],
          [
           "C",
           0.00057078,
           474,
           295,
           true
          ],
          [
           "C",
           0.01686446,
           472,
           310,
           true
          ],
          [
           "C",
           0,
           471,
           310,
           true
          ],
          [
           "C",
           0.00116822,
           473,
           310,
           true
          ],
          [
           "A",
           0.00905684,
           472,
           310,
           true
          ],
          [
           "A",
           0.00046019,
           471,
           310,
           true
          ],
          [
           "A",
           0.00844511,
           470,
           310,
           true
          ],
          [
           "A",
           0.00018804,
           475,
           295,
           true
          ],
          [
           "A",
           0,
           473,
           310,
           true
          ],
          [
           "A",
           0,
           474,
           295,
           true
          ],
          [
           "A",
           0.00057078,
           474,
           295,
           true
          ],
          [
           "A",
           0.00056412,
           475,
           295,
           true
          ],
          [
           "A",
           0.00077882,
           473,
           310,
           true
          ],
          [
           "A",
           0.00844511,
           470,
           310,
           true
          ],
          [
           "A",
           0,
           471,
           310,
           true
          ],
          [
           "A",
           0.00749532,
           472,
           310,
           true
          ],
          [
           "C",
           0.00046019,
           471,
           310,
           false
          ],
          [
           "C",
           0.00018804,
           475,
           295,
           false
          ],
          [
           "C",
           0.00844511,
           470,
           310,
           false
          ],
          [
           "C",
           0.02654591,
           472,
           310,
           false
          ],
          [
           "C",
           0,
           474,
           295,
           false
          ],
          [
           "C",
           0.00116822,
           473,
           310,
           false
          ]
         ],
         "type": "scatter",
         "x": [
          310,
          295,
          310,
          310,
          310,
          295
         ],
         "y": [
          0.00077912,
          0,
          0.04840725,
          0.00092039,
          0.10183805,
          0.00018808
         ]
        },
        {
         "line": {
          "color": "magenta",
          "dash": "solid"
         },
         "mode": "lines",
         "name": "(A,29): 0.00253*x + -0.74512\n R2=error",
         "type": "scatter",
         "x": [
          295,
          295,
          310,
          310,
          310,
          310
         ],
         "y": [
          0.0000940399999997954,
          0.0000940399999997954,
          0.03798620250000018,
          0.03798620250000018,
          0.03798620250000018,
          0.03798620250000018
         ]
        },
        {
         "line": {
          "color": "magenta",
          "dash": "dot"
         },
         "mode": "lines",
         "name": "(A,29): 1e-05*x**2 + -0.0024*x\n R2=error",
         "type": "scatter",
         "x": [
          295,
          295,
          310,
          310,
          310,
          310
         ],
         "y": [
          0.00009404000000035051,
          0.00009404000000035051,
          0.0379862024999994,
          0.0379862024999994,
          0.0379862024999994,
          0.0379862024999994
         ]
        },
        {
         "hovertemplate": "<b>base: %{text[0]}<br><b>mut_rates: %{text[1]}<br><b>sample: %{text[2]}<br><b>temperature_k: %{text[3]}<br><b>paired: %{text[4]}<br>",
         "line": {
          "color": "red"
         },
         "marker": {
          "symbol": [
           0,
           0,
           0,
           0,
           0,
           0,
           0,
           0,
           0,
           0,
           0,
           0,
           0,
           0,
           0,
           0,
           0,
           0,
           100,
           100,
           100,
           100,
           100,
           100,
           100,
           100,
           100,
           100,
           100,
           100,
           100,
           100,
           100,
           100,
           100,
           100,
           100,
           100,
           100,
           100,
           100,
           100,
           0,
           0,
           0,
           0,
           0,
           0,
           0,
           0,
           0,
           0,
           0,
           0,
           0,
           0,
           0,
           0,
           0,
           0,
           0,
           0,
           0,
           0,
           0,
           0,
           0,
           0,
           0,
           0,
           0,
           0,
           100,
           100,
           100,
           100,
           100,
           100
          ]
         },
         "mode": "lines+markers",
         "name": "(C,31)",
         "text": [
          [
           "C",
           0.02966896,
           472,
           310,
           true
          ],
          [
           "C",
           0.00038971,
           473,
           310,
           true
          ],
          [
           "C",
           0,
           475,
           295,
           true
          ],
          [
           "C",
           0.00046019,
           471,
           310,
           true
          ],
          [
           "C",
           0.00596125,
           470,
           310,
           true
          ],
          [
           "C",
           0,
           474,
           295,
           true
          ],
          [
           "A",
           0,
           473,
           310,
           true
          ],
          [
           "A",
           0,
           471,
           310,
           true
          ],
          [
           "A",
           0.01717676,
           472,
           310,
           true
          ],
          [
           "A",
           0,
           474,
           295,
           true
          ],
          [
           "A",
           0.01142573,
           470,
           310,
           true
          ],
          [
           "A",
           0.00018815,
           475,
           295,
           true
          ],
          [
           "A",
           0,
           473,
           310,
           true
          ],
          [
           "A",
           0.00018815,
           475,
           295,
           true
          ],
          [
           "A",
           0.00057078,
           474,
           295,
           true
          ],
          [
           "A",
           0.00046019,
           471,
           310,
           true
          ],
          [
           "A",
           0.00905684,
           472,
           310,
           true
          ],
          [
           "A",
           0.00894188,
           470,
           310,
           true
          ],
          [
           "A",
           0,
           475,
           295,
           false
          ],
          [
           "A",
           0,
           471,
           310,
           false
          ],
          [
           "A",
           0.05017387,
           470,
           310,
           false
          ],
          [
           "A",
           0,
           474,
           295,
           false
          ],
          [
           "A",
           0.00077912,
           473,
           310,
           false
          ],
          [
           "A",
           0.04278576,
           472,
           310,
           false
          ],
          [
           "A",
           0.00077912,
           473,
           310,
           false
          ],
          [
           "A",
           0,
           474,
           295,
           false
          ],
          [
           "A",
           0.04840725,
           472,
           310,
           false
          ],
          [
           "A",
           0.00092039,
           471,
           310,
           false
          ],
          [
           "A",
           0.10183805,
           470,
           310,
           false
          ],
          [
           "A",
           0.00018808,
           475,
           295,
           false
          ],
          [
           "C",
           0.07870081,
           472,
           310,
           false
          ],
          [
           "C",
           0,
           474,
           295,
           false
          ],
          [
           "C",
           0.00038941,
           473,
           310,
           false
          ],
          [
           "C",
           0.00018808,
           475,
           295,
           false
          ],
          [
           "C",
           0.09538003,
           470,
           310,
           false
          ],
          [
           "C",
           0.00046019,
           471,
           310,
           false
          ],
          [
           "A",
           0.07004471,
           470,
           310,
           false
          ],
          [
           "A",
           0.00057078,
           474,
           295,
           false
          ],
          [
           "A",
           0.00038941,
           473,
           310,
           false
          ],
          [
           "A",
           0.00184077,
           471,
           310,
           false
          ],
          [
           "A",
           0.00018808,
           475,
           295,
           false
          ],
          [
           "A",
           0.07183011,
           472,
           310,
           false
          ],
          [
           "C",
           0.01838053,
           470,
           310,
           true
          ],
          [
           "C",
           0,
           474,
           295,
           true
          ],
          [
           "C",
           0.02998126,
           472,
           310,
           true
          ],
          [
           "C",
           0.00077882,
           473,
           310,
           true
          ],
          [
           "C",
           0,
           471,
           310,
           true
          ],
          [
           "C",
           0,
           475,
           295,
           true
          ],
          [
           "C",
           0,
           475,
           295,
           true
          ],
          [
           "C",
           0.00038941,
           473,
           310,
           true
          ],
          [
           "C",
           0.02779513,
           472,
           310,
           true
          ],
          [
           "C",
           0.01142573,
           470,
           310,
           true
          ],
          [
           "C",
           0,
           474,
           295,
           true
          ],
          [
           "C",
           0.00092039,
           471,
           310,
           true
          ],
          [
           "C",
           0,
           475,
           295,
           true
          ],
          [
           "C",
           0.00645802,
           470,
           310,
           true
          ],
          [
           "C",
           0.00057078,
           474,
           295,
           true
          ],
          [
           "C",
           0.01686446,
           472,
           310,
           true
          ],
          [
           "C",
           0,
           471,
           310,
           true
          ],
          [
           "C",
           0.00116822,
           473,
           310,
           true
          ],
          [
           "A",
           0.00905684,
           472,
           310,
           true
          ],
          [
           "A",
           0.00046019,
           471,
           310,
           true
          ],
          [
           "A",
           0.00844511,
           470,
           310,
           true
          ],
          [
           "A",
           0.00018804,
           475,
           295,
           true
          ],
          [
           "A",
           0,
           473,
           310,
           true
          ],
          [
           "A",
           0,
           474,
           295,
           true
          ],
          [
           "A",
           0.00057078,
           474,
           295,
           true
          ],
          [
           "A",
           0.00056412,
           475,
           295,
           true
          ],
          [
           "A",
           0.00077882,
           473,
           310,
           true
          ],
          [
           "A",
           0.00844511,
           470,
           310,
           true
          ],
          [
           "A",
           0,
           471,
           310,
           true
          ],
          [
           "A",
           0.00749532,
           472,
           310,
           true
          ],
          [
           "C",
           0.00046019,
           471,
           310,
           false
          ],
          [
           "C",
           0.00018804,
           475,
           295,
           false
          ],
          [
           "C",
           0.00844511,
           470,
           310,
           false
          ],
          [
           "C",
           0.02654591,
           472,
           310,
           false
          ],
          [
           "C",
           0,
           474,
           295,
           false
          ],
          [
           "C",
           0.00116822,
           473,
           310,
           false
          ]
         ],
         "type": "scatter",
         "x": [
          310,
          295,
          310,
          295,
          310,
          310
         ],
         "y": [
          0.07870081,
          0,
          0.00038941,
          0.00018808,
          0.09538003,
          0.00046019
         ]
        },
        {
         "line": {
          "color": "red",
          "dash": "solid"
         },
         "mode": "lines",
         "name": "(C,31): 0.00291*x + -0.85813\n R2=error",
         "type": "scatter",
         "x": [
          295,
          295,
          310,
          310,
          310,
          310
         ],
         "y": [
          0.00009404000000012847,
          0.00009404000000012847,
          0.04373260999999995,
          0.04373260999999995,
          0.04373260999999995,
          0.04373260999999995
         ]
        },
        {
         "line": {
          "color": "red",
          "dash": "dot"
         },
         "mode": "lines",
         "name": "(C,31): 1e-05*x**2 + -0.00277*x\n R2=error",
         "type": "scatter",
         "x": [
          295,
          295,
          310,
          310,
          310,
          310
         ],
         "y": [
          0.00009403999999835211,
          0.00009403999999835211,
          0.043732609999999617,
          0.043732609999999617,
          0.043732609999999617,
          0.043732609999999617
         ]
        }
       ],
       "layout": {
        "template": {
         "data": {
          "bar": [
           {
            "error_x": {
             "color": "#2a3f5f"
            },
            "error_y": {
             "color": "#2a3f5f"
            },
            "marker": {
             "line": {
              "color": "#E5ECF6",
              "width": 0.5
             },
             "pattern": {
              "fillmode": "overlay",
              "size": 10,
              "solidity": 0.2
             }
            },
            "type": "bar"
           }
          ],
          "barpolar": [
           {
            "marker": {
             "line": {
              "color": "#E5ECF6",
              "width": 0.5
             },
             "pattern": {
              "fillmode": "overlay",
              "size": 10,
              "solidity": 0.2
             }
            },
            "type": "barpolar"
           }
          ],
          "carpet": [
           {
            "aaxis": {
             "endlinecolor": "#2a3f5f",
             "gridcolor": "white",
             "linecolor": "white",
             "minorgridcolor": "white",
             "startlinecolor": "#2a3f5f"
            },
            "baxis": {
             "endlinecolor": "#2a3f5f",
             "gridcolor": "white",
             "linecolor": "white",
             "minorgridcolor": "white",
             "startlinecolor": "#2a3f5f"
            },
            "type": "carpet"
           }
          ],
          "choropleth": [
           {
            "colorbar": {
             "outlinewidth": 0,
             "ticks": ""
            },
            "type": "choropleth"
           }
          ],
          "contour": [
           {
            "colorbar": {
             "outlinewidth": 0,
             "ticks": ""
            },
            "colorscale": [
             [
              0,
              "#0d0887"
             ],
             [
              0.1111111111111111,
              "#46039f"
             ],
             [
              0.2222222222222222,
              "#7201a8"
             ],
             [
              0.3333333333333333,
              "#9c179e"
             ],
             [
              0.4444444444444444,
              "#bd3786"
             ],
             [
              0.5555555555555556,
              "#d8576b"
             ],
             [
              0.6666666666666666,
              "#ed7953"
             ],
             [
              0.7777777777777778,
              "#fb9f3a"
             ],
             [
              0.8888888888888888,
              "#fdca26"
             ],
             [
              1,
              "#f0f921"
             ]
            ],
            "type": "contour"
           }
          ],
          "contourcarpet": [
           {
            "colorbar": {
             "outlinewidth": 0,
             "ticks": ""
            },
            "type": "contourcarpet"
           }
          ],
          "heatmap": [
           {
            "colorbar": {
             "outlinewidth": 0,
             "ticks": ""
            },
            "colorscale": [
             [
              0,
              "#0d0887"
             ],
             [
              0.1111111111111111,
              "#46039f"
             ],
             [
              0.2222222222222222,
              "#7201a8"
             ],
             [
              0.3333333333333333,
              "#9c179e"
             ],
             [
              0.4444444444444444,
              "#bd3786"
             ],
             [
              0.5555555555555556,
              "#d8576b"
             ],
             [
              0.6666666666666666,
              "#ed7953"
             ],
             [
              0.7777777777777778,
              "#fb9f3a"
             ],
             [
              0.8888888888888888,
              "#fdca26"
             ],
             [
              1,
              "#f0f921"
             ]
            ],
            "type": "heatmap"
           }
          ],
          "heatmapgl": [
           {
            "colorbar": {
             "outlinewidth": 0,
             "ticks": ""
            },
            "colorscale": [
             [
              0,
              "#0d0887"
             ],
             [
              0.1111111111111111,
              "#46039f"
             ],
             [
              0.2222222222222222,
              "#7201a8"
             ],
             [
              0.3333333333333333,
              "#9c179e"
             ],
             [
              0.4444444444444444,
              "#bd3786"
             ],
             [
              0.5555555555555556,
              "#d8576b"
             ],
             [
              0.6666666666666666,
              "#ed7953"
             ],
             [
              0.7777777777777778,
              "#fb9f3a"
             ],
             [
              0.8888888888888888,
              "#fdca26"
             ],
             [
              1,
              "#f0f921"
             ]
            ],
            "type": "heatmapgl"
           }
          ],
          "histogram": [
           {
            "marker": {
             "pattern": {
              "fillmode": "overlay",
              "size": 10,
              "solidity": 0.2
             }
            },
            "type": "histogram"
           }
          ],
          "histogram2d": [
           {
            "colorbar": {
             "outlinewidth": 0,
             "ticks": ""
            },
            "colorscale": [
             [
              0,
              "#0d0887"
             ],
             [
              0.1111111111111111,
              "#46039f"
             ],
             [
              0.2222222222222222,
              "#7201a8"
             ],
             [
              0.3333333333333333,
              "#9c179e"
             ],
             [
              0.4444444444444444,
              "#bd3786"
             ],
             [
              0.5555555555555556,
              "#d8576b"
             ],
             [
              0.6666666666666666,
              "#ed7953"
             ],
             [
              0.7777777777777778,
              "#fb9f3a"
             ],
             [
              0.8888888888888888,
              "#fdca26"
             ],
             [
              1,
              "#f0f921"
             ]
            ],
            "type": "histogram2d"
           }
          ],
          "histogram2dcontour": [
           {
            "colorbar": {
             "outlinewidth": 0,
             "ticks": ""
            },
            "colorscale": [
             [
              0,
              "#0d0887"
             ],
             [
              0.1111111111111111,
              "#46039f"
             ],
             [
              0.2222222222222222,
              "#7201a8"
             ],
             [
              0.3333333333333333,
              "#9c179e"
             ],
             [
              0.4444444444444444,
              "#bd3786"
             ],
             [
              0.5555555555555556,
              "#d8576b"
             ],
             [
              0.6666666666666666,
              "#ed7953"
             ],
             [
              0.7777777777777778,
              "#fb9f3a"
             ],
             [
              0.8888888888888888,
              "#fdca26"
             ],
             [
              1,
              "#f0f921"
             ]
            ],
            "type": "histogram2dcontour"
           }
          ],
          "mesh3d": [
           {
            "colorbar": {
             "outlinewidth": 0,
             "ticks": ""
            },
            "type": "mesh3d"
           }
          ],
          "parcoords": [
           {
            "line": {
             "colorbar": {
              "outlinewidth": 0,
              "ticks": ""
             }
            },
            "type": "parcoords"
           }
          ],
          "pie": [
           {
            "automargin": true,
            "type": "pie"
           }
          ],
          "scatter": [
           {
            "fillpattern": {
             "fillmode": "overlay",
             "size": 10,
             "solidity": 0.2
            },
            "type": "scatter"
           }
          ],
          "scatter3d": [
           {
            "line": {
             "colorbar": {
              "outlinewidth": 0,
              "ticks": ""
             }
            },
            "marker": {
             "colorbar": {
              "outlinewidth": 0,
              "ticks": ""
             }
            },
            "type": "scatter3d"
           }
          ],
          "scattercarpet": [
           {
            "marker": {
             "colorbar": {
              "outlinewidth": 0,
              "ticks": ""
             }
            },
            "type": "scattercarpet"
           }
          ],
          "scattergeo": [
           {
            "marker": {
             "colorbar": {
              "outlinewidth": 0,
              "ticks": ""
             }
            },
            "type": "scattergeo"
           }
          ],
          "scattergl": [
           {
            "marker": {
             "colorbar": {
              "outlinewidth": 0,
              "ticks": ""
             }
            },
            "type": "scattergl"
           }
          ],
          "scattermapbox": [
           {
            "marker": {
             "colorbar": {
              "outlinewidth": 0,
              "ticks": ""
             }
            },
            "type": "scattermapbox"
           }
          ],
          "scatterpolar": [
           {
            "marker": {
             "colorbar": {
              "outlinewidth": 0,
              "ticks": ""
             }
            },
            "type": "scatterpolar"
           }
          ],
          "scatterpolargl": [
           {
            "marker": {
             "colorbar": {
              "outlinewidth": 0,
              "ticks": ""
             }
            },
            "type": "scatterpolargl"
           }
          ],
          "scatterternary": [
           {
            "marker": {
             "colorbar": {
              "outlinewidth": 0,
              "ticks": ""
             }
            },
            "type": "scatterternary"
           }
          ],
          "surface": [
           {
            "colorbar": {
             "outlinewidth": 0,
             "ticks": ""
            },
            "colorscale": [
             [
              0,
              "#0d0887"
             ],
             [
              0.1111111111111111,
              "#46039f"
             ],
             [
              0.2222222222222222,
              "#7201a8"
             ],
             [
              0.3333333333333333,
              "#9c179e"
             ],
             [
              0.4444444444444444,
              "#bd3786"
             ],
             [
              0.5555555555555556,
              "#d8576b"
             ],
             [
              0.6666666666666666,
              "#ed7953"
             ],
             [
              0.7777777777777778,
              "#fb9f3a"
             ],
             [
              0.8888888888888888,
              "#fdca26"
             ],
             [
              1,
              "#f0f921"
             ]
            ],
            "type": "surface"
           }
          ],
          "table": [
           {
            "cells": {
             "fill": {
              "color": "#EBF0F8"
             },
             "line": {
              "color": "white"
             }
            },
            "header": {
             "fill": {
              "color": "#C8D4E3"
             },
             "line": {
              "color": "white"
             }
            },
            "type": "table"
           }
          ]
         },
         "layout": {
          "annotationdefaults": {
           "arrowcolor": "#2a3f5f",
           "arrowhead": 0,
           "arrowwidth": 1
          },
          "autotypenumbers": "strict",
          "coloraxis": {
           "colorbar": {
            "outlinewidth": 0,
            "ticks": ""
           }
          },
          "colorscale": {
           "diverging": [
            [
             0,
             "#8e0152"
            ],
            [
             0.1,
             "#c51b7d"
            ],
            [
             0.2,
             "#de77ae"
            ],
            [
             0.3,
             "#f1b6da"
            ],
            [
             0.4,
             "#fde0ef"
            ],
            [
             0.5,
             "#f7f7f7"
            ],
            [
             0.6,
             "#e6f5d0"
            ],
            [
             0.7,
             "#b8e186"
            ],
            [
             0.8,
             "#7fbc41"
            ],
            [
             0.9,
             "#4d9221"
            ],
            [
             1,
             "#276419"
            ]
           ],
           "sequential": [
            [
             0,
             "#0d0887"
            ],
            [
             0.1111111111111111,
             "#46039f"
            ],
            [
             0.2222222222222222,
             "#7201a8"
            ],
            [
             0.3333333333333333,
             "#9c179e"
            ],
            [
             0.4444444444444444,
             "#bd3786"
            ],
            [
             0.5555555555555556,
             "#d8576b"
            ],
            [
             0.6666666666666666,
             "#ed7953"
            ],
            [
             0.7777777777777778,
             "#fb9f3a"
            ],
            [
             0.8888888888888888,
             "#fdca26"
            ],
            [
             1,
             "#f0f921"
            ]
           ],
           "sequentialminus": [
            [
             0,
             "#0d0887"
            ],
            [
             0.1111111111111111,
             "#46039f"
            ],
            [
             0.2222222222222222,
             "#7201a8"
            ],
            [
             0.3333333333333333,
             "#9c179e"
            ],
            [
             0.4444444444444444,
             "#bd3786"
            ],
            [
             0.5555555555555556,
             "#d8576b"
            ],
            [
             0.6666666666666666,
             "#ed7953"
            ],
            [
             0.7777777777777778,
             "#fb9f3a"
            ],
            [
             0.8888888888888888,
             "#fdca26"
            ],
            [
             1,
             "#f0f921"
            ]
           ]
          },
          "colorway": [
           "#636efa",
           "#EF553B",
           "#00cc96",
           "#ab63fa",
           "#FFA15A",
           "#19d3f3",
           "#FF6692",
           "#B6E880",
           "#FF97FF",
           "#FECB52"
          ],
          "font": {
           "color": "#2a3f5f"
          },
          "geo": {
           "bgcolor": "white",
           "lakecolor": "white",
           "landcolor": "#E5ECF6",
           "showlakes": true,
           "showland": true,
           "subunitcolor": "white"
          },
          "hoverlabel": {
           "align": "left"
          },
          "hovermode": "closest",
          "mapbox": {
           "style": "light"
          },
          "paper_bgcolor": "white",
          "plot_bgcolor": "#E5ECF6",
          "polar": {
           "angularaxis": {
            "gridcolor": "white",
            "linecolor": "white",
            "ticks": ""
           },
           "bgcolor": "#E5ECF6",
           "radialaxis": {
            "gridcolor": "white",
            "linecolor": "white",
            "ticks": ""
           }
          },
          "scene": {
           "xaxis": {
            "backgroundcolor": "#E5ECF6",
            "gridcolor": "white",
            "gridwidth": 2,
            "linecolor": "white",
            "showbackground": true,
            "ticks": "",
            "zerolinecolor": "white"
           },
           "yaxis": {
            "backgroundcolor": "#E5ECF6",
            "gridcolor": "white",
            "gridwidth": 2,
            "linecolor": "white",
            "showbackground": true,
            "ticks": "",
            "zerolinecolor": "white"
           },
           "zaxis": {
            "backgroundcolor": "#E5ECF6",
            "gridcolor": "white",
            "gridwidth": 2,
            "linecolor": "white",
            "showbackground": true,
            "ticks": "",
            "zerolinecolor": "white"
           }
          },
          "shapedefaults": {
           "line": {
            "color": "#2a3f5f"
           }
          },
          "ternary": {
           "aaxis": {
            "gridcolor": "white",
            "linecolor": "white",
            "ticks": ""
           },
           "baxis": {
            "gridcolor": "white",
            "linecolor": "white",
            "ticks": ""
           },
           "bgcolor": "#E5ECF6",
           "caxis": {
            "gridcolor": "white",
            "linecolor": "white",
            "ticks": ""
           }
          },
          "title": {
           "x": 0.05
          },
          "xaxis": {
           "automargin": true,
           "gridcolor": "white",
           "linecolor": "white",
           "ticks": "",
           "title": {
            "standoff": 15
           },
           "zerolinecolor": "white",
           "zerolinewidth": 2
          },
          "yaxis": {
           "automargin": true,
           "gridcolor": "white",
           "linecolor": "white",
           "ticks": "",
           "title": {
            "standoff": 15
           },
           "zerolinecolor": "white",
           "zerolinewidth": 2
          }
         }
        },
        "title": {
         "text": "Mutation rates of paired / unpaired residues vs temperature_k"
        },
        "xaxis": {
         "ticklen": 5,
         "title": {
          "text": "temperature_k"
         },
         "zeroline": false
        },
        "yaxis": {
         "ticklen": 5,
         "title": {
          "text": "Mutation rate "
         },
         "zeroline": false
        }
       }
      }
     },
     "metadata": {},
     "output_type": "display_data"
    }
   ],
   "source": [
    "out = study.exp_variable_across_samples(\n",
    "                        construct=['3114-O-flank_1=hp7-DB'],\n",
    "                        base_index=list(range(19,42)), \n",
    "                        base_type=['A','C'],\n",
    "                        savefile='test.html', \n",
    "                        experimental_variable='temperature_k',\n",
    "                        models=['lambda x, a, b: a*x + b', 'lambda x, a, b: a*x**2 + b*x'],\n",
    "                        auto_open=False)"
   ]
  },
  {
   "cell_type": "code",
   "execution_count": 6,
   "metadata": {},
   "outputs": [
    {
     "data": {
      "application/vnd.plotly.v1+json": {
       "config": {
        "linkText": "Export to plot.ly",
        "plotlyServerURL": "https://plot.ly",
        "showLink": false
       },
       "data": [
        {
         "line": {
          "width": 2
         },
         "mode": "lines",
         "name": "470_3114-O-flank_1=hp7-DB_hp7",
         "type": "scatter",
         "x": [
          0,
          0,
          0,
          0.125,
          0.375,
          0.5,
          0.75,
          1
         ],
         "y": [
          0,
          0.2,
          0.8,
          0.8,
          0.8,
          0.8,
          1,
          1
         ]
        },
        {
         "line": {
          "width": 2
         },
         "mode": "lines",
         "name": "470_3293-O-flank_1=cb8-DB_cb8",
         "type": "scatter",
         "x": [
          0,
          0,
          0,
          0.125,
          0.125,
          1
         ],
         "y": [
          0,
          0.2,
          0.8,
          0.8,
          1,
          1
         ]
        },
        {
         "line": {
          "width": 2
         },
         "mode": "lines",
         "name": "470_3125-O-flank_1=hp7-DB_hp7",
         "type": "scatter",
         "x": [
          0,
          0,
          0,
          0.5,
          0.5,
          1
         ],
         "y": [
          0,
          0.2,
          0.8,
          0.8,
          1,
          1
         ]
        },
        {
         "line": {
          "width": 2
         },
         "mode": "lines",
         "name": "470_3123-O-flank_1=hp7-DB_hp7",
         "type": "scatter",
         "x": [
          0,
          0,
          0,
          1
         ],
         "y": [
          0,
          0.25,
          1,
          1
         ]
        },
        {
         "line": {
          "width": 2
         },
         "mode": "lines",
         "name": "470_3300-O-flank_1=cb8-DB_cb8",
         "type": "scatter",
         "x": [
          0,
          0,
          0,
          1,
          1
         ],
         "y": [
          0,
          0.2,
          0.8,
          0.8,
          1
         ]
        },
        {
         "line": {
          "width": 2
         },
         "mode": "lines",
         "name": "470_3122-O-flank_1=hp7-DB_hp7",
         "type": "scatter",
         "x": [
          0,
          0,
          0,
          1
         ],
         "y": [
          0,
          0.25,
          1,
          1
         ]
        },
        {
         "line": {
          "width": 2
         },
         "mode": "lines",
         "name": "472_3114-O-flank_1=hp7-DB_hp7",
         "type": "scatter",
         "x": [
          0,
          0,
          0,
          0.375,
          0.375,
          0.625,
          0.875,
          1
         ],
         "y": [
          0,
          0.2,
          0.8,
          0.8,
          1,
          1,
          1,
          1
         ]
        },
        {
         "line": {
          "width": 2
         },
         "mode": "lines",
         "name": "472_3293-O-flank_1=cb8-DB_cb8",
         "type": "scatter",
         "x": [
          0,
          0,
          0,
          1
         ],
         "y": [
          0,
          0.2,
          1,
          1
         ]
        },
        {
         "line": {
          "width": 2
         },
         "mode": "lines",
         "name": "472_3125-O-flank_1=hp7-DB_hp7",
         "type": "scatter",
         "x": [
          0,
          0,
          0,
          0.25,
          0.25,
          1
         ],
         "y": [
          0,
          0.2,
          0.8,
          0.8,
          1,
          1
         ]
        },
        {
         "line": {
          "width": 2
         },
         "mode": "lines",
         "name": "472_3123-O-flank_1=hp7-DB_hp7",
         "type": "scatter",
         "x": [
          0,
          0,
          0,
          0.2222222222222222,
          0.2222222222222222,
          1
         ],
         "y": [
          0,
          0.25,
          0.75,
          0.75,
          1,
          1
         ]
        },
        {
         "line": {
          "width": 2
         },
         "mode": "lines",
         "name": "472_3300-O-flank_1=cb8-DB_cb8",
         "type": "scatter",
         "x": [
          0,
          0,
          0,
          0.125,
          0.125,
          1
         ],
         "y": [
          0,
          0.2,
          0.8,
          0.8,
          1,
          1
         ]
        },
        {
         "line": {
          "width": 2
         },
         "mode": "lines",
         "name": "472_3122-O-flank_1=hp7-DB_hp7",
         "type": "scatter",
         "x": [
          0,
          0,
          0,
          0.2222222222222222,
          0.2222222222222222,
          1
         ],
         "y": [
          0,
          0.25,
          0.75,
          0.75,
          1,
          1
         ]
        },
        {
         "line": {
          "color": "black",
          "dash": "dash",
          "width": 2
         },
         "showlegend": false,
         "type": "scatter",
         "x": [
          0,
          1
         ],
         "y": [
          0,
          1
         ]
        }
       ],
       "layout": {
        "template": {
         "data": {
          "bar": [
           {
            "error_x": {
             "color": "#2a3f5f"
            },
            "error_y": {
             "color": "#2a3f5f"
            },
            "marker": {
             "line": {
              "color": "#E5ECF6",
              "width": 0.5
             },
             "pattern": {
              "fillmode": "overlay",
              "size": 10,
              "solidity": 0.2
             }
            },
            "type": "bar"
           }
          ],
          "barpolar": [
           {
            "marker": {
             "line": {
              "color": "#E5ECF6",
              "width": 0.5
             },
             "pattern": {
              "fillmode": "overlay",
              "size": 10,
              "solidity": 0.2
             }
            },
            "type": "barpolar"
           }
          ],
          "carpet": [
           {
            "aaxis": {
             "endlinecolor": "#2a3f5f",
             "gridcolor": "white",
             "linecolor": "white",
             "minorgridcolor": "white",
             "startlinecolor": "#2a3f5f"
            },
            "baxis": {
             "endlinecolor": "#2a3f5f",
             "gridcolor": "white",
             "linecolor": "white",
             "minorgridcolor": "white",
             "startlinecolor": "#2a3f5f"
            },
            "type": "carpet"
           }
          ],
          "choropleth": [
           {
            "colorbar": {
             "outlinewidth": 0,
             "ticks": ""
            },
            "type": "choropleth"
           }
          ],
          "contour": [
           {
            "colorbar": {
             "outlinewidth": 0,
             "ticks": ""
            },
            "colorscale": [
             [
              0,
              "#0d0887"
             ],
             [
              0.1111111111111111,
              "#46039f"
             ],
             [
              0.2222222222222222,
              "#7201a8"
             ],
             [
              0.3333333333333333,
              "#9c179e"
             ],
             [
              0.4444444444444444,
              "#bd3786"
             ],
             [
              0.5555555555555556,
              "#d8576b"
             ],
             [
              0.6666666666666666,
              "#ed7953"
             ],
             [
              0.7777777777777778,
              "#fb9f3a"
             ],
             [
              0.8888888888888888,
              "#fdca26"
             ],
             [
              1,
              "#f0f921"
             ]
            ],
            "type": "contour"
           }
          ],
          "contourcarpet": [
           {
            "colorbar": {
             "outlinewidth": 0,
             "ticks": ""
            },
            "type": "contourcarpet"
           }
          ],
          "heatmap": [
           {
            "colorbar": {
             "outlinewidth": 0,
             "ticks": ""
            },
            "colorscale": [
             [
              0,
              "#0d0887"
             ],
             [
              0.1111111111111111,
              "#46039f"
             ],
             [
              0.2222222222222222,
              "#7201a8"
             ],
             [
              0.3333333333333333,
              "#9c179e"
             ],
             [
              0.4444444444444444,
              "#bd3786"
             ],
             [
              0.5555555555555556,
              "#d8576b"
             ],
             [
              0.6666666666666666,
              "#ed7953"
             ],
             [
              0.7777777777777778,
              "#fb9f3a"
             ],
             [
              0.8888888888888888,
              "#fdca26"
             ],
             [
              1,
              "#f0f921"
             ]
            ],
            "type": "heatmap"
           }
          ],
          "heatmapgl": [
           {
            "colorbar": {
             "outlinewidth": 0,
             "ticks": ""
            },
            "colorscale": [
             [
              0,
              "#0d0887"
             ],
             [
              0.1111111111111111,
              "#46039f"
             ],
             [
              0.2222222222222222,
              "#7201a8"
             ],
             [
              0.3333333333333333,
              "#9c179e"
             ],
             [
              0.4444444444444444,
              "#bd3786"
             ],
             [
              0.5555555555555556,
              "#d8576b"
             ],
             [
              0.6666666666666666,
              "#ed7953"
             ],
             [
              0.7777777777777778,
              "#fb9f3a"
             ],
             [
              0.8888888888888888,
              "#fdca26"
             ],
             [
              1,
              "#f0f921"
             ]
            ],
            "type": "heatmapgl"
           }
          ],
          "histogram": [
           {
            "marker": {
             "pattern": {
              "fillmode": "overlay",
              "size": 10,
              "solidity": 0.2
             }
            },
            "type": "histogram"
           }
          ],
          "histogram2d": [
           {
            "colorbar": {
             "outlinewidth": 0,
             "ticks": ""
            },
            "colorscale": [
             [
              0,
              "#0d0887"
             ],
             [
              0.1111111111111111,
              "#46039f"
             ],
             [
              0.2222222222222222,
              "#7201a8"
             ],
             [
              0.3333333333333333,
              "#9c179e"
             ],
             [
              0.4444444444444444,
              "#bd3786"
             ],
             [
              0.5555555555555556,
              "#d8576b"
             ],
             [
              0.6666666666666666,
              "#ed7953"
             ],
             [
              0.7777777777777778,
              "#fb9f3a"
             ],
             [
              0.8888888888888888,
              "#fdca26"
             ],
             [
              1,
              "#f0f921"
             ]
            ],
            "type": "histogram2d"
           }
          ],
          "histogram2dcontour": [
           {
            "colorbar": {
             "outlinewidth": 0,
             "ticks": ""
            },
            "colorscale": [
             [
              0,
              "#0d0887"
             ],
             [
              0.1111111111111111,
              "#46039f"
             ],
             [
              0.2222222222222222,
              "#7201a8"
             ],
             [
              0.3333333333333333,
              "#9c179e"
             ],
             [
              0.4444444444444444,
              "#bd3786"
             ],
             [
              0.5555555555555556,
              "#d8576b"
             ],
             [
              0.6666666666666666,
              "#ed7953"
             ],
             [
              0.7777777777777778,
              "#fb9f3a"
             ],
             [
              0.8888888888888888,
              "#fdca26"
             ],
             [
              1,
              "#f0f921"
             ]
            ],
            "type": "histogram2dcontour"
           }
          ],
          "mesh3d": [
           {
            "colorbar": {
             "outlinewidth": 0,
             "ticks": ""
            },
            "type": "mesh3d"
           }
          ],
          "parcoords": [
           {
            "line": {
             "colorbar": {
              "outlinewidth": 0,
              "ticks": ""
             }
            },
            "type": "parcoords"
           }
          ],
          "pie": [
           {
            "automargin": true,
            "type": "pie"
           }
          ],
          "scatter": [
           {
            "fillpattern": {
             "fillmode": "overlay",
             "size": 10,
             "solidity": 0.2
            },
            "type": "scatter"
           }
          ],
          "scatter3d": [
           {
            "line": {
             "colorbar": {
              "outlinewidth": 0,
              "ticks": ""
             }
            },
            "marker": {
             "colorbar": {
              "outlinewidth": 0,
              "ticks": ""
             }
            },
            "type": "scatter3d"
           }
          ],
          "scattercarpet": [
           {
            "marker": {
             "colorbar": {
              "outlinewidth": 0,
              "ticks": ""
             }
            },
            "type": "scattercarpet"
           }
          ],
          "scattergeo": [
           {
            "marker": {
             "colorbar": {
              "outlinewidth": 0,
              "ticks": ""
             }
            },
            "type": "scattergeo"
           }
          ],
          "scattergl": [
           {
            "marker": {
             "colorbar": {
              "outlinewidth": 0,
              "ticks": ""
             }
            },
            "type": "scattergl"
           }
          ],
          "scattermapbox": [
           {
            "marker": {
             "colorbar": {
              "outlinewidth": 0,
              "ticks": ""
             }
            },
            "type": "scattermapbox"
           }
          ],
          "scatterpolar": [
           {
            "marker": {
             "colorbar": {
              "outlinewidth": 0,
              "ticks": ""
             }
            },
            "type": "scatterpolar"
           }
          ],
          "scatterpolargl": [
           {
            "marker": {
             "colorbar": {
              "outlinewidth": 0,
              "ticks": ""
             }
            },
            "type": "scatterpolargl"
           }
          ],
          "scatterternary": [
           {
            "marker": {
             "colorbar": {
              "outlinewidth": 0,
              "ticks": ""
             }
            },
            "type": "scatterternary"
           }
          ],
          "surface": [
           {
            "colorbar": {
             "outlinewidth": 0,
             "ticks": ""
            },
            "colorscale": [
             [
              0,
              "#0d0887"
             ],
             [
              0.1111111111111111,
              "#46039f"
             ],
             [
              0.2222222222222222,
              "#7201a8"
             ],
             [
              0.3333333333333333,
              "#9c179e"
             ],
             [
              0.4444444444444444,
              "#bd3786"
             ],
             [
              0.5555555555555556,
              "#d8576b"
             ],
             [
              0.6666666666666666,
              "#ed7953"
             ],
             [
              0.7777777777777778,
              "#fb9f3a"
             ],
             [
              0.8888888888888888,
              "#fdca26"
             ],
             [
              1,
              "#f0f921"
             ]
            ],
            "type": "surface"
           }
          ],
          "table": [
           {
            "cells": {
             "fill": {
              "color": "#EBF0F8"
             },
             "line": {
              "color": "white"
             }
            },
            "header": {
             "fill": {
              "color": "#C8D4E3"
             },
             "line": {
              "color": "white"
             }
            },
            "type": "table"
           }
          ]
         },
         "layout": {
          "annotationdefaults": {
           "arrowcolor": "#2a3f5f",
           "arrowhead": 0,
           "arrowwidth": 1
          },
          "autotypenumbers": "strict",
          "coloraxis": {
           "colorbar": {
            "outlinewidth": 0,
            "ticks": ""
           }
          },
          "colorscale": {
           "diverging": [
            [
             0,
             "#8e0152"
            ],
            [
             0.1,
             "#c51b7d"
            ],
            [
             0.2,
             "#de77ae"
            ],
            [
             0.3,
             "#f1b6da"
            ],
            [
             0.4,
             "#fde0ef"
            ],
            [
             0.5,
             "#f7f7f7"
            ],
            [
             0.6,
             "#e6f5d0"
            ],
            [
             0.7,
             "#b8e186"
            ],
            [
             0.8,
             "#7fbc41"
            ],
            [
             0.9,
             "#4d9221"
            ],
            [
             1,
             "#276419"
            ]
           ],
           "sequential": [
            [
             0,
             "#0d0887"
            ],
            [
             0.1111111111111111,
             "#46039f"
            ],
            [
             0.2222222222222222,
             "#7201a8"
            ],
            [
             0.3333333333333333,
             "#9c179e"
            ],
            [
             0.4444444444444444,
             "#bd3786"
            ],
            [
             0.5555555555555556,
             "#d8576b"
            ],
            [
             0.6666666666666666,
             "#ed7953"
            ],
            [
             0.7777777777777778,
             "#fb9f3a"
            ],
            [
             0.8888888888888888,
             "#fdca26"
            ],
            [
             1,
             "#f0f921"
            ]
           ],
           "sequentialminus": [
            [
             0,
             "#0d0887"
            ],
            [
             0.1111111111111111,
             "#46039f"
            ],
            [
             0.2222222222222222,
             "#7201a8"
            ],
            [
             0.3333333333333333,
             "#9c179e"
            ],
            [
             0.4444444444444444,
             "#bd3786"
            ],
            [
             0.5555555555555556,
             "#d8576b"
            ],
            [
             0.6666666666666666,
             "#ed7953"
            ],
            [
             0.7777777777777778,
             "#fb9f3a"
            ],
            [
             0.8888888888888888,
             "#fdca26"
            ],
            [
             1,
             "#f0f921"
            ]
           ]
          },
          "colorway": [
           "#636efa",
           "#EF553B",
           "#00cc96",
           "#ab63fa",
           "#FFA15A",
           "#19d3f3",
           "#FF6692",
           "#B6E880",
           "#FF97FF",
           "#FECB52"
          ],
          "font": {
           "color": "#2a3f5f"
          },
          "geo": {
           "bgcolor": "white",
           "lakecolor": "white",
           "landcolor": "#E5ECF6",
           "showlakes": true,
           "showland": true,
           "subunitcolor": "white"
          },
          "hoverlabel": {
           "align": "left"
          },
          "hovermode": "closest",
          "mapbox": {
           "style": "light"
          },
          "paper_bgcolor": "white",
          "plot_bgcolor": "#E5ECF6",
          "polar": {
           "angularaxis": {
            "gridcolor": "white",
            "linecolor": "white",
            "ticks": ""
           },
           "bgcolor": "#E5ECF6",
           "radialaxis": {
            "gridcolor": "white",
            "linecolor": "white",
            "ticks": ""
           }
          },
          "scene": {
           "xaxis": {
            "backgroundcolor": "#E5ECF6",
            "gridcolor": "white",
            "gridwidth": 2,
            "linecolor": "white",
            "showbackground": true,
            "ticks": "",
            "zerolinecolor": "white"
           },
           "yaxis": {
            "backgroundcolor": "#E5ECF6",
            "gridcolor": "white",
            "gridwidth": 2,
            "linecolor": "white",
            "showbackground": true,
            "ticks": "",
            "zerolinecolor": "white"
           },
           "zaxis": {
            "backgroundcolor": "#E5ECF6",
            "gridcolor": "white",
            "gridwidth": 2,
            "linecolor": "white",
            "showbackground": true,
            "ticks": "",
            "zerolinecolor": "white"
           }
          },
          "shapedefaults": {
           "line": {
            "color": "#2a3f5f"
           }
          },
          "ternary": {
           "aaxis": {
            "gridcolor": "white",
            "linecolor": "white",
            "ticks": ""
           },
           "baxis": {
            "gridcolor": "white",
            "linecolor": "white",
            "ticks": ""
           },
           "bgcolor": "#E5ECF6",
           "caxis": {
            "gridcolor": "white",
            "linecolor": "white",
            "ticks": ""
           }
          },
          "title": {
           "x": 0.05
          },
          "xaxis": {
           "automargin": true,
           "gridcolor": "white",
           "linecolor": "white",
           "ticks": "",
           "title": {
            "standoff": 15
           },
           "zerolinecolor": "white",
           "zerolinewidth": 2
          },
          "yaxis": {
           "automargin": true,
           "gridcolor": "white",
           "linecolor": "white",
           "ticks": "",
           "title": {
            "standoff": 15
           },
           "zerolinecolor": "white",
           "zerolinewidth": 2
          }
         }
        },
        "title": {
         "text": "ROC of families hp7 and cb8 for hairpin MS2"
        },
        "xaxis": {
         "constrain": "domain",
         "title": {
          "text": "False Positive Rate"
         }
        },
        "yaxis": {
         "scaleanchor": "x",
         "scaleratio": 1,
         "title": {
          "text": "True Positive Rate"
         }
        }
       }
      }
     },
     "metadata": {},
     "output_type": "display_data"
    }
   ],
   "source": [
    "out = study.auc(\n",
    "        sample=[470, 472], \n",
    "        family=['hp7', 'cb8'], \n",
    "        base_type=['A','C'], \n",
    "        base_index=list(range(19,42)),\n",
    "        title='ROC of families hp7 and cb8 for hairpin MS2'\n",
    "        )"
   ]
  },
  {
   "cell_type": "code",
   "execution_count": 7,
   "metadata": {},
   "outputs": [
    {
     "data": {
      "text/html": [
       "<div>\n",
       "<style scoped>\n",
       "    .dataframe tbody tr th:only-of-type {\n",
       "        vertical-align: middle;\n",
       "    }\n",
       "\n",
       "    .dataframe tbody tr th {\n",
       "        vertical-align: top;\n",
       "    }\n",
       "\n",
       "    .dataframe thead th {\n",
       "        text-align: right;\n",
       "    }\n",
       "</style>\n",
       "<table border=\"1\" class=\"dataframe\">\n",
       "  <thead>\n",
       "    <tr style=\"text-align: right;\">\n",
       "      <th></th>\n",
       "      <th>sample</th>\n",
       "      <th>construct</th>\n",
       "      <th>sequence</th>\n",
       "      <th>structure</th>\n",
       "      <th>data_type</th>\n",
       "      <th>num_reads</th>\n",
       "      <th>num_aligned</th>\n",
       "      <th>num_of_mutations</th>\n",
       "      <th>mut_bases</th>\n",
       "      <th>info_bases</th>\n",
       "      <th>...</th>\n",
       "      <th>mod_bases_T</th>\n",
       "      <th>mut_rates</th>\n",
       "      <th>worst_cov_bases</th>\n",
       "      <th>section</th>\n",
       "      <th>cluster</th>\n",
       "      <th>family</th>\n",
       "      <th>structure_selected</th>\n",
       "      <th>deltaG_selected</th>\n",
       "      <th>index_selected</th>\n",
       "      <th>unique_id</th>\n",
       "    </tr>\n",
       "  </thead>\n",
       "  <tbody>\n",
       "    <tr>\n",
       "      <th>13</th>\n",
       "      <td>470</td>\n",
       "      <td>3576-O-flank_1=bi6-cag-DB</td>\n",
       "      <td>TTAAACCGGCCAACATACCGCATATGAGGATCACCCATATGCTCGC...</td>\n",
       "      <td>......(((........)))((((((.((....))))))))...((...</td>\n",
       "      <td>DMS</td>\n",
       "      <td>2800</td>\n",
       "      <td>2798</td>\n",
       "      <td>[255, 652, 808, 612, 294, 127, 37, 10, 0, 3, 0...</td>\n",
       "      <td>[0.0, 0.0, 0.0, 0.0, 0.0, 0.0, 1.0, 0.0, 1.0, ...</td>\n",
       "      <td>[2516.0, 2670.0, 2700.0, 2774.0, 2787.0, 2788....</td>\n",
       "      <td>...</td>\n",
       "      <td>[0.0, 0.0, 0.0, 0.0, 0.0, 0.0, 0.0, 0.0, 0.0, ...</td>\n",
       "      <td>[0.0, 0.0, 0.0, 0.0, 0.0, 0.0, 0.00035868, 0.0...</td>\n",
       "      <td>2487.0</td>\n",
       "      <td>0</td>\n",
       "      <td>0</td>\n",
       "      <td>bi6</td>\n",
       "      <td>......(((........)))((((((.((....))))))))...((...</td>\n",
       "      <td>-17.7</td>\n",
       "      <td>[0, 1, 2, 3, 4, 5, 6, 7, 8, 9, 10, 11, 12, 13,...</td>\n",
       "      <td>470_3576-O-flank_1=bi6-cag-DB</td>\n",
       "    </tr>\n",
       "    <tr>\n",
       "      <th>1270</th>\n",
       "      <td>472</td>\n",
       "      <td>3576-O-flank_1=bi6-cag-DB</td>\n",
       "      <td>TTAAACCGGCCAACATACCGCATATGAGGATCACCCATATGCTCGC...</td>\n",
       "      <td>......(((........)))((((((.((....))))))))...((...</td>\n",
       "      <td>DMS</td>\n",
       "      <td>3879</td>\n",
       "      <td>3874</td>\n",
       "      <td>[328, 956, 1035, 842, 420, 175, 98, 14, 6, 0, ...</td>\n",
       "      <td>[0.0, 0.0, 0.0, 0.0, 0.0, 0.0, 0.0, 0.0, 0.0, ...</td>\n",
       "      <td>[3562.0, 3733.0, 3759.0, 3842.0, 3858.0, 3860....</td>\n",
       "      <td>...</td>\n",
       "      <td>[0.0, 0.0, 0.0, 0.0, 0.0, 0.0, 0.0, 0.0, 0.0, ...</td>\n",
       "      <td>[0.0, 0.0, 0.0, 0.0, 0.0, 0.0, 0.0, 0.0, 0.0, ...</td>\n",
       "      <td>3279.0</td>\n",
       "      <td>0</td>\n",
       "      <td>0</td>\n",
       "      <td>bi6</td>\n",
       "      <td>......(((........)))((((((.((....))))))))...((...</td>\n",
       "      <td>-17.7</td>\n",
       "      <td>[0, 1, 2, 3, 4, 5, 6, 7, 8, 9, 10, 11, 12, 13,...</td>\n",
       "      <td>472_3576-O-flank_1=bi6-cag-DB</td>\n",
       "    </tr>\n",
       "  </tbody>\n",
       "</table>\n",
       "<p>2 rows × 93 columns</p>\n",
       "</div>"
      ],
      "text/plain": [
       "      sample                  construct  \\\n",
       "13       470  3576-O-flank_1=bi6-cag-DB   \n",
       "1270     472  3576-O-flank_1=bi6-cag-DB   \n",
       "\n",
       "                                               sequence  \\\n",
       "13    TTAAACCGGCCAACATACCGCATATGAGGATCACCCATATGCTCGC...   \n",
       "1270  TTAAACCGGCCAACATACCGCATATGAGGATCACCCATATGCTCGC...   \n",
       "\n",
       "                                              structure data_type  num_reads  \\\n",
       "13    ......(((........)))((((((.((....))))))))...((...       DMS       2800   \n",
       "1270  ......(((........)))((((((.((....))))))))...((...       DMS       3879   \n",
       "\n",
       "      num_aligned                                   num_of_mutations  \\\n",
       "13           2798  [255, 652, 808, 612, 294, 127, 37, 10, 0, 3, 0...   \n",
       "1270         3874  [328, 956, 1035, 842, 420, 175, 98, 14, 6, 0, ...   \n",
       "\n",
       "                                              mut_bases  \\\n",
       "13    [0.0, 0.0, 0.0, 0.0, 0.0, 0.0, 1.0, 0.0, 1.0, ...   \n",
       "1270  [0.0, 0.0, 0.0, 0.0, 0.0, 0.0, 0.0, 0.0, 0.0, ...   \n",
       "\n",
       "                                             info_bases  ...  \\\n",
       "13    [2516.0, 2670.0, 2700.0, 2774.0, 2787.0, 2788....  ...   \n",
       "1270  [3562.0, 3733.0, 3759.0, 3842.0, 3858.0, 3860....  ...   \n",
       "\n",
       "                                            mod_bases_T  \\\n",
       "13    [0.0, 0.0, 0.0, 0.0, 0.0, 0.0, 0.0, 0.0, 0.0, ...   \n",
       "1270  [0.0, 0.0, 0.0, 0.0, 0.0, 0.0, 0.0, 0.0, 0.0, ...   \n",
       "\n",
       "                                              mut_rates worst_cov_bases  \\\n",
       "13    [0.0, 0.0, 0.0, 0.0, 0.0, 0.0, 0.00035868, 0.0...          2487.0   \n",
       "1270  [0.0, 0.0, 0.0, 0.0, 0.0, 0.0, 0.0, 0.0, 0.0, ...          3279.0   \n",
       "\n",
       "      section  cluster family  \\\n",
       "13          0        0    bi6   \n",
       "1270        0        0    bi6   \n",
       "\n",
       "                                     structure_selected deltaG_selected  \\\n",
       "13    ......(((........)))((((((.((....))))))))...((...           -17.7   \n",
       "1270  ......(((........)))((((((.((....))))))))...((...           -17.7   \n",
       "\n",
       "                                         index_selected  \\\n",
       "13    [0, 1, 2, 3, 4, 5, 6, 7, 8, 9, 10, 11, 12, 13,...   \n",
       "1270  [0, 1, 2, 3, 4, 5, 6, 7, 8, 9, 10, 11, 12, 13,...   \n",
       "\n",
       "                          unique_id  \n",
       "13    470_3576-O-flank_1=bi6-cag-DB  \n",
       "1270  472_3576-O-flank_1=bi6-cag-DB  \n",
       "\n",
       "[2 rows x 93 columns]"
      ]
     },
     "execution_count": 7,
     "metadata": {},
     "output_type": "execute_result"
    }
   ],
   "source": [
    "\n",
    "df = study.get_df()\n",
    "df = df[df['sample'] == 470]    \n",
    "df = df[df['construct'] == '3576-O-flank_1=bi6-cag-DB']\n",
    "df1 = df\n",
    "\n",
    "df = study.get_df()\n",
    "df = df[df['sample'] == 472]\n",
    "df = df[df['construct'] == '3576-O-flank_1=bi6-cag-DB']\n",
    "df2 = df\n",
    "\n",
    "df = pd.concat([df1, df2])\n",
    "df\n",
    "\n"
   ]
  },
  {
   "cell_type": "code",
   "execution_count": 8,
   "metadata": {},
   "outputs": [
    {
     "data": {
      "application/vnd.plotly.v1+json": {
       "config": {
        "linkText": "Export to plot.ly",
        "plotlyServerURL": "https://plot.ly",
        "showLink": false
       },
       "data": [
        {
         "hovertemplate": "<b>mut_rate: %{text[0]}<br><b>base: %{text[1]}<br>",
         "marker": {
          "color": "blue"
         },
         "name": "C",
         "text": [
          [
           -0.0033665200000000013,
           "C"
          ],
          [
           0.01194031,
           "C"
          ],
          [
           0.0016016,
           "C"
          ],
          [
           -0.02049886,
           "C"
          ],
          [
           -0.008499240000000002,
           "C"
          ],
          [
           0.025202649999999993,
           "C"
          ]
         ],
         "type": "bar",
         "x": [
          1,
          2,
          3,
          6,
          7,
          12
         ],
         "y": [
          -0.0033665200000000013,
          0.01194031,
          0.0016016,
          -0.02049886,
          -0.008499240000000002,
          0.025202649999999993
         ]
        },
        {
         "hovertemplate": "<b>mut_rate: %{text[0]}<br><b>base: %{text[1]}<br>",
         "marker": {
          "color": "red"
         },
         "name": "A",
         "text": [
          [
           -0.0036469600000000046,
           "A"
          ],
          [
           -0.00250151,
           "A"
          ],
          [
           -0.005644769999999999,
           "A"
          ],
          [
           -0.00276241,
           "A"
          ],
          [
           0.002096549999999999,
           "A"
          ],
          [
           0.004596570000000001,
           "A"
          ],
          [
           0.024541889999999997,
           "A"
          ]
         ],
         "type": "bar",
         "x": [
          0,
          4,
          5,
          8,
          9,
          10,
          11
         ],
         "y": [
          -0.0036469600000000046,
          -0.00250151,
          -0.005644769999999999,
          -0.00276241,
          0.002096549999999999,
          0.004596570000000001,
          0.024541889999999997
         ]
        }
       ],
       "layout": {
        "template": {
         "data": {
          "bar": [
           {
            "error_x": {
             "color": "#2a3f5f"
            },
            "error_y": {
             "color": "#2a3f5f"
            },
            "marker": {
             "line": {
              "color": "#E5ECF6",
              "width": 0.5
             },
             "pattern": {
              "fillmode": "overlay",
              "size": 10,
              "solidity": 0.2
             }
            },
            "type": "bar"
           }
          ],
          "barpolar": [
           {
            "marker": {
             "line": {
              "color": "#E5ECF6",
              "width": 0.5
             },
             "pattern": {
              "fillmode": "overlay",
              "size": 10,
              "solidity": 0.2
             }
            },
            "type": "barpolar"
           }
          ],
          "carpet": [
           {
            "aaxis": {
             "endlinecolor": "#2a3f5f",
             "gridcolor": "white",
             "linecolor": "white",
             "minorgridcolor": "white",
             "startlinecolor": "#2a3f5f"
            },
            "baxis": {
             "endlinecolor": "#2a3f5f",
             "gridcolor": "white",
             "linecolor": "white",
             "minorgridcolor": "white",
             "startlinecolor": "#2a3f5f"
            },
            "type": "carpet"
           }
          ],
          "choropleth": [
           {
            "colorbar": {
             "outlinewidth": 0,
             "ticks": ""
            },
            "type": "choropleth"
           }
          ],
          "contour": [
           {
            "colorbar": {
             "outlinewidth": 0,
             "ticks": ""
            },
            "colorscale": [
             [
              0,
              "#0d0887"
             ],
             [
              0.1111111111111111,
              "#46039f"
             ],
             [
              0.2222222222222222,
              "#7201a8"
             ],
             [
              0.3333333333333333,
              "#9c179e"
             ],
             [
              0.4444444444444444,
              "#bd3786"
             ],
             [
              0.5555555555555556,
              "#d8576b"
             ],
             [
              0.6666666666666666,
              "#ed7953"
             ],
             [
              0.7777777777777778,
              "#fb9f3a"
             ],
             [
              0.8888888888888888,
              "#fdca26"
             ],
             [
              1,
              "#f0f921"
             ]
            ],
            "type": "contour"
           }
          ],
          "contourcarpet": [
           {
            "colorbar": {
             "outlinewidth": 0,
             "ticks": ""
            },
            "type": "contourcarpet"
           }
          ],
          "heatmap": [
           {
            "colorbar": {
             "outlinewidth": 0,
             "ticks": ""
            },
            "colorscale": [
             [
              0,
              "#0d0887"
             ],
             [
              0.1111111111111111,
              "#46039f"
             ],
             [
              0.2222222222222222,
              "#7201a8"
             ],
             [
              0.3333333333333333,
              "#9c179e"
             ],
             [
              0.4444444444444444,
              "#bd3786"
             ],
             [
              0.5555555555555556,
              "#d8576b"
             ],
             [
              0.6666666666666666,
              "#ed7953"
             ],
             [
              0.7777777777777778,
              "#fb9f3a"
             ],
             [
              0.8888888888888888,
              "#fdca26"
             ],
             [
              1,
              "#f0f921"
             ]
            ],
            "type": "heatmap"
           }
          ],
          "heatmapgl": [
           {
            "colorbar": {
             "outlinewidth": 0,
             "ticks": ""
            },
            "colorscale": [
             [
              0,
              "#0d0887"
             ],
             [
              0.1111111111111111,
              "#46039f"
             ],
             [
              0.2222222222222222,
              "#7201a8"
             ],
             [
              0.3333333333333333,
              "#9c179e"
             ],
             [
              0.4444444444444444,
              "#bd3786"
             ],
             [
              0.5555555555555556,
              "#d8576b"
             ],
             [
              0.6666666666666666,
              "#ed7953"
             ],
             [
              0.7777777777777778,
              "#fb9f3a"
             ],
             [
              0.8888888888888888,
              "#fdca26"
             ],
             [
              1,
              "#f0f921"
             ]
            ],
            "type": "heatmapgl"
           }
          ],
          "histogram": [
           {
            "marker": {
             "pattern": {
              "fillmode": "overlay",
              "size": 10,
              "solidity": 0.2
             }
            },
            "type": "histogram"
           }
          ],
          "histogram2d": [
           {
            "colorbar": {
             "outlinewidth": 0,
             "ticks": ""
            },
            "colorscale": [
             [
              0,
              "#0d0887"
             ],
             [
              0.1111111111111111,
              "#46039f"
             ],
             [
              0.2222222222222222,
              "#7201a8"
             ],
             [
              0.3333333333333333,
              "#9c179e"
             ],
             [
              0.4444444444444444,
              "#bd3786"
             ],
             [
              0.5555555555555556,
              "#d8576b"
             ],
             [
              0.6666666666666666,
              "#ed7953"
             ],
             [
              0.7777777777777778,
              "#fb9f3a"
             ],
             [
              0.8888888888888888,
              "#fdca26"
             ],
             [
              1,
              "#f0f921"
             ]
            ],
            "type": "histogram2d"
           }
          ],
          "histogram2dcontour": [
           {
            "colorbar": {
             "outlinewidth": 0,
             "ticks": ""
            },
            "colorscale": [
             [
              0,
              "#0d0887"
             ],
             [
              0.1111111111111111,
              "#46039f"
             ],
             [
              0.2222222222222222,
              "#7201a8"
             ],
             [
              0.3333333333333333,
              "#9c179e"
             ],
             [
              0.4444444444444444,
              "#bd3786"
             ],
             [
              0.5555555555555556,
              "#d8576b"
             ],
             [
              0.6666666666666666,
              "#ed7953"
             ],
             [
              0.7777777777777778,
              "#fb9f3a"
             ],
             [
              0.8888888888888888,
              "#fdca26"
             ],
             [
              1,
              "#f0f921"
             ]
            ],
            "type": "histogram2dcontour"
           }
          ],
          "mesh3d": [
           {
            "colorbar": {
             "outlinewidth": 0,
             "ticks": ""
            },
            "type": "mesh3d"
           }
          ],
          "parcoords": [
           {
            "line": {
             "colorbar": {
              "outlinewidth": 0,
              "ticks": ""
             }
            },
            "type": "parcoords"
           }
          ],
          "pie": [
           {
            "automargin": true,
            "type": "pie"
           }
          ],
          "scatter": [
           {
            "fillpattern": {
             "fillmode": "overlay",
             "size": 10,
             "solidity": 0.2
            },
            "type": "scatter"
           }
          ],
          "scatter3d": [
           {
            "line": {
             "colorbar": {
              "outlinewidth": 0,
              "ticks": ""
             }
            },
            "marker": {
             "colorbar": {
              "outlinewidth": 0,
              "ticks": ""
             }
            },
            "type": "scatter3d"
           }
          ],
          "scattercarpet": [
           {
            "marker": {
             "colorbar": {
              "outlinewidth": 0,
              "ticks": ""
             }
            },
            "type": "scattercarpet"
           }
          ],
          "scattergeo": [
           {
            "marker": {
             "colorbar": {
              "outlinewidth": 0,
              "ticks": ""
             }
            },
            "type": "scattergeo"
           }
          ],
          "scattergl": [
           {
            "marker": {
             "colorbar": {
              "outlinewidth": 0,
              "ticks": ""
             }
            },
            "type": "scattergl"
           }
          ],
          "scattermapbox": [
           {
            "marker": {
             "colorbar": {
              "outlinewidth": 0,
              "ticks": ""
             }
            },
            "type": "scattermapbox"
           }
          ],
          "scatterpolar": [
           {
            "marker": {
             "colorbar": {
              "outlinewidth": 0,
              "ticks": ""
             }
            },
            "type": "scatterpolar"
           }
          ],
          "scatterpolargl": [
           {
            "marker": {
             "colorbar": {
              "outlinewidth": 0,
              "ticks": ""
             }
            },
            "type": "scatterpolargl"
           }
          ],
          "scatterternary": [
           {
            "marker": {
             "colorbar": {
              "outlinewidth": 0,
              "ticks": ""
             }
            },
            "type": "scatterternary"
           }
          ],
          "surface": [
           {
            "colorbar": {
             "outlinewidth": 0,
             "ticks": ""
            },
            "colorscale": [
             [
              0,
              "#0d0887"
             ],
             [
              0.1111111111111111,
              "#46039f"
             ],
             [
              0.2222222222222222,
              "#7201a8"
             ],
             [
              0.3333333333333333,
              "#9c179e"
             ],
             [
              0.4444444444444444,
              "#bd3786"
             ],
             [
              0.5555555555555556,
              "#d8576b"
             ],
             [
              0.6666666666666666,
              "#ed7953"
             ],
             [
              0.7777777777777778,
              "#fb9f3a"
             ],
             [
              0.8888888888888888,
              "#fdca26"
             ],
             [
              1,
              "#f0f921"
             ]
            ],
            "type": "surface"
           }
          ],
          "table": [
           {
            "cells": {
             "fill": {
              "color": "#EBF0F8"
             },
             "line": {
              "color": "white"
             }
            },
            "header": {
             "fill": {
              "color": "#C8D4E3"
             },
             "line": {
              "color": "white"
             }
            },
            "type": "table"
           }
          ]
         },
         "layout": {
          "annotationdefaults": {
           "arrowcolor": "#2a3f5f",
           "arrowhead": 0,
           "arrowwidth": 1
          },
          "autotypenumbers": "strict",
          "coloraxis": {
           "colorbar": {
            "outlinewidth": 0,
            "ticks": ""
           }
          },
          "colorscale": {
           "diverging": [
            [
             0,
             "#8e0152"
            ],
            [
             0.1,
             "#c51b7d"
            ],
            [
             0.2,
             "#de77ae"
            ],
            [
             0.3,
             "#f1b6da"
            ],
            [
             0.4,
             "#fde0ef"
            ],
            [
             0.5,
             "#f7f7f7"
            ],
            [
             0.6,
             "#e6f5d0"
            ],
            [
             0.7,
             "#b8e186"
            ],
            [
             0.8,
             "#7fbc41"
            ],
            [
             0.9,
             "#4d9221"
            ],
            [
             1,
             "#276419"
            ]
           ],
           "sequential": [
            [
             0,
             "#0d0887"
            ],
            [
             0.1111111111111111,
             "#46039f"
            ],
            [
             0.2222222222222222,
             "#7201a8"
            ],
            [
             0.3333333333333333,
             "#9c179e"
            ],
            [
             0.4444444444444444,
             "#bd3786"
            ],
            [
             0.5555555555555556,
             "#d8576b"
            ],
            [
             0.6666666666666666,
             "#ed7953"
            ],
            [
             0.7777777777777778,
             "#fb9f3a"
            ],
            [
             0.8888888888888888,
             "#fdca26"
            ],
            [
             1,
             "#f0f921"
            ]
           ],
           "sequentialminus": [
            [
             0,
             "#0d0887"
            ],
            [
             0.1111111111111111,
             "#46039f"
            ],
            [
             0.2222222222222222,
             "#7201a8"
            ],
            [
             0.3333333333333333,
             "#9c179e"
            ],
            [
             0.4444444444444444,
             "#bd3786"
            ],
            [
             0.5555555555555556,
             "#d8576b"
            ],
            [
             0.6666666666666666,
             "#ed7953"
            ],
            [
             0.7777777777777778,
             "#fb9f3a"
            ],
            [
             0.8888888888888888,
             "#fdca26"
            ],
            [
             1,
             "#f0f921"
            ]
           ]
          },
          "colorway": [
           "#636efa",
           "#EF553B",
           "#00cc96",
           "#ab63fa",
           "#FFA15A",
           "#19d3f3",
           "#FF6692",
           "#B6E880",
           "#FF97FF",
           "#FECB52"
          ],
          "font": {
           "color": "#2a3f5f"
          },
          "geo": {
           "bgcolor": "white",
           "lakecolor": "white",
           "landcolor": "#E5ECF6",
           "showlakes": true,
           "showland": true,
           "subunitcolor": "white"
          },
          "hoverlabel": {
           "align": "left"
          },
          "hovermode": "closest",
          "mapbox": {
           "style": "light"
          },
          "paper_bgcolor": "white",
          "plot_bgcolor": "#E5ECF6",
          "polar": {
           "angularaxis": {
            "gridcolor": "white",
            "linecolor": "white",
            "ticks": ""
           },
           "bgcolor": "#E5ECF6",
           "radialaxis": {
            "gridcolor": "white",
            "linecolor": "white",
            "ticks": ""
           }
          },
          "scene": {
           "xaxis": {
            "backgroundcolor": "#E5ECF6",
            "gridcolor": "white",
            "gridwidth": 2,
            "linecolor": "white",
            "showbackground": true,
            "ticks": "",
            "zerolinecolor": "white"
           },
           "yaxis": {
            "backgroundcolor": "#E5ECF6",
            "gridcolor": "white",
            "gridwidth": 2,
            "linecolor": "white",
            "showbackground": true,
            "ticks": "",
            "zerolinecolor": "white"
           },
           "zaxis": {
            "backgroundcolor": "#E5ECF6",
            "gridcolor": "white",
            "gridwidth": 2,
            "linecolor": "white",
            "showbackground": true,
            "ticks": "",
            "zerolinecolor": "white"
           }
          },
          "shapedefaults": {
           "line": {
            "color": "#2a3f5f"
           }
          },
          "ternary": {
           "aaxis": {
            "gridcolor": "white",
            "linecolor": "white",
            "ticks": ""
           },
           "baxis": {
            "gridcolor": "white",
            "linecolor": "white",
            "ticks": ""
           },
           "bgcolor": "#E5ECF6",
           "caxis": {
            "gridcolor": "white",
            "linecolor": "white",
            "ticks": ""
           }
          },
          "title": {
           "x": 0.05
          },
          "xaxis": {
           "automargin": true,
           "gridcolor": "white",
           "linecolor": "white",
           "ticks": "",
           "title": {
            "standoff": 15
           },
           "zerolinecolor": "white",
           "zerolinewidth": 2
          },
          "yaxis": {
           "automargin": true,
           "gridcolor": "white",
           "linecolor": "white",
           "ticks": "",
           "title": {
            "standoff": 15
           },
           "zerolinecolor": "white",
           "zerolinewidth": 2
          }
         }
        },
        "title": {
         "text": "470 - 3576-O-flank_1=bi6-cag-DB - 0 - 0 vs 472 - 3576-O-flank_1=bi6-cag-DB - 0 - 0"
        },
        "xaxis": {
         "autorange": true,
         "linecolor": "black",
         "linewidth": 1,
         "mirror": true,
         "title": {
          "text": "Sequence"
         }
        },
        "yaxis": {
         "autorange": true,
         "gridcolor": "lightgray",
         "linecolor": "black",
         "linewidth": 1,
         "mirror": true,
         "range": [
          0,
          0.1
         ],
         "title": {
          "text": "Mutation rate"
         }
        }
       }
      }
     },
     "metadata": {},
     "output_type": "display_data"
    },
    {
     "data": {
      "text/plain": [
       "{'fig': Figure({\n",
       "     'data': [{'hovertemplate': '<b>mut_rate: %{text[0]}<br><b>base: %{text[1]}<br>',\n",
       "               'marker': {'color': 'blue'},\n",
       "               'name': 'C',\n",
       "               'text': array([[-0.0033665200000000013, 'C'],\n",
       "                              [0.01194031, 'C'],\n",
       "                              [0.0016016, 'C'],\n",
       "                              [-0.02049886, 'C'],\n",
       "                              [-0.008499240000000002, 'C'],\n",
       "                              [0.025202649999999993, 'C']], dtype=object),\n",
       "               'type': 'bar',\n",
       "               'x': array([ 1,  2,  3,  6,  7, 12]),\n",
       "               'y': array([-0.00336652,  0.01194031,  0.0016016 , -0.02049886, -0.00849924,\n",
       "                            0.02520265])},\n",
       "              {'hovertemplate': '<b>mut_rate: %{text[0]}<br><b>base: %{text[1]}<br>',\n",
       "               'marker': {'color': 'red'},\n",
       "               'name': 'A',\n",
       "               'text': array([[-0.0036469600000000046, 'A'],\n",
       "                              [-0.00250151, 'A'],\n",
       "                              [-0.005644769999999999, 'A'],\n",
       "                              [-0.00276241, 'A'],\n",
       "                              [0.002096549999999999, 'A'],\n",
       "                              [0.004596570000000001, 'A'],\n",
       "                              [0.024541889999999997, 'A']], dtype=object),\n",
       "               'type': 'bar',\n",
       "               'x': array([ 0,  4,  5,  8,  9, 10, 11]),\n",
       "               'y': array([-0.00364696, -0.00250151, -0.00564477, -0.00276241,  0.00209655,\n",
       "                            0.00459657,  0.02454189])}],\n",
       "     'layout': {'template': '...',\n",
       "                'title': {'text': '470 - 3576-O-flank_1=bi6-cag-DB - 0 - 0 vs 472 - 3576-O-flank_1=bi6-cag-DB - 0 - 0'},\n",
       "                'xaxis': {'autorange': True,\n",
       "                          'linecolor': 'black',\n",
       "                          'linewidth': 1,\n",
       "                          'mirror': True,\n",
       "                          'title': {'text': 'Sequence'}},\n",
       "                'yaxis': {'autorange': True,\n",
       "                          'gridcolor': 'lightgray',\n",
       "                          'linecolor': 'black',\n",
       "                          'linewidth': 1,\n",
       "                          'mirror': True,\n",
       "                          'range': [0, 0.1],\n",
       "                          'title': {'text': 'Mutation rate'}}}\n",
       " }),\n",
       " 'df': mut_rates    [-0.0036469600000000046, -0.003366520000000001...\n",
       " sequence                                         ACCCAACCAAAAC\n",
       " title        470 - 3576-O-flank_1=bi6-cag-DB - 0 - 0 vs 472...\n",
       " dtype: object}"
      ]
     },
     "execution_count": 8,
     "metadata": {},
     "output_type": "execute_result"
    }
   ],
   "source": [
    "study.mutation_fraction_delta(  \n",
    "                            sample0=470,\n",
    "                            sample1=472,   \n",
    "                            construct0='3576-O-flank_1=bi6-cag-DB',\n",
    "                            construct1='3576-O-flank_1=bi6-cag-DB',\n",
    "                            base_index0=list(range(19,42)),\n",
    "                            base_index1=list(range(19,42)),\n",
    "                            base_type0=['A','C'],\n",
    "                            base_type1=['A','C']\n",
    "                            )"
   ]
  },
  {
   "cell_type": "code",
   "execution_count": null,
   "metadata": {},
   "outputs": [],
   "source": []
  }
 ],
 "metadata": {
  "kernelspec": {
   "display_name": "Python 3.10.5 ('venv-nap': venv)",
   "language": "python",
   "name": "python3"
  },
  "language_info": {
   "codemirror_mode": {
    "name": "ipython",
    "version": 3
   },
   "file_extension": ".py",
   "mimetype": "text/x-python",
   "name": "python",
   "nbconvert_exporter": "python",
   "pygments_lexer": "ipython3",
   "version": "3.10.5"
  },
  "orig_nbformat": 4,
  "vscode": {
   "interpreter": {
    "hash": "228ea3748f49093993f7ca989c09e25264db3703291e3a4aaa931dd28b2eaabc"
   }
  }
 },
 "nbformat": 4,
 "nbformat_minor": 2
}
